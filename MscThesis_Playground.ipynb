{
  "cells": [
    {
      "cell_type": "markdown",
      "metadata": {
        "id": "view-in-github",
        "colab_type": "text"
      },
      "source": [
        "<a href=\"https://colab.research.google.com/github/brianbaert/MscThesis/blob/main/MscThesis_Playground.ipynb\" target=\"_parent\"><img src=\"https://colab.research.google.com/assets/colab-badge.svg\" alt=\"Open In Colab\"/></a>"
      ]
    },
    {
      "cell_type": "markdown",
      "metadata": {
        "id": "qOAiIcv_lMu8"
      },
      "source": [
        "# Packages"
      ]
    },
    {
      "cell_type": "code",
      "execution_count": 1,
      "metadata": {
        "colab": {
          "base_uri": "https://localhost:8080/"
        },
        "id": "LiPWZMxjETE3",
        "outputId": "e8004f85-116e-4d61-fa31-f4846e159f79"
      },
      "outputs": [
        {
          "output_type": "stream",
          "name": "stdout",
          "text": [
            "Python 3.10.12\n"
          ]
        }
      ],
      "source": [
        "!python --version"
      ]
    },
    {
      "cell_type": "code",
      "execution_count": 2,
      "metadata": {
        "id": "P6lu0g2-XF2A",
        "colab": {
          "base_uri": "https://localhost:8080/"
        },
        "outputId": "1fdfbaca-5eee-4c83-931b-07a9a94c36b7"
      },
      "outputs": [
        {
          "output_type": "stream",
          "name": "stdout",
          "text": [
            "Collecting avalanche_lib[all]\n",
            "  Downloading avalanche_lib-0.5.0-py3-none-any.whl (971 kB)\n",
            "\u001b[?25l     \u001b[90m━━━━━━━━━━━━━━━━━━━━━━━━━━━━━━━━━━━━━━━━\u001b[0m \u001b[32m0.0/971.9 kB\u001b[0m \u001b[31m?\u001b[0m eta \u001b[36m-:--:--\u001b[0m\r\u001b[2K     \u001b[91m━━━\u001b[0m\u001b[91m╸\u001b[0m\u001b[90m━━━━━━━━━━━━━━━━━━━━━━━━━━━━━━━━━━━━\u001b[0m \u001b[32m92.2/971.9 kB\u001b[0m \u001b[31m2.5 MB/s\u001b[0m eta \u001b[36m0:00:01\u001b[0m\r\u001b[2K     \u001b[91m━━━━━━━━━━━━━━━━━━━━━━━━━━━━━━━━━━━━━━━\u001b[0m\u001b[91m╸\u001b[0m \u001b[32m962.6/971.9 kB\u001b[0m \u001b[31m17.5 MB/s\u001b[0m eta \u001b[36m0:00:01\u001b[0m\r\u001b[2K     \u001b[90m━━━━━━━━━━━━━━━━━━━━━━━━━━━━━━━━━━━━━━━━\u001b[0m \u001b[32m971.9/971.9 kB\u001b[0m \u001b[31m13.5 MB/s\u001b[0m eta \u001b[36m0:00:00\u001b[0m\n",
            "\u001b[?25hRequirement already satisfied: typing-extensions>=4.6.0 in /usr/local/lib/python3.10/dist-packages (from avalanche_lib[all]) (4.10.0)\n",
            "Requirement already satisfied: psutil in /usr/local/lib/python3.10/dist-packages (from avalanche_lib[all]) (5.9.5)\n",
            "Collecting gputil (from avalanche_lib[all])\n",
            "  Downloading GPUtil-1.4.0.tar.gz (5.5 kB)\n",
            "  Preparing metadata (setup.py) ... \u001b[?25l\u001b[?25hdone\n",
            "Requirement already satisfied: scikit-learn in /usr/local/lib/python3.10/dist-packages (from avalanche_lib[all]) (1.2.2)\n",
            "Requirement already satisfied: matplotlib in /usr/local/lib/python3.10/dist-packages (from avalanche_lib[all]) (3.7.1)\n",
            "Requirement already satisfied: numpy in /usr/local/lib/python3.10/dist-packages (from avalanche_lib[all]) (1.25.2)\n",
            "Collecting pytorchcv (from avalanche_lib[all])\n",
            "  Downloading pytorchcv-0.0.67-py2.py3-none-any.whl (532 kB)\n",
            "\u001b[2K     \u001b[90m━━━━━━━━━━━━━━━━━━━━━━━━━━━━━━━━━━━━━━━━\u001b[0m \u001b[32m532.4/532.4 kB\u001b[0m \u001b[31m39.9 MB/s\u001b[0m eta \u001b[36m0:00:00\u001b[0m\n",
            "\u001b[?25hCollecting wandb (from avalanche_lib[all])\n",
            "  Downloading wandb-0.16.4-py3-none-any.whl (2.2 MB)\n",
            "\u001b[2K     \u001b[90m━━━━━━━━━━━━━━━━━━━━━━━━━━━━━━━━━━━━━━━━\u001b[0m \u001b[32m2.2/2.2 MB\u001b[0m \u001b[31m37.1 MB/s\u001b[0m eta \u001b[36m0:00:00\u001b[0m\n",
            "\u001b[?25hRequirement already satisfied: tensorboard>=1.15 in /usr/local/lib/python3.10/dist-packages (from avalanche_lib[all]) (2.15.2)\n",
            "Requirement already satisfied: tqdm in /usr/local/lib/python3.10/dist-packages (from avalanche_lib[all]) (4.66.2)\n",
            "Requirement already satisfied: torch in /usr/local/lib/python3.10/dist-packages (from avalanche_lib[all]) (2.2.1+cu121)\n",
            "Requirement already satisfied: torchvision in /usr/local/lib/python3.10/dist-packages (from avalanche_lib[all]) (0.17.1+cu121)\n",
            "Collecting torchmetrics (from avalanche_lib[all])\n",
            "  Downloading torchmetrics-1.3.2-py3-none-any.whl (841 kB)\n",
            "\u001b[2K     \u001b[90m━━━━━━━━━━━━━━━━━━━━━━━━━━━━━━━━━━━━━━━━\u001b[0m \u001b[32m841.5/841.5 kB\u001b[0m \u001b[31m39.5 MB/s\u001b[0m eta \u001b[36m0:00:00\u001b[0m\n",
            "\u001b[?25hRequirement already satisfied: gdown in /usr/local/lib/python3.10/dist-packages (from avalanche_lib[all]) (4.7.3)\n",
            "Collecting qpsolvers[open_source_solvers] (from avalanche_lib[all])\n",
            "  Downloading qpsolvers-4.3.1-py3-none-any.whl (78 kB)\n",
            "\u001b[2K     \u001b[90m━━━━━━━━━━━━━━━━━━━━━━━━━━━━━━━━━━━━━━━━\u001b[0m \u001b[32m78.7/78.7 kB\u001b[0m \u001b[31m3.4 MB/s\u001b[0m eta \u001b[36m0:00:00\u001b[0m\n",
            "\u001b[?25hCollecting dill (from avalanche_lib[all])\n",
            "  Downloading dill-0.3.8-py3-none-any.whl (116 kB)\n",
            "\u001b[2K     \u001b[90m━━━━━━━━━━━━━━━━━━━━━━━━━━━━━━━━━━━━━━━━\u001b[0m \u001b[32m116.3/116.3 kB\u001b[0m \u001b[31m9.6 MB/s\u001b[0m eta \u001b[36m0:00:00\u001b[0m\n",
            "\u001b[?25hRequirement already satisfied: packaging in /usr/local/lib/python3.10/dist-packages (from avalanche_lib[all]) (24.0)\n",
            "Collecting ctrl-benchmark (from avalanche_lib[all])\n",
            "  Downloading ctrl_benchmark-0.0.4-py3-none-any.whl (50 kB)\n",
            "\u001b[2K     \u001b[90m━━━━━━━━━━━━━━━━━━━━━━━━━━━━━━━━━━━━━━━━\u001b[0m \u001b[32m51.0/51.0 kB\u001b[0m \u001b[31m3.4 MB/s\u001b[0m eta \u001b[36m0:00:00\u001b[0m\n",
            "\u001b[?25hRequirement already satisfied: sphinx in /usr/local/lib/python3.10/dist-packages (from avalanche_lib[all]) (5.0.2)\n",
            "Collecting sphinx-autoapi (from avalanche_lib[all])\n",
            "  Downloading sphinx_autoapi-3.0.0-py2.py3-none-any.whl (35 kB)\n",
            "Collecting sphinx-rtd-theme (from avalanche_lib[all])\n",
            "  Downloading sphinx_rtd_theme-2.0.0-py2.py3-none-any.whl (2.8 MB)\n",
            "\u001b[2K     \u001b[90m━━━━━━━━━━━━━━━━━━━━━━━━━━━━━━━━━━━━━━━━\u001b[0m \u001b[32m2.8/2.8 MB\u001b[0m \u001b[31m29.1 MB/s\u001b[0m eta \u001b[36m0:00:00\u001b[0m\n",
            "\u001b[?25hCollecting timm (from avalanche_lib[all])\n",
            "  Downloading timm-0.9.16-py3-none-any.whl (2.2 MB)\n",
            "\u001b[2K     \u001b[90m━━━━━━━━━━━━━━━━━━━━━━━━━━━━━━━━━━━━━━━━\u001b[0m \u001b[32m2.2/2.2 MB\u001b[0m \u001b[31m30.7 MB/s\u001b[0m eta \u001b[36m0:00:00\u001b[0m\n",
            "\u001b[?25hRequirement already satisfied: gym in /usr/local/lib/python3.10/dist-packages (from avalanche_lib[all]) (0.25.2)\n",
            "Collecting higher (from avalanche_lib[all])\n",
            "  Downloading higher-0.2.1-py3-none-any.whl (27 kB)\n",
            "Requirement already satisfied: pycocotools in /usr/local/lib/python3.10/dist-packages (from avalanche_lib[all]) (2.0.7)\n",
            "Collecting lvis (from avalanche_lib[all])\n",
            "  Downloading lvis-0.5.3-py3-none-any.whl (14 kB)\n",
            "Requirement already satisfied: torchaudio in /usr/local/lib/python3.10/dist-packages (from avalanche_lib[all]) (2.2.1+cu121)\n",
            "Collecting sphinx-copybutton (from avalanche_lib[all])\n",
            "  Downloading sphinx_copybutton-0.5.2-py3-none-any.whl (13 kB)\n",
            "Requirement already satisfied: absl-py>=0.4 in /usr/local/lib/python3.10/dist-packages (from tensorboard>=1.15->avalanche_lib[all]) (1.4.0)\n",
            "Requirement already satisfied: grpcio>=1.48.2 in /usr/local/lib/python3.10/dist-packages (from tensorboard>=1.15->avalanche_lib[all]) (1.62.1)\n",
            "Requirement already satisfied: google-auth<3,>=1.6.3 in /usr/local/lib/python3.10/dist-packages (from tensorboard>=1.15->avalanche_lib[all]) (2.27.0)\n",
            "Requirement already satisfied: google-auth-oauthlib<2,>=0.5 in /usr/local/lib/python3.10/dist-packages (from tensorboard>=1.15->avalanche_lib[all]) (1.2.0)\n",
            "Requirement already satisfied: markdown>=2.6.8 in /usr/local/lib/python3.10/dist-packages (from tensorboard>=1.15->avalanche_lib[all]) (3.6)\n",
            "Requirement already satisfied: protobuf!=4.24.0,>=3.19.6 in /usr/local/lib/python3.10/dist-packages (from tensorboard>=1.15->avalanche_lib[all]) (3.20.3)\n",
            "Requirement already satisfied: requests<3,>=2.21.0 in /usr/local/lib/python3.10/dist-packages (from tensorboard>=1.15->avalanche_lib[all]) (2.31.0)\n",
            "Requirement already satisfied: setuptools>=41.0.0 in /usr/local/lib/python3.10/dist-packages (from tensorboard>=1.15->avalanche_lib[all]) (67.7.2)\n",
            "Requirement already satisfied: six>1.9 in /usr/local/lib/python3.10/dist-packages (from tensorboard>=1.15->avalanche_lib[all]) (1.16.0)\n",
            "Requirement already satisfied: tensorboard-data-server<0.8.0,>=0.7.0 in /usr/local/lib/python3.10/dist-packages (from tensorboard>=1.15->avalanche_lib[all]) (0.7.2)\n",
            "Requirement already satisfied: werkzeug>=1.0.1 in /usr/local/lib/python3.10/dist-packages (from tensorboard>=1.15->avalanche_lib[all]) (3.0.1)\n",
            "Requirement already satisfied: pyyaml in /usr/local/lib/python3.10/dist-packages (from ctrl-benchmark->avalanche_lib[all]) (6.0.1)\n",
            "Collecting torch (from avalanche_lib[all])\n",
            "  Downloading torch-1.13.1-cp310-cp310-manylinux1_x86_64.whl (887.5 MB)\n",
            "\u001b[2K     \u001b[90m━━━━━━━━━━━━━━━━━━━━━━━━━━━━━━━━━━━━━━━━\u001b[0m \u001b[32m887.5/887.5 MB\u001b[0m \u001b[31m1.3 MB/s\u001b[0m eta \u001b[36m0:00:00\u001b[0m\n",
            "\u001b[?25hCollecting networkx<3,>2 (from ctrl-benchmark->avalanche_lib[all])\n",
            "  Downloading networkx-2.8.8-py3-none-any.whl (2.0 MB)\n",
            "\u001b[2K     \u001b[90m━━━━━━━━━━━━━━━━━━━━━━━━━━━━━━━━━━━━━━━━\u001b[0m \u001b[32m2.0/2.0 MB\u001b[0m \u001b[31m59.7 MB/s\u001b[0m eta \u001b[36m0:00:00\u001b[0m\n",
            "\u001b[?25hRequirement already satisfied: plotly in /usr/local/lib/python3.10/dist-packages (from ctrl-benchmark->avalanche_lib[all]) (5.15.0)\n",
            "Requirement already satisfied: pydot in /usr/local/lib/python3.10/dist-packages (from ctrl-benchmark->avalanche_lib[all]) (1.4.2)\n",
            "Collecting bs4 (from ctrl-benchmark->avalanche_lib[all])\n",
            "  Downloading bs4-0.0.2-py2.py3-none-any.whl (1.2 kB)\n",
            "Collecting nvidia-cuda-runtime-cu11==11.7.99 (from torch->avalanche_lib[all])\n",
            "  Downloading nvidia_cuda_runtime_cu11-11.7.99-py3-none-manylinux1_x86_64.whl (849 kB)\n",
            "\u001b[2K     \u001b[90m━━━━━━━━━━━━━━━━━━━━━━━━━━━━━━━━━━━━━━━━\u001b[0m \u001b[32m849.3/849.3 kB\u001b[0m \u001b[31m45.7 MB/s\u001b[0m eta \u001b[36m0:00:00\u001b[0m\n",
            "\u001b[?25hCollecting nvidia-cudnn-cu11==8.5.0.96 (from torch->avalanche_lib[all])\n",
            "  Downloading nvidia_cudnn_cu11-8.5.0.96-2-py3-none-manylinux1_x86_64.whl (557.1 MB)\n",
            "\u001b[2K     \u001b[90m━━━━━━━━━━━━━━━━━━━━━━━━━━━━━━━━━━━━━━━━\u001b[0m \u001b[32m557.1/557.1 MB\u001b[0m \u001b[31m1.0 MB/s\u001b[0m eta \u001b[36m0:00:00\u001b[0m\n",
            "\u001b[?25hCollecting nvidia-cublas-cu11==11.10.3.66 (from torch->avalanche_lib[all])\n",
            "  Downloading nvidia_cublas_cu11-11.10.3.66-py3-none-manylinux1_x86_64.whl (317.1 MB)\n",
            "\u001b[2K     \u001b[90m━━━━━━━━━━━━━━━━━━━━━━━━━━━━━━━━━━━━━━━━\u001b[0m \u001b[32m317.1/317.1 MB\u001b[0m \u001b[31m4.5 MB/s\u001b[0m eta \u001b[36m0:00:00\u001b[0m\n",
            "\u001b[?25hCollecting nvidia-cuda-nvrtc-cu11==11.7.99 (from torch->avalanche_lib[all])\n",
            "  Downloading nvidia_cuda_nvrtc_cu11-11.7.99-2-py3-none-manylinux1_x86_64.whl (21.0 MB)\n",
            "\u001b[2K     \u001b[90m━━━━━━━━━━━━━━━━━━━━━━━━━━━━━━━━━━━━━━━━\u001b[0m \u001b[32m21.0/21.0 MB\u001b[0m \u001b[31m62.9 MB/s\u001b[0m eta \u001b[36m0:00:00\u001b[0m\n",
            "\u001b[?25hRequirement already satisfied: wheel in /usr/local/lib/python3.10/dist-packages (from nvidia-cublas-cu11==11.10.3.66->torch->avalanche_lib[all]) (0.43.0)\n",
            "INFO: pip is looking at multiple versions of torchvision to determine which version is compatible with other requirements. This could take a while.\n",
            "Collecting torchvision (from avalanche_lib[all])\n",
            "  Downloading torchvision-0.17.1-cp310-cp310-manylinux1_x86_64.whl (6.9 MB)\n",
            "\u001b[2K     \u001b[90m━━━━━━━━━━━━━━━━━━━━━━━━━━━━━━━━━━━━━━━━\u001b[0m \u001b[32m6.9/6.9 MB\u001b[0m \u001b[31m87.6 MB/s\u001b[0m eta \u001b[36m0:00:00\u001b[0m\n",
            "\u001b[?25h  Downloading torchvision-0.17.0-cp310-cp310-manylinux1_x86_64.whl (6.9 MB)\n",
            "\u001b[2K     \u001b[90m━━━━━━━━━━━━━━━━━━━━━━━━━━━━━━━━━━━━━━━━\u001b[0m \u001b[32m6.9/6.9 MB\u001b[0m \u001b[31m97.2 MB/s\u001b[0m eta \u001b[36m0:00:00\u001b[0m\n",
            "\u001b[?25h  Downloading torchvision-0.16.2-cp310-cp310-manylinux1_x86_64.whl (6.8 MB)\n",
            "\u001b[2K     \u001b[90m━━━━━━━━━━━━━━━━━━━━━━━━━━━━━━━━━━━━━━━━\u001b[0m \u001b[32m6.8/6.8 MB\u001b[0m \u001b[31m63.6 MB/s\u001b[0m eta \u001b[36m0:00:00\u001b[0m\n",
            "\u001b[?25h  Downloading torchvision-0.16.1-cp310-cp310-manylinux1_x86_64.whl (6.8 MB)\n",
            "\u001b[2K     \u001b[90m━━━━━━━━━━━━━━━━━━━━━━━━━━━━━━━━━━━━━━━━\u001b[0m \u001b[32m6.8/6.8 MB\u001b[0m \u001b[31m71.6 MB/s\u001b[0m eta \u001b[36m0:00:00\u001b[0m\n",
            "\u001b[?25h  Downloading torchvision-0.16.0-cp310-cp310-manylinux1_x86_64.whl (6.9 MB)\n",
            "\u001b[2K     \u001b[90m━━━━━━━━━━━━━━━━━━━━━━━━━━━━━━━━━━━━━━━━\u001b[0m \u001b[32m6.9/6.9 MB\u001b[0m \u001b[31m71.2 MB/s\u001b[0m eta \u001b[36m0:00:00\u001b[0m\n",
            "\u001b[?25h  Downloading torchvision-0.15.2-cp310-cp310-manylinux1_x86_64.whl (6.0 MB)\n",
            "\u001b[2K     \u001b[90m━━━━━━━━━━━━━━━━━━━━━━━━━━━━━━━━━━━━━━━━\u001b[0m \u001b[32m6.0/6.0 MB\u001b[0m \u001b[31m75.2 MB/s\u001b[0m eta \u001b[36m0:00:00\u001b[0m\n",
            "\u001b[?25h  Downloading torchvision-0.15.1-cp310-cp310-manylinux1_x86_64.whl (6.0 MB)\n",
            "\u001b[2K     \u001b[90m━━━━━━━━━━━━━━━━━━━━━━━━━━━━━━━━━━━━━━━━\u001b[0m \u001b[32m6.0/6.0 MB\u001b[0m \u001b[31m68.6 MB/s\u001b[0m eta \u001b[36m0:00:00\u001b[0m\n",
            "\u001b[?25hINFO: pip is looking at multiple versions of torchvision to determine which version is compatible with other requirements. This could take a while.\n",
            "  Downloading torchvision-0.14.1-cp310-cp310-manylinux1_x86_64.whl (24.2 MB)\n",
            "\u001b[2K     \u001b[90m━━━━━━━━━━━━━━━━━━━━━━━━━━━━━━━━━━━━━━━━\u001b[0m \u001b[32m24.2/24.2 MB\u001b[0m \u001b[31m13.1 MB/s\u001b[0m eta \u001b[36m0:00:00\u001b[0m\n",
            "\u001b[?25hRequirement already satisfied: pillow!=8.3.*,>=5.3.0 in /usr/local/lib/python3.10/dist-packages (from torchvision->avalanche_lib[all]) (9.4.0)\n",
            "Requirement already satisfied: filelock in /usr/local/lib/python3.10/dist-packages (from gdown->avalanche_lib[all]) (3.13.1)\n",
            "Requirement already satisfied: beautifulsoup4 in /usr/local/lib/python3.10/dist-packages (from gdown->avalanche_lib[all]) (4.12.3)\n",
            "Requirement already satisfied: cloudpickle>=1.2.0 in /usr/local/lib/python3.10/dist-packages (from gym->avalanche_lib[all]) (2.2.1)\n",
            "Requirement already satisfied: gym-notices>=0.0.4 in /usr/local/lib/python3.10/dist-packages (from gym->avalanche_lib[all]) (0.0.8)\n",
            "Requirement already satisfied: cycler>=0.10.0 in /usr/local/lib/python3.10/dist-packages (from lvis->avalanche_lib[all]) (0.12.1)\n",
            "Requirement already satisfied: Cython>=0.29.12 in /usr/local/lib/python3.10/dist-packages (from lvis->avalanche_lib[all]) (3.0.9)\n",
            "Requirement already satisfied: kiwisolver>=1.1.0 in /usr/local/lib/python3.10/dist-packages (from lvis->avalanche_lib[all]) (1.4.5)\n",
            "Requirement already satisfied: opencv-python>=4.1.0.25 in /usr/local/lib/python3.10/dist-packages (from lvis->avalanche_lib[all]) (4.8.0.76)\n",
            "Requirement already satisfied: pyparsing>=2.4.0 in /usr/local/lib/python3.10/dist-packages (from lvis->avalanche_lib[all]) (3.1.2)\n",
            "Requirement already satisfied: python-dateutil>=2.8.0 in /usr/local/lib/python3.10/dist-packages (from lvis->avalanche_lib[all]) (2.8.2)\n",
            "Requirement already satisfied: contourpy>=1.0.1 in /usr/local/lib/python3.10/dist-packages (from matplotlib->avalanche_lib[all]) (1.2.0)\n",
            "Requirement already satisfied: fonttools>=4.22.0 in /usr/local/lib/python3.10/dist-packages (from matplotlib->avalanche_lib[all]) (4.50.0)\n",
            "Requirement already satisfied: scipy>=1.2.0 in /usr/local/lib/python3.10/dist-packages (from qpsolvers[open_source_solvers]->avalanche_lib[all]) (1.11.4)\n",
            "Requirement already satisfied: joblib>=1.1.1 in /usr/local/lib/python3.10/dist-packages (from scikit-learn->avalanche_lib[all]) (1.3.2)\n",
            "Requirement already satisfied: threadpoolctl>=2.0.0 in /usr/local/lib/python3.10/dist-packages (from scikit-learn->avalanche_lib[all]) (3.3.0)\n",
            "Requirement already satisfied: sphinxcontrib-applehelp in /usr/local/lib/python3.10/dist-packages (from sphinx->avalanche_lib[all]) (1.0.8)\n",
            "Requirement already satisfied: sphinxcontrib-devhelp in /usr/local/lib/python3.10/dist-packages (from sphinx->avalanche_lib[all]) (1.0.6)\n",
            "Requirement already satisfied: sphinxcontrib-jsmath in /usr/local/lib/python3.10/dist-packages (from sphinx->avalanche_lib[all]) (1.0.1)\n",
            "Requirement already satisfied: sphinxcontrib-htmlhelp>=2.0.0 in /usr/local/lib/python3.10/dist-packages (from sphinx->avalanche_lib[all]) (2.0.5)\n",
            "Requirement already satisfied: sphinxcontrib-serializinghtml>=1.1.5 in /usr/local/lib/python3.10/dist-packages (from sphinx->avalanche_lib[all]) (1.1.10)\n",
            "Requirement already satisfied: sphinxcontrib-qthelp in /usr/local/lib/python3.10/dist-packages (from sphinx->avalanche_lib[all]) (1.0.7)\n",
            "Requirement already satisfied: Jinja2>=2.3 in /usr/local/lib/python3.10/dist-packages (from sphinx->avalanche_lib[all]) (3.1.3)\n",
            "Requirement already satisfied: Pygments>=2.0 in /usr/local/lib/python3.10/dist-packages (from sphinx->avalanche_lib[all]) (2.16.1)\n",
            "Requirement already satisfied: docutils<0.19,>=0.14 in /usr/local/lib/python3.10/dist-packages (from sphinx->avalanche_lib[all]) (0.18.1)\n",
            "Requirement already satisfied: snowballstemmer>=1.1 in /usr/local/lib/python3.10/dist-packages (from sphinx->avalanche_lib[all]) (2.2.0)\n",
            "Requirement already satisfied: babel>=1.3 in /usr/local/lib/python3.10/dist-packages (from sphinx->avalanche_lib[all]) (2.14.0)\n",
            "Requirement already satisfied: alabaster<0.8,>=0.7 in /usr/local/lib/python3.10/dist-packages (from sphinx->avalanche_lib[all]) (0.7.16)\n",
            "Requirement already satisfied: imagesize in /usr/local/lib/python3.10/dist-packages (from sphinx->avalanche_lib[all]) (1.4.1)\n",
            "Collecting anyascii (from sphinx-autoapi->avalanche_lib[all])\n",
            "  Downloading anyascii-0.3.2-py3-none-any.whl (289 kB)\n",
            "\u001b[2K     \u001b[90m━━━━━━━━━━━━━━━━━━━━━━━━━━━━━━━━━━━━━━━━\u001b[0m \u001b[32m289.9/289.9 kB\u001b[0m \u001b[31m30.1 MB/s\u001b[0m eta \u001b[36m0:00:00\u001b[0m\n",
            "\u001b[?25hCollecting sphinx (from avalanche_lib[all])\n",
            "  Downloading sphinx-7.2.6-py3-none-any.whl (3.2 MB)\n",
            "\u001b[2K     \u001b[90m━━━━━━━━━━━━━━━━━━━━━━━━━━━━━━━━━━━━━━━━\u001b[0m \u001b[32m3.2/3.2 MB\u001b[0m \u001b[31m60.8 MB/s\u001b[0m eta \u001b[36m0:00:00\u001b[0m\n",
            "\u001b[?25hCollecting astroid>=2.7 (from sphinx-autoapi->avalanche_lib[all])\n",
            "  Downloading astroid-3.1.0-py3-none-any.whl (275 kB)\n",
            "\u001b[2K     \u001b[90m━━━━━━━━━━━━━━━━━━━━━━━━━━━━━━━━━━━━━━━━\u001b[0m \u001b[32m275.6/275.6 kB\u001b[0m \u001b[31m26.4 MB/s\u001b[0m eta \u001b[36m0:00:00\u001b[0m\n",
            "\u001b[?25hCollecting sphinxcontrib-jquery<5,>=4 (from sphinx-rtd-theme->avalanche_lib[all])\n",
            "  Downloading sphinxcontrib_jquery-4.1-py2.py3-none-any.whl (121 kB)\n",
            "\u001b[2K     \u001b[90m━━━━━━━━━━━━━━━━━━━━━━━━━━━━━━━━━━━━━━━━\u001b[0m \u001b[32m121.1/121.1 kB\u001b[0m \u001b[31m14.8 MB/s\u001b[0m eta \u001b[36m0:00:00\u001b[0m\n",
            "\u001b[?25hRequirement already satisfied: huggingface_hub in /usr/local/lib/python3.10/dist-packages (from timm->avalanche_lib[all]) (0.20.3)\n",
            "Requirement already satisfied: safetensors in /usr/local/lib/python3.10/dist-packages (from timm->avalanche_lib[all]) (0.4.2)\n",
            "INFO: pip is looking at multiple versions of torchaudio to determine which version is compatible with other requirements. This could take a while.\n",
            "Collecting torchaudio (from avalanche_lib[all])\n",
            "  Downloading torchaudio-2.2.1-cp310-cp310-manylinux1_x86_64.whl (3.3 MB)\n",
            "\u001b[2K     \u001b[90m━━━━━━━━━━━━━━━━━━━━━━━━━━━━━━━━━━━━━━━━\u001b[0m \u001b[32m3.3/3.3 MB\u001b[0m \u001b[31m91.0 MB/s\u001b[0m eta \u001b[36m0:00:00\u001b[0m\n",
            "\u001b[?25h  Downloading torchaudio-2.2.0-cp310-cp310-manylinux1_x86_64.whl (3.3 MB)\n",
            "\u001b[2K     \u001b[90m━━━━━━━━━━━━━━━━━━━━━━━━━━━━━━━━━━━━━━━━\u001b[0m \u001b[32m3.3/3.3 MB\u001b[0m \u001b[31m84.0 MB/s\u001b[0m eta \u001b[36m0:00:00\u001b[0m\n",
            "\u001b[?25h  Downloading torchaudio-2.1.2-cp310-cp310-manylinux1_x86_64.whl (3.3 MB)\n",
            "\u001b[2K     \u001b[90m━━━━━━━━━━━━━━━━━━━━━━━━━━━━━━━━━━━━━━━━\u001b[0m \u001b[32m3.3/3.3 MB\u001b[0m \u001b[31m91.6 MB/s\u001b[0m eta \u001b[36m0:00:00\u001b[0m\n",
            "\u001b[?25h  Downloading torchaudio-2.1.1-cp310-cp310-manylinux1_x86_64.whl (3.3 MB)\n",
            "\u001b[2K     \u001b[90m━━━━━━━━━━━━━━━━━━━━━━━━━━━━━━━━━━━━━━━━\u001b[0m \u001b[32m3.3/3.3 MB\u001b[0m \u001b[31m88.9 MB/s\u001b[0m eta \u001b[36m0:00:00\u001b[0m\n",
            "\u001b[?25h  Downloading torchaudio-2.1.0-cp310-cp310-manylinux1_x86_64.whl (3.3 MB)\n",
            "\u001b[2K     \u001b[90m━━━━━━━━━━━━━━━━━━━━━━━━━━━━━━━━━━━━━━━━\u001b[0m \u001b[32m3.3/3.3 MB\u001b[0m \u001b[31m75.1 MB/s\u001b[0m eta \u001b[36m0:00:00\u001b[0m\n",
            "\u001b[?25h  Downloading torchaudio-2.0.2-cp310-cp310-manylinux1_x86_64.whl (4.4 MB)\n",
            "\u001b[2K     \u001b[90m━━━━━━━━━━━━━━━━━━━━━━━━━━━━━━━━━━━━━━━━\u001b[0m \u001b[32m4.4/4.4 MB\u001b[0m \u001b[31m84.6 MB/s\u001b[0m eta \u001b[36m0:00:00\u001b[0m\n",
            "\u001b[?25h  Downloading torchaudio-2.0.1-cp310-cp310-manylinux1_x86_64.whl (4.4 MB)\n",
            "\u001b[2K     \u001b[90m━━━━━━━━━━━━━━━━━━━━━━━━━━━━━━━━━━━━━━━━\u001b[0m \u001b[32m4.4/4.4 MB\u001b[0m \u001b[31m105.4 MB/s\u001b[0m eta \u001b[36m0:00:00\u001b[0m\n",
            "\u001b[?25hINFO: pip is looking at multiple versions of torchaudio to determine which version is compatible with other requirements. This could take a while.\n",
            "  Downloading torchaudio-0.13.1-cp310-cp310-manylinux1_x86_64.whl (4.2 MB)\n",
            "\u001b[2K     \u001b[90m━━━━━━━━━━━━━━━━━━━━━━━━━━━━━━━━━━━━━━━━\u001b[0m \u001b[32m4.2/4.2 MB\u001b[0m \u001b[31m97.6 MB/s\u001b[0m eta \u001b[36m0:00:00\u001b[0m\n",
            "\u001b[?25hCollecting lightning-utilities>=0.8.0 (from torchmetrics->avalanche_lib[all])\n",
            "  Downloading lightning_utilities-0.11.0-py3-none-any.whl (25 kB)\n",
            "Requirement already satisfied: Click!=8.0.0,>=7.1 in /usr/local/lib/python3.10/dist-packages (from wandb->avalanche_lib[all]) (8.1.7)\n",
            "Collecting GitPython!=3.1.29,>=1.0.0 (from wandb->avalanche_lib[all])\n",
            "  Downloading GitPython-3.1.42-py3-none-any.whl (195 kB)\n",
            "\u001b[2K     \u001b[90m━━━━━━━━━━━━━━━━━━━━━━━━━━━━━━━━━━━━━━━━\u001b[0m \u001b[32m195.4/195.4 kB\u001b[0m \u001b[31m29.0 MB/s\u001b[0m eta \u001b[36m0:00:00\u001b[0m\n",
            "\u001b[?25hCollecting sentry-sdk>=1.0.0 (from wandb->avalanche_lib[all])\n",
            "  Downloading sentry_sdk-1.43.0-py2.py3-none-any.whl (264 kB)\n",
            "\u001b[2K     \u001b[90m━━━━━━━━━━━━━━━━━━━━━━━━━━━━━━━━━━━━━━━━\u001b[0m \u001b[32m264.6/264.6 kB\u001b[0m \u001b[31m34.2 MB/s\u001b[0m eta \u001b[36m0:00:00\u001b[0m\n",
            "\u001b[?25hCollecting docker-pycreds>=0.4.0 (from wandb->avalanche_lib[all])\n",
            "  Downloading docker_pycreds-0.4.0-py2.py3-none-any.whl (9.0 kB)\n",
            "Collecting setproctitle (from wandb->avalanche_lib[all])\n",
            "  Downloading setproctitle-1.3.3-cp310-cp310-manylinux_2_5_x86_64.manylinux1_x86_64.manylinux_2_17_x86_64.manylinux2014_x86_64.whl (30 kB)\n",
            "Requirement already satisfied: appdirs>=1.4.3 in /usr/local/lib/python3.10/dist-packages (from wandb->avalanche_lib[all]) (1.4.4)\n",
            "Collecting gitdb<5,>=4.0.1 (from GitPython!=3.1.29,>=1.0.0->wandb->avalanche_lib[all])\n",
            "  Downloading gitdb-4.0.11-py3-none-any.whl (62 kB)\n",
            "\u001b[2K     \u001b[90m━━━━━━━━━━━━━━━━━━━━━━━━━━━━━━━━━━━━━━━━\u001b[0m \u001b[32m62.7/62.7 kB\u001b[0m \u001b[31m9.3 MB/s\u001b[0m eta \u001b[36m0:00:00\u001b[0m\n",
            "\u001b[?25hRequirement already satisfied: cachetools<6.0,>=2.0.0 in /usr/local/lib/python3.10/dist-packages (from google-auth<3,>=1.6.3->tensorboard>=1.15->avalanche_lib[all]) (5.3.3)\n",
            "Requirement already satisfied: pyasn1-modules>=0.2.1 in /usr/local/lib/python3.10/dist-packages (from google-auth<3,>=1.6.3->tensorboard>=1.15->avalanche_lib[all]) (0.3.0)\n",
            "Requirement already satisfied: rsa<5,>=3.1.4 in /usr/local/lib/python3.10/dist-packages (from google-auth<3,>=1.6.3->tensorboard>=1.15->avalanche_lib[all]) (4.9)\n",
            "Requirement already satisfied: requests-oauthlib>=0.7.0 in /usr/local/lib/python3.10/dist-packages (from google-auth-oauthlib<2,>=0.5->tensorboard>=1.15->avalanche_lib[all]) (1.4.0)\n",
            "Requirement already satisfied: MarkupSafe>=2.0 in /usr/local/lib/python3.10/dist-packages (from Jinja2>=2.3->sphinx->avalanche_lib[all]) (2.1.5)\n",
            "Requirement already satisfied: charset-normalizer<4,>=2 in /usr/local/lib/python3.10/dist-packages (from requests<3,>=2.21.0->tensorboard>=1.15->avalanche_lib[all]) (3.3.2)\n",
            "Requirement already satisfied: idna<4,>=2.5 in /usr/local/lib/python3.10/dist-packages (from requests<3,>=2.21.0->tensorboard>=1.15->avalanche_lib[all]) (3.6)\n",
            "Requirement already satisfied: urllib3<3,>=1.21.1 in /usr/local/lib/python3.10/dist-packages (from requests<3,>=2.21.0->tensorboard>=1.15->avalanche_lib[all]) (2.0.7)\n",
            "Requirement already satisfied: certifi>=2017.4.17 in /usr/local/lib/python3.10/dist-packages (from requests<3,>=2.21.0->tensorboard>=1.15->avalanche_lib[all]) (2024.2.2)\n",
            "Requirement already satisfied: soupsieve>1.2 in /usr/local/lib/python3.10/dist-packages (from beautifulsoup4->gdown->avalanche_lib[all]) (2.5)\n",
            "Requirement already satisfied: fsspec>=2023.5.0 in /usr/local/lib/python3.10/dist-packages (from huggingface_hub->timm->avalanche_lib[all]) (2023.6.0)\n",
            "Requirement already satisfied: tenacity>=6.2.0 in /usr/local/lib/python3.10/dist-packages (from plotly->ctrl-benchmark->avalanche_lib[all]) (8.2.3)\n",
            "Requirement already satisfied: osqp>=0.6.2 in /usr/local/lib/python3.10/dist-packages (from qpsolvers[open_source_solvers]->avalanche_lib[all]) (0.6.2.post8)\n",
            "Collecting qpalm>=1.2.1 (from qpsolvers[open_source_solvers]->avalanche_lib[all])\n",
            "  Downloading qpalm-1.2.2-cp310-cp310-manylinux_2_17_x86_64.whl (737 kB)\n",
            "\u001b[2K     \u001b[90m━━━━━━━━━━━━━━━━━━━━━━━━━━━━━━━━━━━━━━━━\u001b[0m \u001b[32m737.2/737.2 kB\u001b[0m \u001b[31m64.1 MB/s\u001b[0m eta \u001b[36m0:00:00\u001b[0m\n",
            "\u001b[?25hCollecting clarabel>=0.4.1 (from qpsolvers[open_source_solvers]->avalanche_lib[all])\n",
            "  Downloading clarabel-0.7.1-cp37-abi3-manylinux_2_17_x86_64.manylinux2014_x86_64.whl (1.3 MB)\n",
            "\u001b[2K     \u001b[90m━━━━━━━━━━━━━━━━━━━━━━━━━━━━━━━━━━━━━━━━\u001b[0m \u001b[32m1.3/1.3 MB\u001b[0m \u001b[31m84.7 MB/s\u001b[0m eta \u001b[36m0:00:00\u001b[0m\n",
            "\u001b[?25hCollecting proxsuite>=0.2.9 (from qpsolvers[open_source_solvers]->avalanche_lib[all])\n",
            "  Downloading proxsuite-0.6.3-0-cp310-cp310-manylinux_2_17_x86_64.whl (2.7 MB)\n",
            "\u001b[2K     \u001b[90m━━━━━━━━━━━━━━━━━━━━━━━━━━━━━━━━━━━━━━━━\u001b[0m \u001b[32m2.7/2.7 MB\u001b[0m \u001b[31m93.2 MB/s\u001b[0m eta \u001b[36m0:00:00\u001b[0m\n",
            "\u001b[?25hCollecting quadprog>=0.1.11 (from qpsolvers[open_source_solvers]->avalanche_lib[all])\n",
            "  Downloading quadprog-0.1.12-cp310-cp310-manylinux_2_17_x86_64.manylinux2014_x86_64.whl (508 kB)\n",
            "\u001b[2K     \u001b[90m━━━━━━━━━━━━━━━━━━━━━━━━━━━━━━━━━━━━━━━━\u001b[0m \u001b[32m508.2/508.2 kB\u001b[0m \u001b[31m53.9 MB/s\u001b[0m eta \u001b[36m0:00:00\u001b[0m\n",
            "\u001b[?25hCollecting piqp>=0.2.2 (from qpsolvers[open_source_solvers]->avalanche_lib[all])\n",
            "  Downloading piqp-0.2.4-cp310-cp310-manylinux_2_17_x86_64.manylinux2014_x86_64.whl (959 kB)\n",
            "\u001b[2K     \u001b[90m━━━━━━━━━━━━━━━━━━━━━━━━━━━━━━━━━━━━━━━━\u001b[0m \u001b[32m960.0/960.0 kB\u001b[0m \u001b[31m73.0 MB/s\u001b[0m eta \u001b[36m0:00:00\u001b[0m\n",
            "\u001b[?25hRequirement already satisfied: cvxopt>=1.2.6 in /usr/local/lib/python3.10/dist-packages (from qpsolvers[open_source_solvers]->avalanche_lib[all]) (1.3.2)\n",
            "Collecting daqp>=0.5.1 (from qpsolvers[open_source_solvers]->avalanche_lib[all])\n",
            "  Downloading daqp-0.5.1.post1-cp310-cp310-manylinux_2_17_x86_64.manylinux2014_x86_64.whl (526 kB)\n",
            "\u001b[2K     \u001b[90m━━━━━━━━━━━━━━━━━━━━━━━━━━━━━━━━━━━━━━━━\u001b[0m \u001b[32m526.7/526.7 kB\u001b[0m \u001b[31m53.0 MB/s\u001b[0m eta \u001b[36m0:00:00\u001b[0m\n",
            "\u001b[?25hRequirement already satisfied: ecos>=2.0.8 in /usr/local/lib/python3.10/dist-packages (from qpsolvers[open_source_solvers]->avalanche_lib[all]) (2.0.13)\n",
            "Collecting highspy>=1.1.2.dev3 (from qpsolvers[open_source_solvers]->avalanche_lib[all])\n",
            "  Downloading highspy-1.7.1.dev1-cp310-cp310-manylinux_2_17_x86_64.manylinux2014_x86_64.whl (2.1 MB)\n",
            "\u001b[2K     \u001b[90m━━━━━━━━━━━━━━━━━━━━━━━━━━━━━━━━━━━━━━━━\u001b[0m \u001b[32m2.1/2.1 MB\u001b[0m \u001b[31m81.4 MB/s\u001b[0m eta \u001b[36m0:00:00\u001b[0m\n",
            "\u001b[?25hRequirement already satisfied: scs>=3.2.0 in /usr/local/lib/python3.10/dist-packages (from qpsolvers[open_source_solvers]->avalanche_lib[all]) (3.2.4.post1)\n",
            "Requirement already satisfied: PySocks!=1.5.7,>=1.5.6 in /usr/local/lib/python3.10/dist-packages (from requests<3,>=2.21.0->tensorboard>=1.15->avalanche_lib[all]) (1.7.1)\n",
            "Collecting smmap<6,>=3.0.1 (from gitdb<5,>=4.0.1->GitPython!=3.1.29,>=1.0.0->wandb->avalanche_lib[all])\n",
            "  Downloading smmap-5.0.1-py3-none-any.whl (24 kB)\n",
            "Requirement already satisfied: qdldl in /usr/local/lib/python3.10/dist-packages (from osqp>=0.6.2->qpsolvers[open_source_solvers]->avalanche_lib[all]) (0.1.7.post0)\n",
            "Collecting cmeel (from proxsuite>=0.2.9->qpsolvers[open_source_solvers]->avalanche_lib[all])\n",
            "  Downloading cmeel-0.53.3-py3-none-any.whl (20 kB)\n",
            "Requirement already satisfied: pyasn1<0.6.0,>=0.4.6 in /usr/local/lib/python3.10/dist-packages (from pyasn1-modules>=0.2.1->google-auth<3,>=1.6.3->tensorboard>=1.15->avalanche_lib[all]) (0.5.1)\n",
            "Requirement already satisfied: oauthlib>=3.0.0 in /usr/local/lib/python3.10/dist-packages (from requests-oauthlib>=0.7.0->google-auth-oauthlib<2,>=0.5->tensorboard>=1.15->avalanche_lib[all]) (3.2.2)\n",
            "Requirement already satisfied: tomli<3.0.0,>=2.0.1 in /usr/local/lib/python3.10/dist-packages (from cmeel->proxsuite>=0.2.9->qpsolvers[open_source_solvers]->avalanche_lib[all]) (2.0.1)\n",
            "Building wheels for collected packages: gputil\n",
            "  Building wheel for gputil (setup.py) ... \u001b[?25l\u001b[?25hdone\n",
            "  Created wheel for gputil: filename=GPUtil-1.4.0-py3-none-any.whl size=7394 sha256=c88c3d54bf192609612c9272d6e981a43480ebd6f1f6b421d544270cf5c2b260\n",
            "  Stored in directory: /root/.cache/pip/wheels/a9/8a/bd/81082387151853ab8b6b3ef33426e98f5cbfebc3c397a9d4d0\n",
            "Successfully built gputil\n",
            "Installing collected packages: gputil, daqp, smmap, setproctitle, sentry-sdk, quadprog, piqp, nvidia-cuda-runtime-cu11, nvidia-cuda-nvrtc-cu11, nvidia-cublas-cu11, networkx, lightning-utilities, highspy, docker-pycreds, dill, cmeel, astroid, anyascii, sphinx, qpsolvers, qpalm, pytorchcv, proxsuite, nvidia-cudnn-cu11, gitdb, clarabel, bs4, torch, sphinxcontrib-jquery, sphinx-copybutton, sphinx-autoapi, lvis, GitPython, wandb, torchvision, torchmetrics, torchaudio, sphinx-rtd-theme, higher, timm, ctrl-benchmark, avalanche_lib\n",
            "  Attempting uninstall: networkx\n",
            "    Found existing installation: networkx 3.2.1\n",
            "    Uninstalling networkx-3.2.1:\n",
            "      Successfully uninstalled networkx-3.2.1\n",
            "  Attempting uninstall: sphinx\n",
            "    Found existing installation: Sphinx 5.0.2\n",
            "    Uninstalling Sphinx-5.0.2:\n",
            "      Successfully uninstalled Sphinx-5.0.2\n",
            "  Attempting uninstall: torch\n",
            "    Found existing installation: torch 2.2.1+cu121\n",
            "    Uninstalling torch-2.2.1+cu121:\n",
            "      Successfully uninstalled torch-2.2.1+cu121\n",
            "  Attempting uninstall: torchvision\n",
            "    Found existing installation: torchvision 0.17.1+cu121\n",
            "    Uninstalling torchvision-0.17.1+cu121:\n",
            "      Successfully uninstalled torchvision-0.17.1+cu121\n",
            "  Attempting uninstall: torchaudio\n",
            "    Found existing installation: torchaudio 2.2.1+cu121\n",
            "    Uninstalling torchaudio-2.2.1+cu121:\n",
            "      Successfully uninstalled torchaudio-2.2.1+cu121\n",
            "\u001b[31mERROR: pip's dependency resolver does not currently take into account all the packages that are installed. This behaviour is the source of the following dependency conflicts.\n",
            "torchdata 0.7.1 requires torch>=2, but you have torch 1.13.1 which is incompatible.\n",
            "torchtext 0.17.1 requires torch==2.2.1, but you have torch 1.13.1 which is incompatible.\u001b[0m\u001b[31m\n",
            "\u001b[0mSuccessfully installed GitPython-3.1.42 anyascii-0.3.2 astroid-3.1.0 avalanche_lib-0.5.0 bs4-0.0.2 clarabel-0.7.1 cmeel-0.53.3 ctrl-benchmark-0.0.4 daqp-0.5.1.post1 dill-0.3.8 docker-pycreds-0.4.0 gitdb-4.0.11 gputil-1.4.0 higher-0.2.1 highspy-1.7.1.dev1 lightning-utilities-0.11.0 lvis-0.5.3 networkx-2.8.8 nvidia-cublas-cu11-11.10.3.66 nvidia-cuda-nvrtc-cu11-11.7.99 nvidia-cuda-runtime-cu11-11.7.99 nvidia-cudnn-cu11-8.5.0.96 piqp-0.2.4 proxsuite-0.6.3 pytorchcv-0.0.67 qpalm-1.2.2 qpsolvers-4.3.1 quadprog-0.1.12 sentry-sdk-1.43.0 setproctitle-1.3.3 smmap-5.0.1 sphinx-7.2.6 sphinx-autoapi-3.0.0 sphinx-copybutton-0.5.2 sphinx-rtd-theme-2.0.0 sphinxcontrib-jquery-4.1 timm-0.9.16 torch-1.13.1 torchaudio-0.13.1 torchmetrics-1.3.2 torchvision-0.14.1 wandb-0.16.4\n",
            "Collecting gwpy\n",
            "  Downloading gwpy-3.0.8-py3-none-any.whl (1.4 MB)\n",
            "\u001b[2K     \u001b[90m━━━━━━━━━━━━━━━━━━━━━━━━━━━━━━━━━━━━━━━━\u001b[0m \u001b[32m1.4/1.4 MB\u001b[0m \u001b[31m15.4 MB/s\u001b[0m eta \u001b[36m0:00:00\u001b[0m\n",
            "\u001b[?25hRequirement already satisfied: astropy>=4.3.0 in /usr/local/lib/python3.10/dist-packages (from gwpy) (5.3.4)\n",
            "Collecting dateparser>=1.1.4 (from gwpy)\n",
            "  Downloading dateparser-1.2.0-py2.py3-none-any.whl (294 kB)\n",
            "\u001b[2K     \u001b[90m━━━━━━━━━━━━━━━━━━━━━━━━━━━━━━━━━━━━━━━━\u001b[0m \u001b[32m295.0/295.0 kB\u001b[0m \u001b[31m30.0 MB/s\u001b[0m eta \u001b[36m0:00:00\u001b[0m\n",
            "\u001b[?25hCollecting dqsegdb2 (from gwpy)\n",
            "  Downloading dqsegdb2-1.2.1-py3-none-any.whl (25 kB)\n",
            "Collecting gwdatafind>=1.1.0 (from gwpy)\n",
            "  Downloading gwdatafind-1.2.0-py3-none-any.whl (45 kB)\n",
            "\u001b[2K     \u001b[90m━━━━━━━━━━━━━━━━━━━━━━━━━━━━━━━━━━━━━━━━\u001b[0m \u001b[32m45.5/45.5 kB\u001b[0m \u001b[31m6.9 MB/s\u001b[0m eta \u001b[36m0:00:00\u001b[0m\n",
            "\u001b[?25hCollecting gwosc>=0.5.3 (from gwpy)\n",
            "  Downloading gwosc-0.7.1-py3-none-any.whl (27 kB)\n",
            "Requirement already satisfied: h5py>=3.0.0 in /usr/local/lib/python3.10/dist-packages (from gwpy) (3.9.0)\n",
            "Collecting ligo-segments>=1.0.0 (from gwpy)\n",
            "  Downloading ligo-segments-1.4.0.tar.gz (51 kB)\n",
            "\u001b[2K     \u001b[90m━━━━━━━━━━━━━━━━━━━━━━━━━━━━━━━━━━━━━━━━\u001b[0m \u001b[32m51.0/51.0 kB\u001b[0m \u001b[31m7.9 MB/s\u001b[0m eta \u001b[36m0:00:00\u001b[0m\n",
            "\u001b[?25h  Preparing metadata (setup.py) ... \u001b[?25l\u001b[?25hdone\n",
            "Collecting ligotimegps>=1.2.1 (from gwpy)\n",
            "  Downloading ligotimegps-2.0.1-py2.py3-none-any.whl (19 kB)\n",
            "Requirement already satisfied: matplotlib>=3.3.0 in /usr/local/lib/python3.10/dist-packages (from gwpy) (3.7.1)\n",
            "Requirement already satisfied: numpy>=1.19 in /usr/local/lib/python3.10/dist-packages (from gwpy) (1.25.2)\n",
            "Requirement already satisfied: python-dateutil in /usr/local/lib/python3.10/dist-packages (from gwpy) (2.8.2)\n",
            "Requirement already satisfied: requests in /usr/local/lib/python3.10/dist-packages (from gwpy) (2.31.0)\n",
            "Requirement already satisfied: scipy>=1.5.0 in /usr/local/lib/python3.10/dist-packages (from gwpy) (1.11.4)\n",
            "Requirement already satisfied: tqdm>=4.10.0 in /usr/local/lib/python3.10/dist-packages (from gwpy) (4.66.2)\n",
            "Requirement already satisfied: pyerfa>=2.0 in /usr/local/lib/python3.10/dist-packages (from astropy>=4.3.0->gwpy) (2.0.1.1)\n",
            "Requirement already satisfied: PyYAML>=3.13 in /usr/local/lib/python3.10/dist-packages (from astropy>=4.3.0->gwpy) (6.0.1)\n",
            "Requirement already satisfied: packaging>=19.0 in /usr/local/lib/python3.10/dist-packages (from astropy>=4.3.0->gwpy) (24.0)\n",
            "Requirement already satisfied: pytz in /usr/local/lib/python3.10/dist-packages (from dateparser>=1.1.4->gwpy) (2023.4)\n",
            "Requirement already satisfied: regex!=2019.02.19,!=2021.8.27 in /usr/local/lib/python3.10/dist-packages (from dateparser>=1.1.4->gwpy) (2023.12.25)\n",
            "Requirement already satisfied: tzlocal in /usr/local/lib/python3.10/dist-packages (from dateparser>=1.1.4->gwpy) (5.2)\n",
            "Collecting igwn-auth-utils>=0.3.1 (from gwdatafind>=1.1.0->gwpy)\n",
            "  Downloading igwn_auth_utils-1.1.0-py3-none-any.whl (26 kB)\n",
            "Requirement already satisfied: six in /usr/local/lib/python3.10/dist-packages (from ligo-segments>=1.0.0->gwpy) (1.16.0)\n",
            "Requirement already satisfied: contourpy>=1.0.1 in /usr/local/lib/python3.10/dist-packages (from matplotlib>=3.3.0->gwpy) (1.2.0)\n",
            "Requirement already satisfied: cycler>=0.10 in /usr/local/lib/python3.10/dist-packages (from matplotlib>=3.3.0->gwpy) (0.12.1)\n",
            "Requirement already satisfied: fonttools>=4.22.0 in /usr/local/lib/python3.10/dist-packages (from matplotlib>=3.3.0->gwpy) (4.50.0)\n",
            "Requirement already satisfied: kiwisolver>=1.0.1 in /usr/local/lib/python3.10/dist-packages (from matplotlib>=3.3.0->gwpy) (1.4.5)\n",
            "Requirement already satisfied: pillow>=6.2.0 in /usr/local/lib/python3.10/dist-packages (from matplotlib>=3.3.0->gwpy) (9.4.0)\n",
            "Requirement already satisfied: pyparsing>=2.3.1 in /usr/local/lib/python3.10/dist-packages (from matplotlib>=3.3.0->gwpy) (3.1.2)\n",
            "Requirement already satisfied: charset-normalizer<4,>=2 in /usr/local/lib/python3.10/dist-packages (from requests->gwpy) (3.3.2)\n",
            "Requirement already satisfied: idna<4,>=2.5 in /usr/local/lib/python3.10/dist-packages (from requests->gwpy) (3.6)\n",
            "Requirement already satisfied: urllib3<3,>=1.21.1 in /usr/local/lib/python3.10/dist-packages (from requests->gwpy) (2.0.7)\n",
            "Requirement already satisfied: certifi>=2017.4.17 in /usr/local/lib/python3.10/dist-packages (from requests->gwpy) (2024.2.2)\n",
            "Requirement already satisfied: cryptography>=2.3 in /usr/local/lib/python3.10/dist-packages (from igwn-auth-utils>=0.3.1->gwdatafind>=1.1.0->gwpy) (42.0.5)\n",
            "Collecting safe-netrc>=1.0.0 (from igwn-auth-utils>=0.3.1->gwdatafind>=1.1.0->gwpy)\n",
            "  Downloading safe_netrc-1.0.1-py3-none-any.whl (10 kB)\n",
            "Collecting scitokens>=1.7.0 (from igwn-auth-utils>=0.3.1->gwdatafind>=1.1.0->gwpy)\n",
            "  Downloading scitokens-1.8.1-py3-none-any.whl (31 kB)\n",
            "Requirement already satisfied: cffi>=1.12 in /usr/local/lib/python3.10/dist-packages (from cryptography>=2.3->igwn-auth-utils>=0.3.1->gwdatafind>=1.1.0->gwpy) (1.16.0)\n",
            "Requirement already satisfied: PyJWT>=1.6.1 in /usr/lib/python3/dist-packages (from scitokens>=1.7.0->igwn-auth-utils>=0.3.1->gwdatafind>=1.1.0->gwpy) (2.3.0)\n",
            "Requirement already satisfied: pycparser in /usr/local/lib/python3.10/dist-packages (from cffi>=1.12->cryptography>=2.3->igwn-auth-utils>=0.3.1->gwdatafind>=1.1.0->gwpy) (2.21)\n",
            "Building wheels for collected packages: ligo-segments\n",
            "  Building wheel for ligo-segments (setup.py) ... \u001b[?25l\u001b[?25hdone\n",
            "  Created wheel for ligo-segments: filename=ligo_segments-1.4.0-cp310-cp310-linux_x86_64.whl size=99254 sha256=abb5c4c37a243798635a2f9cf8883b4a02143dbc7cc600e02f084131f0c24162\n",
            "  Stored in directory: /root/.cache/pip/wheels/6d/48/d1/3466977be4e41ba57f92ad0d5619f083df43cf319a151c4e06\n",
            "Successfully built ligo-segments\n",
            "Installing collected packages: safe-netrc, ligotimegps, ligo-segments, gwosc, dateparser, scitokens, igwn-auth-utils, gwdatafind, dqsegdb2, gwpy\n",
            "Successfully installed dateparser-1.2.0 dqsegdb2-1.2.1 gwdatafind-1.2.0 gwosc-0.7.1 gwpy-3.0.8 igwn-auth-utils-1.1.0 ligo-segments-1.4.0 ligotimegps-2.0.1 safe-netrc-1.0.1 scitokens-1.8.1\n",
            "\u001b[31mERROR: Could not find a version that satisfies the requirement nds2 (from versions: none)\u001b[0m\u001b[31m\n",
            "\u001b[0m\u001b[31mERROR: No matching distribution found for nds2\u001b[0m\u001b[31m\n",
            "\u001b[0mName: avalanche-lib\n",
            "Version: 0.5.0\n",
            "Summary: Avalanche: a Comprehensive Framework for Continual Learning Research\n",
            "Home-page: https://github.com/ContinualAI/avalanche\n",
            "Author: ContinualAI\n",
            "Author-email: contact@continualai.org\n",
            "License: \n",
            "Location: /usr/local/lib/python3.10/dist-packages\n",
            "Requires: dill, gdown, gputil, matplotlib, numpy, packaging, psutil, pytorchcv, qpsolvers, scikit-learn, tensorboard, torch, torchmetrics, torchvision, tqdm, typing-extensions, wandb\n",
            "Required-by: \n",
            "Name: gwpy\n",
            "Version: 3.0.8\n",
            "Summary: A python package for gravitational-wave astrophysics\n",
            "Home-page: \n",
            "Author: \n",
            "Author-email: Duncan Macleod <duncan.macleod@ligo.org>\n",
            "License: GPL-3.0-or-later\n",
            "Location: /usr/local/lib/python3.10/dist-packages\n",
            "Requires: astropy, dateparser, dqsegdb2, gwdatafind, gwosc, h5py, ligo-segments, ligotimegps, matplotlib, numpy, python-dateutil, requests, scipy, tqdm\n",
            "Required-by: \n"
          ]
        }
      ],
      "source": [
        "!pip install avalanche_lib[all]\n",
        "!pip install gwpy\n",
        "!pip install nds2\n",
        "!pip show avalanche-lib\n",
        "!pip show gwpy"
      ]
    },
    {
      "cell_type": "code",
      "source": [
        "%cd /content/drive/MyDrive/MscThesis"
      ],
      "metadata": {
        "colab": {
          "base_uri": "https://localhost:8080/"
        },
        "id": "t1jbz0_g5bZW",
        "outputId": "2497d4f3-9b5b-410b-a8ef-f8ed4801c3d3"
      },
      "execution_count": 3,
      "outputs": [
        {
          "output_type": "stream",
          "name": "stdout",
          "text": [
            "/content/drive/MyDrive/MscThesis\n"
          ]
        }
      ]
    },
    {
      "cell_type": "code",
      "execution_count": 41,
      "metadata": {
        "id": "rVEI5x8RadVA"
      },
      "outputs": [],
      "source": [
        "import numpy as np\n",
        "import os\n",
        "import pandas as pd\n",
        "import time\n",
        "\n",
        "from datetime import datetime\n",
        "from PIL import Image\n",
        "from collections import Counter\n",
        "import matplotlib.pyplot as plt\n",
        "import seaborn as sns\n",
        "import torch\n",
        "import torch.optim as optim\n",
        "import torchvision\n",
        "import torchvision.transforms as transforms\n",
        "from torch.optim import SGD, Adam, AdamW\n",
        "import torch.nn as nn\n",
        "import torch.nn.functional as F\n",
        "from torch.nn import CrossEntropyLoss\n",
        "from torch.utils.data import DataLoader, Dataset\n",
        "from torch.utils.tensorboard import SummaryWriter\n",
        "from torchvision.datasets import DatasetFolder, ImageFolder\n",
        "from tqdm import tqdm\n",
        "from sklearn import model_selection\n",
        "from sklearn.tree import DecisionTreeClassifier\n",
        "from sklearn.metrics import classification_report, confusion_matrix, f1_score, \\\n",
        "accuracy_score\n",
        "from avalanche.models import SlimResNet18\n",
        "from avalanche.training import Naive, LwF, GenerativeReplay\n",
        "from avalanche.logging import InteractiveLogger, TextLogger\n",
        "from avalanche.training.plugins import EvaluationPlugin\n",
        "from avalanche.benchmarks import nc_benchmark\n",
        "from avalanche.benchmarks.utils import AvalancheDataset\n",
        "from avalanche.benchmarks.scenarios.dataset_scenario import benchmark_from_datasets\n",
        "from avalanche.benchmarks.scenarios.supervised import class_incremental_benchmark\n",
        "from avalanche.evaluation.metrics import forgetting_metrics, accuracy_metrics,loss_metrics, \\\n",
        "timing_metrics, cpu_usage_metrics, StreamConfusionMatrix,disk_usage_metrics, gpu_usage_metrics, \\\n",
        "confusion_matrix_metrics\n",
        "\n",
        "import my_utils\n",
        "import my_architectures\n",
        "import my_dataloaders\n",
        "import my_gwpy_and_fractals\n",
        "\n",
        "IMG_SIZE = (224,224)"
      ]
    },
    {
      "cell_type": "markdown",
      "metadata": {
        "id": "CW-cEM0DJMom"
      },
      "source": [
        "# DL Baseline"
      ]
    },
    {
      "cell_type": "code",
      "execution_count": 9,
      "metadata": {
        "id": "Wpa8snbd2P8Q"
      },
      "outputs": [],
      "source": [
        "train_dir = '/content/drive/MyDrive/MscThesis/GravitySpy/train/train'\n",
        "val_dir = '/content/drive/MyDrive/MscThesis/GravitySpy/validation/validation'\n",
        "test_dir = '/content/drive/MyDrive/MscThesis/GravitySpy/test/test'\n",
        "metadata_o3b = '/content/drive/MyDrive/MscThesis/data_o3b_high_confidence.csv'\n",
        "metadata_o3a = '/content/drive/MyDrive/MscThesis/data_o3a_high_confidence.csv'\n",
        "metadata_o1L1 = '/content/drive/MyDrive/MscThesis/GravitySpy/L1_O1.csv'\n",
        "metadata_o2L1 = '/content/drive/MyDrive/MscThesis/GravitySpy/L1_O2.csv'"
      ]
    },
    {
      "cell_type": "code",
      "execution_count": 10,
      "metadata": {
        "id": "Jz23eVLldHhF",
        "colab": {
          "base_uri": "https://localhost:8080/"
        },
        "outputId": "b43f99a3-4c6f-4eb2-d62a-8608422b899f"
      },
      "outputs": [
        {
          "output_type": "stream",
          "name": "stdout",
          "text": [
            "Blip                   1274\n",
            "Koi_Fish                498\n",
            "Low_Frequency_Burst     437\n",
            "Light_Modulation        361\n",
            "Extremely_Loud          316\n",
            "Low_Frequency_Lines     315\n",
            "Power_Line              314\n",
            "Scattered_Light         308\n",
            "Violin_Mode             284\n",
            "Scratchy                237\n",
            "1080Lines               229\n",
            "Whistle                 208\n",
            "Helix                   195\n",
            "Repeating_Blips         185\n",
            "No_Glitch               107\n",
            "Tomte                    73\n",
            "1400Ripples              59\n",
            "None_of_the_Above        57\n",
            "Air_Compressor           41\n",
            "Chirp                    41\n",
            "Wandering_Line           29\n",
            "Paired_Doves             19\n",
            "Name: label, dtype: int64\n"
          ]
        },
        {
          "output_type": "execute_result",
          "data": {
            "text/plain": [
              "array(['Whistle', '1080Lines', 'Blip', 'Violin_Mode',\n",
              "       'Scattered_Light', 'Power_Line', 'Light_Modulation',\n",
              "       'Koi_Fish', 'None_of_the_Above', 'Scratchy', 'Tomte',\n",
              "       'Chirp', 'Wandering_Line', 'Extremely_Loud',\n",
              "       'Repeating_Blips', 'No_Glitch', 'Low_Frequency_Lines',\n",
              "       'Paired_Doves', 'Low_Frequency_Burst', 'Helix',\n",
              "       'Air_Compressor', '1400Ripples'], dtype=object)"
            ]
          },
          "metadata": {},
          "execution_count": 10
        }
      ],
      "source": [
        "meta_train_v1 = pd.read_csv('/content/drive/MyDrive/MscThesis/GravitySpy/trainingset_v1d1_metadata.csv')\n",
        "print(meta_train_v1[meta_train_v1['sample_type']=='train']['label'].value_counts())\n",
        "classes = meta_train_v1['label'].unique()\n",
        "classes"
      ]
    },
    {
      "cell_type": "code",
      "source": [
        "classes = my_utils.get_classes_from_dir(train_dir)"
      ],
      "metadata": {
        "id": "kHz4V8FF7_AE"
      },
      "execution_count": 11,
      "outputs": []
    },
    {
      "cell_type": "code",
      "execution_count": 12,
      "metadata": {
        "id": "gcZ3M2sA1q1W"
      },
      "outputs": [],
      "source": [
        "class_to_indx = {c: i for i, c in enumerate(classes)}"
      ]
    },
    {
      "cell_type": "code",
      "execution_count": 13,
      "metadata": {
        "id": "9rKjn-MXm6SE"
      },
      "outputs": [],
      "source": [
        "transformGray = transforms.Compose([\n",
        "     transforms.Resize((140,170)),\n",
        "     transforms.Grayscale(num_output_channels=1),\n",
        "     transforms.ToTensor(),\n",
        "     transforms.Normalize((0.5),(0.5))\n",
        "    ])\n",
        "\n",
        "transformRGB = transforms.Compose([\n",
        "     transforms.Resize((140,170)),\n",
        "     transforms.Grayscale(num_output_channels=3),\n",
        "     transforms.ToTensor(),\n",
        "     transforms.Normalize((0.5, 0.5, 0.5),(0.5, 0.5, 0.5))\n",
        "    ])\n",
        "\n",
        "transformAV = transforms.Compose([\n",
        "     transforms.Resize((32,32)),\n",
        "     transforms.ToTensor(),\n",
        "     transforms.Normalize((0.5),(0.5))\n",
        "    ])"
      ]
    },
    {
      "cell_type": "code",
      "source": [
        "train_set = my_dataloaders.GravitySpy_1_0_dataset(root=train_dir, cls=classes, transform=transformGray)\n",
        "train_loader = torch.utils.data.DataLoader(train_set, batch_size=32, shuffle=True)\n",
        "val_set = my_dataloaders.GravitySpy_1_0_dataset(root=val_dir, cls=classes, transform=transformGray)\n",
        "val_loader = torch.utils.data.DataLoader(val_set, batch_size=16, shuffle=True)\n",
        "test_set = my_dataloaders.GravitySpy_1_0_dataset(root=test_dir, cls=classes, transform=transformGray)\n",
        "test_loader = torch.utils.data.DataLoader(test_set, batch_size=1, shuffle=True)"
      ],
      "metadata": {
        "id": "o5luuVVS8cUE"
      },
      "execution_count": 14,
      "outputs": []
    },
    {
      "cell_type": "code",
      "execution_count": null,
      "metadata": {
        "id": "sOyw0KMTCZQ2"
      },
      "outputs": [],
      "source": [
        "train_set = my_dataloaders.GravitySpy_0_5_dataset(root=train_dir, cls=classes, transform=transformGray)\n",
        "train_loader = torch.utils.data.DataLoader(train_set, batch_size=32, shuffle=True)\n",
        "val_set = my_dataloaders.GravitySpy_0_5_dataset(root=val_dir, cls=classes, transform=transformGray)\n",
        "val_loader = torch.utils.data.DataLoader(val_set, batch_size=16, shuffle=True)\n",
        "test_set = my_dataloaders.GravitySpy_0_5_dataset(root=test_dir, cls=classes, transform=transformGray)\n",
        "test_loader = torch.utils.data.DataLoader(test_set, batch_size=1, shuffle=True)"
      ]
    },
    {
      "cell_type": "code",
      "execution_count": 15,
      "metadata": {
        "colab": {
          "base_uri": "https://localhost:8080/"
        },
        "id": "XuoIZcjFLCSk",
        "outputId": "41bcc824-052b-42a4-e8d6-acd450325da6"
      },
      "outputs": [
        {
          "output_type": "stream",
          "name": "stdout",
          "text": [
            "The training loader contains 175 instances, the val loader contains 75 instances and the test loader contains 1180 instances\n"
          ]
        }
      ],
      "source": [
        "print(\"The training loader contains {} instances, the val loader contains {} instances and the test loader contains {} instances\".format(len(train_loader), len(val_loader), len(test_loader)))"
      ]
    },
    {
      "cell_type": "code",
      "execution_count": 17,
      "metadata": {
        "colab": {
          "base_uri": "https://localhost:8080/"
        },
        "id": "QgVNrbCl_OQo",
        "outputId": "fe5d2346-f865-4985-bf03-e766da533cfe"
      },
      "outputs": [
        {
          "output_type": "stream",
          "name": "stdout",
          "text": [
            "0: 73 instances\n",
            "1: 314 instances\n",
            "2: 308 instances\n",
            "3: 29 instances\n",
            "4: 208 instances\n",
            "5: 185 instances\n",
            "6: 237 instances\n",
            "7: 284 instances\n",
            "8: 361 instances\n",
            "9: 41 instances\n",
            "10: 437 instances\n",
            "11: 19 instances\n",
            "12: 195 instances\n",
            "13: 316 instances\n",
            "14: 315 instances\n",
            "15: 498 instances\n",
            "16: 107 instances\n",
            "17: 57 instances\n",
            "18: 41 instances\n",
            "19: 59 instances\n",
            "20: 229 instances\n",
            "21: 1274 instances\n",
            "[76.53424657534246, 17.792993630573246, 18.13961038961039, 192.6551724137931, 26.860576923076923, 30.2, 23.57383966244726, 19.672535211267604, 15.476454293628809, 136.26829268292684, 12.784897025171624, 294.0526315789474, 28.651282051282053, 17.680379746835442, 17.736507936507937, 11.218875502008032, 52.21495327102804, 98.01754385964912, 136.26829268292684, 94.6949152542373, 24.397379912663755, 4.385400313971743]\n"
          ]
        }
      ],
      "source": [
        "class_counts = train_set.count_class_instances()\n",
        "class_weights = []\n",
        "for class_name, count in class_counts.items():\n",
        "  print(f\"{class_name}: {count} instances\")\n",
        "  class_weights.append(1.0/(count/len(train_set)))\n",
        "\n",
        "print(class_weights)"
      ]
    },
    {
      "cell_type": "code",
      "source": [
        "# Create Neural Network architecture for finetuning\n",
        "myNet = my_architectures.BaselineGrayscaleNet_resnet18()\n",
        "print(myNet)"
      ],
      "metadata": {
        "colab": {
          "base_uri": "https://localhost:8080/"
        },
        "id": "akFKILwW9FFq",
        "outputId": "d27e49d1-6889-40ae-f8b7-fe65dc640487"
      },
      "execution_count": 11,
      "outputs": [
        {
          "output_type": "stream",
          "name": "stderr",
          "text": [
            "/usr/local/lib/python3.10/dist-packages/torchvision/models/_utils.py:208: UserWarning: The parameter 'pretrained' is deprecated since 0.13 and may be removed in the future, please use 'weights' instead.\n",
            "  warnings.warn(\n",
            "/usr/local/lib/python3.10/dist-packages/torchvision/models/_utils.py:223: UserWarning: Arguments other than a weight enum or `None` for 'weights' are deprecated since 0.13 and may be removed in the future. The current behavior is equivalent to passing `weights=ResNet18_Weights.IMAGENET1K_V1`. You can also use `weights=ResNet18_Weights.DEFAULT` to get the most up-to-date weights.\n",
            "  warnings.warn(msg)\n"
          ]
        },
        {
          "output_type": "stream",
          "name": "stdout",
          "text": [
            "BaselineGrayscaleNet_resnet18(\n",
            "  (resnet): ResNet(\n",
            "    (conv1): Conv2d(1, 64, kernel_size=(7, 7), stride=(2, 2), padding=(3, 3), bias=False)\n",
            "    (bn1): BatchNorm2d(64, eps=1e-05, momentum=0.1, affine=True, track_running_stats=True)\n",
            "    (relu): ReLU(inplace=True)\n",
            "    (maxpool): MaxPool2d(kernel_size=3, stride=2, padding=1, dilation=1, ceil_mode=False)\n",
            "    (layer1): Sequential(\n",
            "      (0): BasicBlock(\n",
            "        (conv1): Conv2d(64, 64, kernel_size=(3, 3), stride=(1, 1), padding=(1, 1), bias=False)\n",
            "        (bn1): BatchNorm2d(64, eps=1e-05, momentum=0.1, affine=True, track_running_stats=True)\n",
            "        (relu): ReLU(inplace=True)\n",
            "        (conv2): Conv2d(64, 64, kernel_size=(3, 3), stride=(1, 1), padding=(1, 1), bias=False)\n",
            "        (bn2): BatchNorm2d(64, eps=1e-05, momentum=0.1, affine=True, track_running_stats=True)\n",
            "      )\n",
            "      (1): BasicBlock(\n",
            "        (conv1): Conv2d(64, 64, kernel_size=(3, 3), stride=(1, 1), padding=(1, 1), bias=False)\n",
            "        (bn1): BatchNorm2d(64, eps=1e-05, momentum=0.1, affine=True, track_running_stats=True)\n",
            "        (relu): ReLU(inplace=True)\n",
            "        (conv2): Conv2d(64, 64, kernel_size=(3, 3), stride=(1, 1), padding=(1, 1), bias=False)\n",
            "        (bn2): BatchNorm2d(64, eps=1e-05, momentum=0.1, affine=True, track_running_stats=True)\n",
            "      )\n",
            "    )\n",
            "    (layer2): Sequential(\n",
            "      (0): BasicBlock(\n",
            "        (conv1): Conv2d(64, 128, kernel_size=(3, 3), stride=(2, 2), padding=(1, 1), bias=False)\n",
            "        (bn1): BatchNorm2d(128, eps=1e-05, momentum=0.1, affine=True, track_running_stats=True)\n",
            "        (relu): ReLU(inplace=True)\n",
            "        (conv2): Conv2d(128, 128, kernel_size=(3, 3), stride=(1, 1), padding=(1, 1), bias=False)\n",
            "        (bn2): BatchNorm2d(128, eps=1e-05, momentum=0.1, affine=True, track_running_stats=True)\n",
            "        (downsample): Sequential(\n",
            "          (0): Conv2d(64, 128, kernel_size=(1, 1), stride=(2, 2), bias=False)\n",
            "          (1): BatchNorm2d(128, eps=1e-05, momentum=0.1, affine=True, track_running_stats=True)\n",
            "        )\n",
            "      )\n",
            "      (1): BasicBlock(\n",
            "        (conv1): Conv2d(128, 128, kernel_size=(3, 3), stride=(1, 1), padding=(1, 1), bias=False)\n",
            "        (bn1): BatchNorm2d(128, eps=1e-05, momentum=0.1, affine=True, track_running_stats=True)\n",
            "        (relu): ReLU(inplace=True)\n",
            "        (conv2): Conv2d(128, 128, kernel_size=(3, 3), stride=(1, 1), padding=(1, 1), bias=False)\n",
            "        (bn2): BatchNorm2d(128, eps=1e-05, momentum=0.1, affine=True, track_running_stats=True)\n",
            "      )\n",
            "    )\n",
            "    (layer3): Sequential(\n",
            "      (0): BasicBlock(\n",
            "        (conv1): Conv2d(128, 256, kernel_size=(3, 3), stride=(2, 2), padding=(1, 1), bias=False)\n",
            "        (bn1): BatchNorm2d(256, eps=1e-05, momentum=0.1, affine=True, track_running_stats=True)\n",
            "        (relu): ReLU(inplace=True)\n",
            "        (conv2): Conv2d(256, 256, kernel_size=(3, 3), stride=(1, 1), padding=(1, 1), bias=False)\n",
            "        (bn2): BatchNorm2d(256, eps=1e-05, momentum=0.1, affine=True, track_running_stats=True)\n",
            "        (downsample): Sequential(\n",
            "          (0): Conv2d(128, 256, kernel_size=(1, 1), stride=(2, 2), bias=False)\n",
            "          (1): BatchNorm2d(256, eps=1e-05, momentum=0.1, affine=True, track_running_stats=True)\n",
            "        )\n",
            "      )\n",
            "      (1): BasicBlock(\n",
            "        (conv1): Conv2d(256, 256, kernel_size=(3, 3), stride=(1, 1), padding=(1, 1), bias=False)\n",
            "        (bn1): BatchNorm2d(256, eps=1e-05, momentum=0.1, affine=True, track_running_stats=True)\n",
            "        (relu): ReLU(inplace=True)\n",
            "        (conv2): Conv2d(256, 256, kernel_size=(3, 3), stride=(1, 1), padding=(1, 1), bias=False)\n",
            "        (bn2): BatchNorm2d(256, eps=1e-05, momentum=0.1, affine=True, track_running_stats=True)\n",
            "      )\n",
            "    )\n",
            "    (layer4): Sequential(\n",
            "      (0): BasicBlock(\n",
            "        (conv1): Conv2d(256, 512, kernel_size=(3, 3), stride=(2, 2), padding=(1, 1), bias=False)\n",
            "        (bn1): BatchNorm2d(512, eps=1e-05, momentum=0.1, affine=True, track_running_stats=True)\n",
            "        (relu): ReLU(inplace=True)\n",
            "        (conv2): Conv2d(512, 512, kernel_size=(3, 3), stride=(1, 1), padding=(1, 1), bias=False)\n",
            "        (bn2): BatchNorm2d(512, eps=1e-05, momentum=0.1, affine=True, track_running_stats=True)\n",
            "        (downsample): Sequential(\n",
            "          (0): Conv2d(256, 512, kernel_size=(1, 1), stride=(2, 2), bias=False)\n",
            "          (1): BatchNorm2d(512, eps=1e-05, momentum=0.1, affine=True, track_running_stats=True)\n",
            "        )\n",
            "      )\n",
            "      (1): BasicBlock(\n",
            "        (conv1): Conv2d(512, 512, kernel_size=(3, 3), stride=(1, 1), padding=(1, 1), bias=False)\n",
            "        (bn1): BatchNorm2d(512, eps=1e-05, momentum=0.1, affine=True, track_running_stats=True)\n",
            "        (relu): ReLU(inplace=True)\n",
            "        (conv2): Conv2d(512, 512, kernel_size=(3, 3), stride=(1, 1), padding=(1, 1), bias=False)\n",
            "        (bn2): BatchNorm2d(512, eps=1e-05, momentum=0.1, affine=True, track_running_stats=True)\n",
            "      )\n",
            "    )\n",
            "    (avgpool): AdaptiveAvgPool2d(output_size=(1, 1))\n",
            "    (fc): Linear(in_features=512, out_features=22, bias=True)\n",
            "  )\n",
            ")\n"
          ]
        }
      ]
    },
    {
      "cell_type": "code",
      "execution_count": null,
      "metadata": {
        "id": "BP8GXkixkmAS"
      },
      "outputs": [],
      "source": [
        "# Pytorch Training loop\n",
        "epoch_test_loss = 0\n",
        "epoch_test_acc = 0\n",
        "epoch_test_correct = 0\n",
        "epoch_test_total = 0\n",
        "\n",
        "best_vloss = 1_000_000.\n",
        "\n",
        "avg_loss = 0\n",
        "last_loss = 0\n",
        "\n",
        "timestamp = my_utils.get_timestamp()\n",
        "\n",
        "# Define the loss function and optimizer\n",
        "criterion = CrossEntropyLoss(weight=torch.tensor(class_weights, dtype=torch.float32), label_smoothing=0.2)\n",
        "optimizer = Adam(myNet.parameters(), lr=0.001, weight_decay=1e-3) #LR from the study of Tiago Fernandes\n",
        "\n",
        "# Number of epochs to train for\n",
        "num_epochs = 1\n",
        "epoch_number = 0\n",
        "\n",
        "start = time.time()\n",
        "for epoch in range(num_epochs):  # loop over the dataset multiple times\n",
        "  total_correct = 0\n",
        "  total_samples = 0\n",
        "  print('EPOCH {}:'.format(epoch_number + 1))\n",
        "  train_loss = 0.0\n",
        "  myNet.train(True)\n",
        "\n",
        "  ## TRAINING ONE EPOCH\n",
        "  for i, data in enumerate(train_loader):\n",
        "    # get the inputs; data is a list of [inputs, labels]\n",
        "    inputs, labels = data\n",
        "    # zero the parameter gradients\n",
        "    optimizer.zero_grad()\n",
        "    # forward + backward + optimize\n",
        "    outputs = myNet(inputs)\n",
        "    # compute loss and gradient\n",
        "    loss = criterion(outputs, labels)\n",
        "    #add part of regularization\n",
        "    l2_reg = torch.tensor(0.0)\n",
        "    for param in myNet.parameters():\n",
        "      if param.requires_grad: #exclude frozen layers\n",
        "        l2_reg += torch.norm(param, p=2)\n",
        "    loss += 1e-5 * l2_reg\n",
        "    #end part of regularization\n",
        "    loss.backward()\n",
        "    # adjust learning weights\n",
        "    optimizer.step()\n",
        "\n",
        "    # print statistics\n",
        "    _, predicted = torch.max(outputs, 1)\n",
        "    train_loss += loss.item() * inputs.size(0)\n",
        "    total_correct += (predicted == labels).sum().item()\n",
        "    total_samples += labels.size(0)\n",
        "\n",
        "    if i % 16 == 15:\n",
        "      last_loss = train_loss / 16\n",
        "      print('  batch {} loss: {}, acc: {}'.format(i+1, last_loss, 100*total_correct/total_samples))\n",
        "      tb_x = epoch * len(train_loader) + i + 1\n",
        "      train_loss=0.\n",
        "    avg_loss = last_loss\n",
        "\n",
        "  ## VALIDATION\n",
        "  running_vloss = 0.0\n",
        "  myNet.eval()\n",
        "\n",
        "  # disable gradient computation for validation\n",
        "  with torch.no_grad():\n",
        "    for i, vdata in enumerate(val_loader):\n",
        "      vinputs, vlabels = vdata\n",
        "      voutputs = myNet(vinputs)\n",
        "      vloss = criterion(voutputs, vlabels)\n",
        "      running_vloss += vloss\n",
        "  avg_vloss = running_vloss / (i+1)\n",
        "  print('LOSS train{} valid {} after {} seconds'.format(avg_loss, avg_vloss, time.time()-start))\n",
        "\n",
        "  if avg_vloss < best_vloss:\n",
        "    best_vloss = avg_vloss\n",
        "    model_path = 'model_{}_{}'.format(timestamp, epoch_number)\n",
        "    torch.save(myNet.state_dict(), model_path)\n",
        "\n",
        "  my_utils.checkpoint(myNet, f\"epoch-{epoch}.pth\")\n",
        "  epoch_number += 1\n",
        "\n",
        "end = time.time()\n",
        "print('Training finished after ', end-start, ' seconds')"
      ]
    },
    {
      "cell_type": "code",
      "execution_count": null,
      "metadata": {
        "colab": {
          "base_uri": "https://localhost:8080/"
        },
        "id": "LFwrV-TIlBCz",
        "outputId": "5ce8f0e2-ed19-4fc1-d36c-9708971b38d8"
      },
      "outputs": [
        {
          "name": "stdout",
          "output_type": "stream",
          "text": [
            "Saved Pytorch Model state to thesis_baseline.pth\n"
          ]
        }
      ],
      "source": [
        "#save model\n",
        "torch.save(myNet.state_dict(), '/content/drive/MyDrive/MscThesis/thesis_baseline_finetune_0_5.pth')\n",
        "print(\"Saved Pytorch Model state to thesis_baseline.pth\")"
      ]
    },
    {
      "cell_type": "code",
      "source": [
        "myNet.load_state_dict(torch.load('/content/drive/MyDrive/MscThesis/thesis_baseline_finetune_1_0.pth'))"
      ],
      "metadata": {
        "id": "lPb3Hcs4RbsK"
      },
      "execution_count": null,
      "outputs": []
    },
    {
      "cell_type": "code",
      "execution_count": null,
      "metadata": {
        "colab": {
          "base_uri": "https://localhost:8080/"
        },
        "id": "ijMNYNHxBB8D",
        "outputId": "c266284b-0852-40de-b6b7-31660d998d47"
      },
      "outputs": [
        {
          "name": "stdout",
          "output_type": "stream",
          "text": [
            "Predicted: \"Tomte\", Actual: \"Blip\"\n",
            "Predicted: \"Paired_Doves\", Actual: \"Wandering_Line\"\n",
            "Predicted: \"Light_Modulation\", Actual: \"Light_Modulation\"\n",
            "Predicted: \"Tomte\", Actual: \"Blip\"\n",
            "Predicted: \"Low_Frequency_Lines\", Actual: \"Low_Frequency_Lines\"\n",
            "Predicted: \"Blip\", Actual: \"Blip\"\n",
            "Predicted: \"Tomte\", Actual: \"Blip\"\n",
            "Predicted: \"Tomte\", Actual: \"Blip\"\n",
            "Predicted: \"Tomte\", Actual: \"Blip\"\n",
            "Predicted: \"Low_Frequency_Burst\", Actual: \"Low_Frequency_Burst\"\n"
          ]
        }
      ],
      "source": [
        "my_utils.n_test_predictions(myNet, test_loader, classes, 20)"
      ]
    },
    {
      "cell_type": "code",
      "execution_count": null,
      "metadata": {
        "id": "IPqfIK6qK_mg"
      },
      "outputs": [],
      "source": [
        "y_pred_list, y_true_list = my_utils.get_predictions(myNet, test_loader)"
      ]
    },
    {
      "cell_type": "code",
      "execution_count": null,
      "metadata": {
        "id": "ETUYsXlKM2CB"
      },
      "outputs": [],
      "source": [
        "# Generate confusion matrix\n",
        "from sklearn.metrics import f1_score\n",
        "cm = confusion_matrix(y_true_list, y_pred_list)\n",
        "f1 = f1_score(y_true_list, y_pred_list, average=None)"
      ]
    },
    {
      "cell_type": "code",
      "execution_count": null,
      "metadata": {
        "id": "nt51bp1_lJa-"
      },
      "outputs": [],
      "source": [
        "import matplotlib.pyplot as plt\n",
        "import seaborn as sns\n",
        "\n",
        "plt.figure(figsize=(10,7))\n",
        "\n",
        "# Use seaborn heatmap for visualization\n",
        "sns.heatmap(cm, annot=True, cmap='Blues', fmt='d', xticklabels=classes, yticklabels=classes)\n",
        "\n",
        "plt.xlabel('Predicted')\n",
        "plt.ylabel('Actual')\n",
        "\n",
        "plt.show()\n"
      ]
    },
    {
      "cell_type": "code",
      "execution_count": null,
      "metadata": {
        "id": "jyT7cWcJQAhm"
      },
      "outputs": [],
      "source": [
        "print(f\"F1 Score for each class: {f1}\")\n",
        "print(f\"The average F1 score is: {f1_score(y_true_list, y_pred_list, average='weighted')}\")"
      ]
    },
    {
      "cell_type": "code",
      "execution_count": null,
      "metadata": {
        "id": "qt4Bt4mURPMY"
      },
      "outputs": [],
      "source": [
        "# Create a horizontal bar plot for F1 scores with different colors\n",
        "plt.figure(figsize=(10,7))\n",
        "colors = plt.cm.viridis(np.linspace(0, 1, len(classes)))\n",
        "plt.barh(np.arange(len(classes)), f1, color=colors, align='center', alpha=0.5)\n",
        "plt.yticks(np.arange(len(classes)), classes)\n",
        "plt.xlabel('F1 Score')\n",
        "plt.title('F1 Score for Each Class')\n",
        "plt.show()"
      ]
    },
    {
      "cell_type": "markdown",
      "metadata": {
        "id": "tPZtEpHZHjCZ"
      },
      "source": [
        "#CL Base model"
      ]
    },
    {
      "cell_type": "code",
      "execution_count": 38,
      "metadata": {
        "id": "JiVzZcsjHlWV"
      },
      "outputs": [],
      "source": [
        "device = torch.device(\"cuda:0\" if torch.cuda.is_available() else \"cpu\")\n",
        "model = SlimResNet18(nclasses=22)\n",
        "interactive_logger = InteractiveLogger()"
      ]
    },
    {
      "cell_type": "code",
      "source": [
        "train_set = my_dataloaders.GravitySpy_1_0_dataset(root=train_dir, cls=classes, transform=transformAV)\n",
        "val_set = my_dataloaders.GravitySpy_1_0_dataset(root=val_dir, cls=classes, transform=transformAV)\n",
        "test_set = my_dataloaders.GravitySpy_1_0_dataset(root=test_dir, cls=classes, transform=transformAV)\n",
        "\n",
        "train_set_av = AvalancheDataset(train_set)\n",
        "train_loader_av = torch.utils.data.DataLoader(train_set, batch_size=32, shuffle=True)\n",
        "\n",
        "val_set_av = AvalancheDataset(val_set)\n",
        "val_loader_av = torch.utils.data.DataLoader(val_set, batch_size=16, shuffle=True)\n",
        "\n",
        "test_set_av = AvalancheDataset(test_set)\n",
        "test_loader_av = torch.utils.data.DataLoader(test_set, batch_size=1, shuffle=True)\n",
        "\n",
        "\n",
        "train_set_av.targets = train_set.labels\n",
        "test_set_av.targets = test_set.labels\n",
        "val_set_av.targets = val_set.labels\n",
        "\n",
        "train_set_av.uniques = list(set(train_set.labels))\n",
        "test_set_av.uniques = list(set(test_set.labels))\n",
        "val_set_av.uniques = list(set(val_set.labels))"
      ],
      "metadata": {
        "id": "xaqHp2gOQb0j"
      },
      "execution_count": 39,
      "outputs": []
    },
    {
      "cell_type": "code",
      "source": [
        "bm = nc_benchmark(\n",
        "    train_dataset=train_set_av,\n",
        "    test_dataset=val_set_av,\n",
        "    n_experiences=11,\n",
        "    shuffle=True,\n",
        "    seed=1234,\n",
        "    task_labels=False,\n",
        ")"
      ],
      "metadata": {
        "id": "LEhQaFGEQcTz"
      },
      "execution_count": 40,
      "outputs": []
    },
    {
      "cell_type": "code",
      "source": [
        "# DEFINE THE EVALUATION PLUGIN\n",
        "# The evaluation plugin manages the metrics computation.\n",
        "# It takes as argument a list of metrics, collectes their results and returns\n",
        "# them to the strategy it is attached to.\n",
        "\n",
        "eval_plugin = EvaluationPlugin(\n",
        "    accuracy_metrics(minibatch=True, epoch=True, experience=True, stream=True),\n",
        "    loss_metrics(minibatch=True, epoch=True, experience=True, stream=True),\n",
        "    timing_metrics(epoch=True),\n",
        "    forgetting_metrics(experience=True, stream=True),\n",
        "    confusion_matrix_metrics(num_classes=bm.n_classes, save_image=True, stream=True),\n",
        "    disk_usage_metrics(minibatch=True, epoch=True, experience=True, stream=True),\n",
        "    loggers=[InteractiveLogger()],\n",
        "    strict_checks=False,\n",
        ")\n",
        "\n",
        "optimizer = Adam(model.parameters(), lr=0.001, weight_decay=1e-3)\n",
        "criterion = CrossEntropyLoss(weight=torch.tensor(class_weights, dtype=torch.float32), label_smoothing=0.2)\n",
        "\n",
        "#cl_strategy = Naive(\n",
        "cl_strategy = LwF(\n",
        "    model, optimizer, criterion,\n",
        "    train_mb_size=32, train_epochs=3, eval_mb_size=16, device=device,\n",
        "    alpha=1, temperature=2\n",
        ")"
      ],
      "metadata": {
        "id": "yK88QPCmQzA_",
        "colab": {
          "base_uri": "https://localhost:8080/"
        },
        "outputId": "88bc7c53-2fa7-4199-fd80-553531c49ced"
      },
      "execution_count": 46,
      "outputs": [
        {
          "output_type": "stream",
          "name": "stderr",
          "text": [
            "/usr/local/lib/python3.10/dist-packages/avalanche/training/templates/base.py:468: PositionalArgumentsDeprecatedWarning: Avalanche is transitioning to strategy constructors that accept named (keyword) arguments only. This is done to ensure that there is no confusion regarding the meaning of each argument (strategies can have many arguments). Your are passing 3 positional arguments to the LwF.__init__ method. Consider passing them as names arguments. The ability to pass positional arguments will be removed in the future.\n",
            "  warnings.warn(error_str, category=PositionalArgumentsDeprecatedWarning)\n"
          ]
        }
      ]
    },
    {
      "cell_type": "code",
      "source": [
        "for experience in bm.train_stream:\n",
        "  print(experience.classes_in_this_experience)"
      ],
      "metadata": {
        "colab": {
          "base_uri": "https://localhost:8080/"
        },
        "id": "mTwMkUvKNfkw",
        "outputId": "f5ff3e10-78ee-4a76-e9dd-cb7bf15220fa"
      },
      "execution_count": 47,
      "outputs": [
        {
          "output_type": "stream",
          "name": "stdout",
          "text": [
            "[19, 5]\n",
            "[8, 12]\n",
            "[0, 3]\n",
            "[14, 7]\n",
            "[20, 15]\n",
            "[4, 13]\n",
            "[16, 17]\n",
            "[10, 18]\n",
            "[9, 11]\n",
            "[1, 6]\n",
            "[2, 21]\n"
          ]
        }
      ]
    },
    {
      "cell_type": "code",
      "execution_count": 48,
      "metadata": {
        "id": "IzTdOiHwMazz",
        "colab": {
          "base_uri": "https://localhost:8080/"
        },
        "outputId": "4b5f8528-1e80-421f-d6ef-c758d2821ef6"
      },
      "outputs": [
        {
          "output_type": "stream",
          "name": "stdout",
          "text": [
            "Starting experiment...\n",
            "Start of experience:  0\n",
            "Current Classes:  [19, 5]\n",
            "-- >> Start of training phase << --\n",
            "100%|██████████| 8/8 [00:06<00:00,  1.18it/s]\n",
            "Epoch 0 ended.\n",
            "\tLoss_Epoch/train_phase/train_stream/Task000 = 1.2965\n",
            "\tTop1_Acc_Epoch/train_phase/train_stream/Task000 = 0.9959\n",
            "100%|██████████| 8/8 [00:05<00:00,  1.43it/s]\n",
            "Epoch 1 ended.\n",
            "\tLoss_Epoch/train_phase/train_stream/Task000 = 1.2482\n",
            "\tTop1_Acc_Epoch/train_phase/train_stream/Task000 = 1.0000\n",
            "100%|██████████| 8/8 [00:06<00:00,  1.22it/s]\n",
            "Epoch 2 ended.\n",
            "\tLoss_Epoch/train_phase/train_stream/Task000 = 1.2328\n",
            "\tTop1_Acc_Epoch/train_phase/train_stream/Task000 = 1.0000\n",
            "-- >> End of training phase << --\n",
            "Training completed\n",
            "Start of experience:  1\n",
            "Current Classes:  [8, 12]\n",
            "-- >> Start of training phase << --\n",
            "100%|██████████| 18/18 [00:16<00:00,  1.08it/s]\n",
            "Epoch 0 ended.\n",
            "\tLoss_Epoch/train_phase/train_stream/Task000 = 3.6515\n",
            "\tTop1_Acc_Epoch/train_phase/train_stream/Task000 = 0.5683\n",
            "100%|██████████| 18/18 [00:16<00:00,  1.10it/s]\n",
            "Epoch 1 ended.\n",
            "\tLoss_Epoch/train_phase/train_stream/Task000 = 2.6679\n",
            "\tTop1_Acc_Epoch/train_phase/train_stream/Task000 = 0.9802\n",
            "100%|██████████| 18/18 [00:16<00:00,  1.09it/s]\n",
            "Epoch 2 ended.\n",
            "\tLoss_Epoch/train_phase/train_stream/Task000 = 2.6367\n",
            "\tTop1_Acc_Epoch/train_phase/train_stream/Task000 = 0.9838\n",
            "-- >> End of training phase << --\n",
            "Training completed\n",
            "Start of experience:  2\n",
            "Current Classes:  [0, 3]\n",
            "-- >> Start of training phase << --\n",
            "100%|██████████| 4/4 [00:03<00:00,  1.13it/s]\n",
            "Epoch 0 ended.\n",
            "\tLoss_Epoch/train_phase/train_stream/Task000 = 2.5508\n",
            "\tTop1_Acc_Epoch/train_phase/train_stream/Task000 = 0.0000\n",
            "100%|██████████| 4/4 [00:03<00:00,  1.19it/s]\n",
            "Epoch 1 ended.\n",
            "\tLoss_Epoch/train_phase/train_stream/Task000 = 1.2631\n",
            "\tTop1_Acc_Epoch/train_phase/train_stream/Task000 = 0.7549\n",
            "100%|██████████| 4/4 [00:02<00:00,  1.38it/s]\n",
            "Epoch 2 ended.\n",
            "\tLoss_Epoch/train_phase/train_stream/Task000 = 0.7657\n",
            "\tTop1_Acc_Epoch/train_phase/train_stream/Task000 = 1.0000\n",
            "-- >> End of training phase << --\n",
            "Training completed\n",
            "Start of experience:  3\n",
            "Current Classes:  [14, 7]\n",
            "-- >> Start of training phase << --\n",
            "100%|██████████| 19/19 [00:18<00:00,  1.05it/s]\n",
            "Epoch 0 ended.\n",
            "\tLoss_Epoch/train_phase/train_stream/Task000 = 4.7637\n",
            "\tTop1_Acc_Epoch/train_phase/train_stream/Task000 = 0.4257\n",
            "100%|██████████| 19/19 [00:19<00:00,  1.01s/it]\n",
            "Epoch 1 ended.\n",
            "\tLoss_Epoch/train_phase/train_stream/Task000 = 2.9711\n",
            "\tTop1_Acc_Epoch/train_phase/train_stream/Task000 = 0.9800\n",
            "100%|██████████| 19/19 [00:17<00:00,  1.06it/s]\n",
            "Epoch 2 ended.\n",
            "\tLoss_Epoch/train_phase/train_stream/Task000 = 2.9081\n",
            "\tTop1_Acc_Epoch/train_phase/train_stream/Task000 = 0.9933\n",
            "-- >> End of training phase << --\n",
            "Training completed\n",
            "Start of experience:  4\n",
            "Current Classes:  [20, 15]\n",
            "-- >> Start of training phase << --\n",
            "100%|██████████| 23/23 [00:22<00:00,  1.02it/s]\n",
            "Epoch 0 ended.\n",
            "\tLoss_Epoch/train_phase/train_stream/Task000 = 4.0619\n",
            "\tTop1_Acc_Epoch/train_phase/train_stream/Task000 = 0.6561\n",
            "100%|██████████| 23/23 [00:21<00:00,  1.07it/s]\n",
            "Epoch 1 ended.\n",
            "\tLoss_Epoch/train_phase/train_stream/Task000 = 3.3453\n",
            "\tTop1_Acc_Epoch/train_phase/train_stream/Task000 = 0.9986\n",
            "100%|██████████| 23/23 [00:22<00:00,  1.02it/s]\n",
            "Epoch 2 ended.\n",
            "\tLoss_Epoch/train_phase/train_stream/Task000 = 3.3164\n",
            "\tTop1_Acc_Epoch/train_phase/train_stream/Task000 = 1.0000\n",
            "-- >> End of training phase << --\n",
            "Training completed\n",
            "Start of experience:  5\n",
            "Current Classes:  [4, 13]\n",
            "-- >> Start of training phase << --\n",
            "100%|██████████| 17/17 [00:14<00:00,  1.14it/s]\n",
            "Epoch 0 ended.\n",
            "\tLoss_Epoch/train_phase/train_stream/Task000 = 3.9428\n",
            "\tTop1_Acc_Epoch/train_phase/train_stream/Task000 = 0.3931\n",
            "100%|██████████| 17/17 [00:15<00:00,  1.13it/s]\n",
            "Epoch 1 ended.\n",
            "\tLoss_Epoch/train_phase/train_stream/Task000 = 2.7434\n",
            "\tTop1_Acc_Epoch/train_phase/train_stream/Task000 = 0.9790\n",
            "100%|██████████| 17/17 [00:15<00:00,  1.13it/s]\n",
            "Epoch 2 ended.\n",
            "\tLoss_Epoch/train_phase/train_stream/Task000 = 2.6149\n",
            "\tTop1_Acc_Epoch/train_phase/train_stream/Task000 = 0.9905\n",
            "-- >> End of training phase << --\n",
            "Training completed\n",
            "Start of experience:  6\n",
            "Current Classes:  [16, 17]\n",
            "-- >> Start of training phase << --\n",
            "100%|██████████| 6/6 [00:05<00:00,  1.05it/s]\n",
            "Epoch 0 ended.\n",
            "\tLoss_Epoch/train_phase/train_stream/Task000 = 2.9895\n",
            "\tTop1_Acc_Epoch/train_phase/train_stream/Task000 = 0.0183\n",
            "100%|██████████| 6/6 [00:04<00:00,  1.31it/s]\n",
            "Epoch 1 ended.\n",
            "\tLoss_Epoch/train_phase/train_stream/Task000 = 1.6631\n",
            "\tTop1_Acc_Epoch/train_phase/train_stream/Task000 = 0.7073\n",
            "100%|██████████| 6/6 [00:05<00:00,  1.17it/s]\n",
            "Epoch 2 ended.\n",
            "\tLoss_Epoch/train_phase/train_stream/Task000 = 1.2184\n",
            "\tTop1_Acc_Epoch/train_phase/train_stream/Task000 = 0.9451\n",
            "-- >> End of training phase << --\n",
            "Training completed\n",
            "Start of experience:  7\n",
            "Current Classes:  [10, 18]\n",
            "-- >> Start of training phase << --\n",
            "100%|██████████| 15/15 [00:14<00:00,  1.03it/s]\n",
            "Epoch 0 ended.\n",
            "\tLoss_Epoch/train_phase/train_stream/Task000 = 5.2541\n",
            "\tTop1_Acc_Epoch/train_phase/train_stream/Task000 = 0.0272\n",
            "100%|██████████| 15/15 [00:14<00:00,  1.03it/s]\n",
            "Epoch 1 ended.\n",
            "\tLoss_Epoch/train_phase/train_stream/Task000 = 2.8828\n",
            "\tTop1_Acc_Epoch/train_phase/train_stream/Task000 = 0.7301\n",
            "100%|██████████| 15/15 [00:14<00:00,  1.05it/s]\n",
            "Epoch 2 ended.\n",
            "\tLoss_Epoch/train_phase/train_stream/Task000 = 2.6048\n",
            "\tTop1_Acc_Epoch/train_phase/train_stream/Task000 = 0.9979\n",
            "-- >> End of training phase << --\n",
            "Training completed\n",
            "Start of experience:  8\n",
            "Current Classes:  [9, 11]\n",
            "-- >> Start of training phase << --\n",
            "100%|██████████| 2/2 [00:01<00:00,  1.20it/s]\n",
            "Epoch 0 ended.\n",
            "\tLoss_Epoch/train_phase/train_stream/Task000 = 2.2616\n",
            "\tTop1_Acc_Epoch/train_phase/train_stream/Task000 = 0.0000\n",
            "100%|██████████| 2/2 [00:01<00:00,  1.22it/s]\n",
            "Epoch 1 ended.\n",
            "\tLoss_Epoch/train_phase/train_stream/Task000 = 1.9043\n",
            "\tTop1_Acc_Epoch/train_phase/train_stream/Task000 = 0.0000\n",
            "100%|██████████| 2/2 [00:01<00:00,  1.20it/s]\n",
            "Epoch 2 ended.\n",
            "\tLoss_Epoch/train_phase/train_stream/Task000 = 1.4996\n",
            "\tTop1_Acc_Epoch/train_phase/train_stream/Task000 = 0.1500\n",
            "-- >> End of training phase << --\n",
            "Training completed\n",
            "Start of experience:  9\n",
            "Current Classes:  [1, 6]\n",
            "-- >> Start of training phase << --\n",
            "100%|██████████| 18/18 [00:16<00:00,  1.08it/s]\n",
            "Epoch 0 ended.\n",
            "\tLoss_Epoch/train_phase/train_stream/Task000 = 4.4144\n",
            "\tTop1_Acc_Epoch/train_phase/train_stream/Task000 = 0.1887\n",
            "100%|██████████| 18/18 [00:17<00:00,  1.02it/s]\n",
            "Epoch 1 ended.\n",
            "\tLoss_Epoch/train_phase/train_stream/Task000 = 2.8546\n",
            "\tTop1_Acc_Epoch/train_phase/train_stream/Task000 = 0.9764\n",
            "100%|██████████| 18/18 [00:16<00:00,  1.08it/s]\n",
            "Epoch 2 ended.\n",
            "\tLoss_Epoch/train_phase/train_stream/Task000 = 2.7090\n",
            "\tTop1_Acc_Epoch/train_phase/train_stream/Task000 = 0.9909\n",
            "-- >> End of training phase << --\n",
            "Training completed\n",
            "Start of experience:  10\n",
            "Current Classes:  [2, 21]\n",
            "-- >> Start of training phase << --\n",
            "100%|██████████| 50/50 [00:46<00:00,  1.06it/s]\n",
            "Epoch 0 ended.\n",
            "\tLoss_Epoch/train_phase/train_stream/Task000 = 6.9872\n",
            "\tTop1_Acc_Epoch/train_phase/train_stream/Task000 = 0.4912\n",
            "100%|██████████| 50/50 [00:47<00:00,  1.04it/s]\n",
            "Epoch 1 ended.\n",
            "\tLoss_Epoch/train_phase/train_stream/Task000 = 6.2519\n",
            "\tTop1_Acc_Epoch/train_phase/train_stream/Task000 = 0.9602\n",
            "100%|██████████| 50/50 [00:47<00:00,  1.06it/s]\n",
            "Epoch 2 ended.\n",
            "\tLoss_Epoch/train_phase/train_stream/Task000 = 6.2165\n",
            "\tTop1_Acc_Epoch/train_phase/train_stream/Task000 = 0.9893\n",
            "-- >> End of training phase << --\n",
            "Training completed\n"
          ]
        }
      ],
      "source": [
        "print('Starting experiment...')\n",
        "results = []\n",
        "for experience in bm.train_stream:\n",
        "    print(\"Start of experience: \", experience.current_experience)\n",
        "    print(\"Current Classes: \", experience.classes_in_this_experience)\n",
        "    cl_strategy.train(experience)\n",
        "    print('Training completed')"
      ]
    },
    {
      "cell_type": "code",
      "execution_count": 49,
      "metadata": {
        "id": "taW1mJPKqLwz",
        "colab": {
          "base_uri": "https://localhost:8080/"
        },
        "outputId": "8c8753d5-7fef-4dbe-9096-ab2b2b5039f4"
      },
      "outputs": [
        {
          "output_type": "stream",
          "name": "stdout",
          "text": [
            "Saved Pytorch Model state to thesis_generative_CL_1_0.pth\n"
          ]
        }
      ],
      "source": [
        "#save model\n",
        "torch.save(model.state_dict(), '/content/drive/MyDrive/MscThesis/thesis_generative_CL_1_0.pth')\n",
        "print(\"Saved Pytorch Model state to thesis_generative_CL_1_0.pth\")"
      ]
    },
    {
      "cell_type": "code",
      "source": [
        "model = SlimResNet18(nclasses=22)\n",
        "model.load_state_dict(torch.load('/content/drive/MyDrive/MscThesis/thesis_generative_CL_1_0.pth'))\n",
        "model.eval()"
      ],
      "metadata": {
        "colab": {
          "base_uri": "https://localhost:8080/"
        },
        "id": "6pNYVJcrJ_s-",
        "outputId": "2b566a7c-9c49-476d-ef74-284afbaa1eb8"
      },
      "execution_count": 50,
      "outputs": [
        {
          "output_type": "execute_result",
          "data": {
            "text/plain": [
              "ResNet(\n",
              "  (conv1): Conv2d(3, 20, kernel_size=(3, 3), stride=(1, 1), padding=(1, 1), bias=False)\n",
              "  (bn1): BatchNorm2d(20, eps=1e-05, momentum=0.1, affine=True, track_running_stats=True)\n",
              "  (layer1): Sequential(\n",
              "    (0): BasicBlock(\n",
              "      (conv1): Conv2d(20, 20, kernel_size=(3, 3), stride=(1, 1), padding=(1, 1), bias=False)\n",
              "      (bn1): BatchNorm2d(20, eps=1e-05, momentum=0.1, affine=True, track_running_stats=True)\n",
              "      (conv2): Conv2d(20, 20, kernel_size=(3, 3), stride=(1, 1), padding=(1, 1), bias=False)\n",
              "      (bn2): BatchNorm2d(20, eps=1e-05, momentum=0.1, affine=True, track_running_stats=True)\n",
              "      (shortcut): Sequential()\n",
              "    )\n",
              "    (1): BasicBlock(\n",
              "      (conv1): Conv2d(20, 20, kernel_size=(3, 3), stride=(1, 1), padding=(1, 1), bias=False)\n",
              "      (bn1): BatchNorm2d(20, eps=1e-05, momentum=0.1, affine=True, track_running_stats=True)\n",
              "      (conv2): Conv2d(20, 20, kernel_size=(3, 3), stride=(1, 1), padding=(1, 1), bias=False)\n",
              "      (bn2): BatchNorm2d(20, eps=1e-05, momentum=0.1, affine=True, track_running_stats=True)\n",
              "      (shortcut): Sequential()\n",
              "    )\n",
              "  )\n",
              "  (layer2): Sequential(\n",
              "    (0): BasicBlock(\n",
              "      (conv1): Conv2d(20, 40, kernel_size=(3, 3), stride=(2, 2), padding=(1, 1), bias=False)\n",
              "      (bn1): BatchNorm2d(40, eps=1e-05, momentum=0.1, affine=True, track_running_stats=True)\n",
              "      (conv2): Conv2d(40, 40, kernel_size=(3, 3), stride=(1, 1), padding=(1, 1), bias=False)\n",
              "      (bn2): BatchNorm2d(40, eps=1e-05, momentum=0.1, affine=True, track_running_stats=True)\n",
              "      (shortcut): Sequential(\n",
              "        (0): Conv2d(20, 40, kernel_size=(1, 1), stride=(2, 2), bias=False)\n",
              "        (1): BatchNorm2d(40, eps=1e-05, momentum=0.1, affine=True, track_running_stats=True)\n",
              "      )\n",
              "    )\n",
              "    (1): BasicBlock(\n",
              "      (conv1): Conv2d(40, 40, kernel_size=(3, 3), stride=(1, 1), padding=(1, 1), bias=False)\n",
              "      (bn1): BatchNorm2d(40, eps=1e-05, momentum=0.1, affine=True, track_running_stats=True)\n",
              "      (conv2): Conv2d(40, 40, kernel_size=(3, 3), stride=(1, 1), padding=(1, 1), bias=False)\n",
              "      (bn2): BatchNorm2d(40, eps=1e-05, momentum=0.1, affine=True, track_running_stats=True)\n",
              "      (shortcut): Sequential()\n",
              "    )\n",
              "  )\n",
              "  (layer3): Sequential(\n",
              "    (0): BasicBlock(\n",
              "      (conv1): Conv2d(40, 80, kernel_size=(3, 3), stride=(2, 2), padding=(1, 1), bias=False)\n",
              "      (bn1): BatchNorm2d(80, eps=1e-05, momentum=0.1, affine=True, track_running_stats=True)\n",
              "      (conv2): Conv2d(80, 80, kernel_size=(3, 3), stride=(1, 1), padding=(1, 1), bias=False)\n",
              "      (bn2): BatchNorm2d(80, eps=1e-05, momentum=0.1, affine=True, track_running_stats=True)\n",
              "      (shortcut): Sequential(\n",
              "        (0): Conv2d(40, 80, kernel_size=(1, 1), stride=(2, 2), bias=False)\n",
              "        (1): BatchNorm2d(80, eps=1e-05, momentum=0.1, affine=True, track_running_stats=True)\n",
              "      )\n",
              "    )\n",
              "    (1): BasicBlock(\n",
              "      (conv1): Conv2d(80, 80, kernel_size=(3, 3), stride=(1, 1), padding=(1, 1), bias=False)\n",
              "      (bn1): BatchNorm2d(80, eps=1e-05, momentum=0.1, affine=True, track_running_stats=True)\n",
              "      (conv2): Conv2d(80, 80, kernel_size=(3, 3), stride=(1, 1), padding=(1, 1), bias=False)\n",
              "      (bn2): BatchNorm2d(80, eps=1e-05, momentum=0.1, affine=True, track_running_stats=True)\n",
              "      (shortcut): Sequential()\n",
              "    )\n",
              "  )\n",
              "  (layer4): Sequential(\n",
              "    (0): BasicBlock(\n",
              "      (conv1): Conv2d(80, 160, kernel_size=(3, 3), stride=(2, 2), padding=(1, 1), bias=False)\n",
              "      (bn1): BatchNorm2d(160, eps=1e-05, momentum=0.1, affine=True, track_running_stats=True)\n",
              "      (conv2): Conv2d(160, 160, kernel_size=(3, 3), stride=(1, 1), padding=(1, 1), bias=False)\n",
              "      (bn2): BatchNorm2d(160, eps=1e-05, momentum=0.1, affine=True, track_running_stats=True)\n",
              "      (shortcut): Sequential(\n",
              "        (0): Conv2d(80, 160, kernel_size=(1, 1), stride=(2, 2), bias=False)\n",
              "        (1): BatchNorm2d(160, eps=1e-05, momentum=0.1, affine=True, track_running_stats=True)\n",
              "      )\n",
              "    )\n",
              "    (1): BasicBlock(\n",
              "      (conv1): Conv2d(160, 160, kernel_size=(3, 3), stride=(1, 1), padding=(1, 1), bias=False)\n",
              "      (bn1): BatchNorm2d(160, eps=1e-05, momentum=0.1, affine=True, track_running_stats=True)\n",
              "      (conv2): Conv2d(160, 160, kernel_size=(3, 3), stride=(1, 1), padding=(1, 1), bias=False)\n",
              "      (bn2): BatchNorm2d(160, eps=1e-05, momentum=0.1, affine=True, track_running_stats=True)\n",
              "      (shortcut): Sequential()\n",
              "    )\n",
              "  )\n",
              "  (linear): Linear(in_features=160, out_features=22, bias=True)\n",
              ")"
            ]
          },
          "metadata": {},
          "execution_count": 50
        }
      ]
    },
    {
      "cell_type": "code",
      "source": [
        "my_utils.n_test_predictions(model, test_loader_av, classes, 20)"
      ],
      "metadata": {
        "id": "VmpqErprNUq2",
        "colab": {
          "base_uri": "https://localhost:8080/"
        },
        "outputId": "060f7b64-22b1-43ab-ce2a-34b089e89267"
      },
      "execution_count": 51,
      "outputs": [
        {
          "output_type": "stream",
          "name": "stdout",
          "text": [
            "Predicted: \"Blip\", Actual: \"Repeating_Blips\"\n",
            "Predicted: \"Scattered_Light\", Actual: \"1080Lines\"\n",
            "Predicted: \"Scattered_Light\", Actual: \"Scattered_Light\"\n",
            "Predicted: \"Scattered_Light\", Actual: \"Low_Frequency_Lines\"\n",
            "Predicted: \"Scattered_Light\", Actual: \"Scattered_Light\"\n",
            "Predicted: \"Scattered_Light\", Actual: \"Whistle\"\n",
            "Predicted: \"Scattered_Light\", Actual: \"Extremely_Loud\"\n",
            "Predicted: \"Blip\", Actual: \"Blip\"\n",
            "Predicted: \"Blip\", Actual: \"Blip\"\n",
            "Predicted: \"Scattered_Light\", Actual: \"Violin_Mode\"\n",
            "Predicted: \"Scattered_Light\", Actual: \"Power_Line\"\n",
            "Predicted: \"Blip\", Actual: \"Blip\"\n",
            "Predicted: \"Scattered_Light\", Actual: \"Violin_Mode\"\n",
            "Predicted: \"Scattered_Light\", Actual: \"Low_Frequency_Burst\"\n",
            "Predicted: \"Scattered_Light\", Actual: \"Whistle\"\n",
            "Predicted: \"Blip\", Actual: \"Helix\"\n",
            "Predicted: \"Scattered_Light\", Actual: \"Wandering_Line\"\n",
            "Predicted: \"Blip\", Actual: \"Light_Modulation\"\n",
            "Predicted: \"Scattered_Light\", Actual: \"Wandering_Line\"\n",
            "Predicted: \"Scattered_Light\", Actual: \"Extremely_Loud\"\n",
            "n_test_predictions: 456.6502571105957 ms\n"
          ]
        }
      ]
    },
    {
      "cell_type": "code",
      "source": [
        "test_loader = torch.utils.data.DataLoader(test_set, batch_size=1, shuffle=True)\n",
        "y_pred_list, y_true_list = my_utils.get_predictions(model, test_loader)"
      ],
      "metadata": {
        "id": "nfxKV4NxtfAr",
        "colab": {
          "base_uri": "https://localhost:8080/"
        },
        "outputId": "667232c3-a3c5-4601-e93b-ed9eebf43878"
      },
      "execution_count": 52,
      "outputs": [
        {
          "output_type": "stream",
          "name": "stdout",
          "text": [
            "get_predictions: 26193.859815597534 ms\n"
          ]
        }
      ]
    },
    {
      "cell_type": "code",
      "source": [
        "# Generate confusion matrix\n",
        "cm = confusion_matrix(y_true_list, y_pred_list)\n",
        "f1 = f1_score(y_true_list, y_pred_list, average=None)"
      ],
      "metadata": {
        "id": "iXDVLw9Mtt4v"
      },
      "execution_count": 53,
      "outputs": []
    },
    {
      "cell_type": "code",
      "source": [
        "plt.figure(figsize=(10,7))\n",
        "\n",
        "# Use seaborn heatmap for visualization\n",
        "sns.heatmap(cm, annot=True, cmap='Blues', fmt='d', xticklabels=classes, yticklabels=classes)\n",
        "\n",
        "plt.xlabel('Predicted')\n",
        "plt.ylabel('Actual')\n",
        "\n",
        "plt.show()"
      ],
      "metadata": {
        "id": "q4syrSY9t9N9",
        "colab": {
          "base_uri": "https://localhost:8080/",
          "height": 790
        },
        "outputId": "ab7af71c-e301-49c2-a0a8-0cdf621dd9f7"
      },
      "execution_count": 54,
      "outputs": [
        {
          "output_type": "display_data",
          "data": {
            "text/plain": [
              "<Figure size 1000x700 with 2 Axes>"
            ],
            "image/png": "[encoded data removed]"
          },
          "metadata": {}
        }
      ]
    },
    {
      "cell_type": "code",
      "source": [],
      "metadata": {
        "id": "xbYSfxKDj3vj"
      },
      "execution_count": null,
      "outputs": []
    }
  ],
  "metadata": {
    "colab": {
      "provenance": [],
      "mount_file_id": "1vsLt8KULa-1HhNdKYHdrNM4CC6hJY3lU",
      "authorship_tag": "ABX9TyOEKIhdk3Y7j3ohbeKvPP/+",
      "include_colab_link": true
    },
    "kernelspec": {
      "display_name": "Python 3",
      "name": "python3"
    },
    "language_info": {
      "name": "python"
    }
  },
  "nbformat": 4,
  "nbformat_minor": 0
}
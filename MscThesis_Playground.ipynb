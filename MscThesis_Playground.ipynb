{
 "cells": [
  {
   "cell_type": "markdown",
   "metadata": {
    "colab_type": "text",
    "id": "view-in-github"
   },
   "source": [
    "<a href=\"https://colab.research.google.com/github/brianbaert/MscThesis/blob/main/MscThesis_Playground.ipynb\" target=\"_parent\"><img src=\"https://colab.research.google.com/assets/colab-badge.svg\" alt=\"Open In Colab\"/></a>"
   ]
  },
  {
   "cell_type": "markdown",
   "metadata": {
    "id": "qOAiIcv_lMu8"
   },
   "source": [
    "# Packages"
   ]
  },
  {
   "cell_type": "code",
   "execution_count": 1,
   "metadata": {
    "colab": {
     "base_uri": "https://localhost:8080/"
    },
    "id": "LiPWZMxjETE3",
    "outputId": "7c1608f9-ddbd-48dd-d90c-9f886d526af0"
   },
   "outputs": [
    {
     "name": "stdout",
     "output_type": "stream",
     "text": [
      "Python 3.10.14\n"
     ]
    }
   ],
   "source": [
    "!python --version"
   ]
  },
  {
   "cell_type": "code",
   "execution_count": 2,
   "metadata": {
    "colab": {
     "base_uri": "https://localhost:8080/"
    },
    "id": "P6lu0g2-XF2A",
    "outputId": "a86324e6-29d5-46fd-f27b-ee9980e3b025"
   },
   "outputs": [
    {
     "name": "stdout",
     "output_type": "stream",
     "text": [
      "Name: avalanche-lib\n",
      "Version: 0.5.0\n",
      "Summary: Avalanche: a Comprehensive Framework for Continual Learning Research\n",
      "Home-page: https://github.com/ContinualAI/avalanche\n",
      "Author: ContinualAI\n",
      "Author-email: contact@continualai.org\n",
      "License: \n",
      "Location: c:\\programdata\\anaconda3\\envs\\mscthesis\\lib\\site-packages\n",
      "Requires: dill, gdown, gputil, matplotlib, numpy, packaging, psutil, pytorchcv, qpsolvers, scikit-learn, tensorboard, torch, torchmetrics, torchvision, tqdm, typing-extensions, wandb\n",
      "Required-by: \n",
      "Name: gwpy\n",
      "Version: 3.0.8\n",
      "Summary: A python package for gravitational-wave astrophysics\n",
      "Home-page: \n",
      "Author: \n",
      "Author-email: Duncan Macleod <duncan.macleod@ligo.org>\n",
      "License: GPL-3.0-or-later\n",
      "Location: c:\\programdata\\anaconda3\\envs\\mscthesis\\lib\\site-packages\n",
      "Requires: astropy, dateparser, dqsegdb2, gwdatafind, gwosc, h5py, ligo-segments, ligotimegps, matplotlib, numpy, python-dateutil, requests, scipy, tqdm\n",
      "Required-by: \n"
     ]
    }
   ],
   "source": [
    "#!pip install avalanche_lib[all]\n",
    "#!pip install gwpy\n",
    "#!pip install nds2\n",
    "!pip show avalanche-lib\n",
    "!pip show gwpy"
   ]
  },
  {
   "cell_type": "code",
   "execution_count": 3,
   "metadata": {
    "colab": {
     "base_uri": "https://localhost:8080/"
    },
    "id": "t1jbz0_g5bZW",
    "outputId": "68b123d7-8ec2-4e8c-d4da-9c025017c0f4"
   },
   "outputs": [
    {
     "data": {
      "text/plain": [
       "'C:\\\\Users\\\\Brian.Baert\\\\Documents\\\\GitHub\\\\MscThesis'"
      ]
     },
     "execution_count": 3,
     "metadata": {},
     "output_type": "execute_result"
    }
   ],
   "source": [
    " #%cd /content/drive/MyDrive/MscThesis\n",
    "%pwd"
   ]
  },
  {
   "cell_type": "code",
   "execution_count": 91,
   "metadata": {
    "id": "rVEI5x8RadVA"
   },
   "outputs": [],
   "source": [
    "import numpy as np\n",
    "import os\n",
    "import pandas as pd\n",
    "import time\n",
    "\n",
    "from datetime import datetime\n",
    "from PIL import Image\n",
    "from collections import Counter\n",
    "import matplotlib.pyplot as plt\n",
    "import seaborn as sns\n",
    "import torch\n",
    "import torch.optim as optim\n",
    "import torchvision\n",
    "import torchvision.transforms as transforms\n",
    "from torch.optim import SGD, Adam, AdamW\n",
    "import torch.nn as nn\n",
    "import torch.nn.functional as F\n",
    "from torch.nn import CrossEntropyLoss\n",
    "from torch.utils.data import DataLoader, Dataset\n",
    "from torch.utils.tensorboard import SummaryWriter\n",
    "from torchvision.datasets import DatasetFolder, ImageFolder\n",
    "from tqdm import tqdm\n",
    "from sklearn import model_selection\n",
    "from sklearn.tree import DecisionTreeClassifier\n",
    "from sklearn.metrics import classification_report, confusion_matrix, f1_score, \\\n",
    "accuracy_score\n",
    "from avalanche.models import SlimResNet18\n",
    "from avalanche.training import Naive, LwF, GenerativeReplay, ICaRLLossPlugin, ICaRL, EWC\n",
    "from avalanche.logging import InteractiveLogger, TextLogger\n",
    "from avalanche.training.plugins import EvaluationPlugin\n",
    "from avalanche.benchmarks import nc_benchmark\n",
    "from avalanche.benchmarks.utils import AvalancheDataset\n",
    "from avalanche.benchmarks.scenarios.dataset_scenario import benchmark_from_datasets\n",
    "from avalanche.benchmarks.scenarios.supervised import class_incremental_benchmark\n",
    "from avalanche.evaluation.metrics import forgetting_metrics, accuracy_metrics,loss_metrics, \\\n",
    "timing_metrics, cpu_usage_metrics, StreamConfusionMatrix,disk_usage_metrics, gpu_usage_metrics, \\\n",
    "confusion_matrix_metrics\n",
    "import multiprocessing as mp\n",
    "\n",
    "import my_utils\n",
    "import my_architectures\n",
    "import my_dataloaders\n",
    "import my_gwpy_and_fractals\n",
    "\n",
    "IMG_SIZE = (224,224)\n",
    "\n",
    "device = torch.device(\"cuda:0\" if torch.cuda.is_available() else \"cpu\")"
   ]
  },
  {
   "cell_type": "code",
   "execution_count": 5,
   "metadata": {},
   "outputs": [
    {
     "name": "stdout",
     "output_type": "stream",
     "text": [
      "8\n"
     ]
    }
   ],
   "source": [
    "number_of_workers = mp.cpu_count()\n",
    "number_of_workers = int(number_of_workers)\n",
    "print(number_of_workers)"
   ]
  },
  {
   "cell_type": "markdown",
   "metadata": {
    "id": "CW-cEM0DJMom"
   },
   "source": [
    "# DL Baseline"
   ]
  },
  {
   "cell_type": "code",
   "execution_count": 6,
   "metadata": {
    "id": "Wpa8snbd2P8Q"
   },
   "outputs": [],
   "source": [
    "#train_dir = '/content/drive/MyDrive/MscThesis/GravitySpy/train/train'\n",
    "train_dir = 'C:\\\\Users\\\\Brian.Baert\\\\GravitySpy\\\\train\\\\train'\n",
    "#val_dir = '/content/drive/MyDrive/MscThesis/GravitySpy/validation/validation'\n",
    "val_dir = 'C:\\\\Users\\\\Brian.Baert\\\\GravitySpy\\\\validation\\\\validation'\n",
    "#test_dir = '/content/drive/MyDrive/MscThesis/GravitySpy/test/test'\n",
    "test_dir = 'C:\\\\Users\\\\Brian.Baert\\\\GravitySpy\\\\test\\\\test'\n",
    "#metadata_o3b = '/content/drive/MyDrive/MscThesis/data_o3b_high_confidence.csv'\n",
    "#metadata_o3a = '/content/drive/MyDrive/MscThesis/data_o3a_high_confidence.csv'\n",
    "#metadata_o1L1 = '/content/drive/MyDrive/MscThesis/GravitySpy/L1_O1.csv'\n",
    "#metadata_o2L1 = '/content/drive/MyDrive/MscThesis/GravitySpy/L1_O2.csv'"
   ]
  },
  {
   "cell_type": "code",
   "execution_count": 7,
   "metadata": {
    "colab": {
     "base_uri": "https://localhost:8080/"
    },
    "id": "Jz23eVLldHhF",
    "outputId": "b43f99a3-4c6f-4eb2-d62a-8608422b899f"
   },
   "outputs": [
    {
     "name": "stdout",
     "output_type": "stream",
     "text": [
      "label\n",
      "Blip                   1274\n",
      "Koi_Fish                498\n",
      "Low_Frequency_Burst     437\n",
      "Light_Modulation        361\n",
      "Extremely_Loud          316\n",
      "Low_Frequency_Lines     315\n",
      "Power_Line              314\n",
      "Scattered_Light         308\n",
      "Violin_Mode             284\n",
      "Scratchy                237\n",
      "1080Lines               229\n",
      "Whistle                 208\n",
      "Helix                   195\n",
      "Repeating_Blips         185\n",
      "No_Glitch               107\n",
      "Tomte                    73\n",
      "1400Ripples              59\n",
      "None_of_the_Above        57\n",
      "Air_Compressor           41\n",
      "Chirp                    41\n",
      "Wandering_Line           29\n",
      "Paired_Doves             19\n",
      "Name: count, dtype: int64\n"
     ]
    },
    {
     "data": {
      "text/plain": [
       "array(['Whistle', '1080Lines', 'Blip', 'Violin_Mode',\n",
       "       'Scattered_Light', 'Power_Line', 'Light_Modulation',\n",
       "       'Koi_Fish', 'None_of_the_Above', 'Scratchy', 'Tomte',\n",
       "       'Chirp', 'Wandering_Line', 'Extremely_Loud',\n",
       "       'Repeating_Blips', 'No_Glitch', 'Low_Frequency_Lines',\n",
       "       'Paired_Doves', 'Low_Frequency_Burst', 'Helix',\n",
       "       'Air_Compressor', '1400Ripples'], dtype=object)"
      ]
     },
     "execution_count": 7,
     "metadata": {},
     "output_type": "execute_result"
    }
   ],
   "source": [
    "#meta_train_v1 = pd.read_csv('/content/drive/MyDrive/MscThesis/GravitySpy/trainingset_v1d1_metadata.csv')\n",
    "meta_train_v1 = pd.read_csv('C:\\\\Users\\\\Brian.Baert\\\\GravitySpy\\\\trainingset_v1d1_metadata.csv')\n",
    "print(meta_train_v1[meta_train_v1['sample_type']=='train']['label'].value_counts())\n",
    "classes = meta_train_v1['label'].unique()\n",
    "classes"
   ]
  },
  {
   "cell_type": "code",
   "execution_count": 8,
   "metadata": {
    "id": "kHz4V8FF7_AE"
   },
   "outputs": [],
   "source": [
    "classes = my_utils.get_classes_from_dir(train_dir)"
   ]
  },
  {
   "cell_type": "code",
   "execution_count": 9,
   "metadata": {
    "id": "gcZ3M2sA1q1W"
   },
   "outputs": [],
   "source": [
    "class_to_indx = {c: i for i, c in enumerate(classes)}"
   ]
  },
  {
   "cell_type": "code",
   "execution_count": 86,
   "metadata": {
    "id": "9rKjn-MXm6SE"
   },
   "outputs": [],
   "source": [
    "transformGray = transforms.Compose([\n",
    "     transforms.Resize((140,170)),\n",
    "     transforms.Grayscale(num_output_channels=1),\n",
    "     transforms.ToTensor(),\n",
    "     transforms.Normalize((0.5),(0.5))\n",
    "    ])\n",
    "\n",
    "transformRGB = transforms.Compose([\n",
    "     transforms.Resize((140,170)),\n",
    "     transforms.Grayscale(num_output_channels=3),\n",
    "     transforms.ToTensor(),\n",
    "     transforms.Normalize((0.5, 0.5, 0.5),(0.5, 0.5, 0.5))\n",
    "    ])\n",
    "\n",
    "transformAV = transforms.Compose([\n",
    "     transforms.Resize((32,32)),\n",
    "     transforms.ToTensor(),\n",
    "     transforms.Normalize((0.5),(0.5))\n",
    "    ])"
   ]
  },
  {
   "cell_type": "code",
   "execution_count": 18,
   "metadata": {
    "id": "o5luuVVS8cUE"
   },
   "outputs": [],
   "source": [
    "train_set = my_dataloaders.GravitySpy_1_0_dataset(root=train_dir, cls=classes, transform=transformGray)\n",
    "train_loader = torch.utils.data.DataLoader(train_set, batch_size=32, shuffle=True, num_workers=number_of_workers)\n",
    "val_set = my_dataloaders.GravitySpy_1_0_dataset(root=val_dir, cls=classes, transform=transformGray)\n",
    "val_loader = torch.utils.data.DataLoader(val_set, batch_size=16, shuffle=True, num_workers=number_of_workers)\n",
    "test_set = my_dataloaders.GravitySpy_1_0_dataset(root=test_dir, cls=classes, transform=transformGray)\n",
    "test_loader = torch.utils.data.DataLoader(test_set, batch_size=1, shuffle=True)"
   ]
  },
  {
   "cell_type": "code",
   "execution_count": 75,
   "metadata": {
    "id": "sOyw0KMTCZQ2"
   },
   "outputs": [],
   "source": [
    "train_set = my_dataloaders.GravitySpy_0_5_dataset(root=train_dir, cls=classes, transform=transformGray)\n",
    "train_loader = torch.utils.data.DataLoader(train_set, batch_size=32, shuffle=True, num_workers=number_of_workers)\n",
    "val_set = my_dataloaders.GravitySpy_0_5_dataset(root=val_dir, cls=classes, transform=transformGray)\n",
    "val_loader = torch.utils.data.DataLoader(val_set, batch_size=16, shuffle=True)\n",
    "test_set = my_dataloaders.GravitySpy_0_5_dataset(root=test_dir, cls=classes, transform=transformGray)\n",
    "test_loader = torch.utils.data.DataLoader(test_set, batch_size=1, shuffle=True)"
   ]
  },
  {
   "cell_type": "code",
   "execution_count": 19,
   "metadata": {
    "colab": {
     "base_uri": "https://localhost:8080/"
    },
    "id": "XuoIZcjFLCSk",
    "outputId": "41bcc824-052b-42a4-e8d6-acd450325da6"
   },
   "outputs": [
    {
     "name": "stdout",
     "output_type": "stream",
     "text": [
      "The training loader contains 175 instances, the val loader contains 75 instances and the test loader contains 1180 instances\n"
     ]
    }
   ],
   "source": [
    "print(\"The training loader contains {} instances, the val loader contains {} instances and the test loader contains {} instances\".format(len(train_loader), len(val_loader), len(test_loader)))"
   ]
  },
  {
   "cell_type": "code",
   "execution_count": 20,
   "metadata": {
    "colab": {
     "base_uri": "https://localhost:8080/"
    },
    "id": "QgVNrbCl_OQo",
    "outputId": "fe5d2346-f865-4985-bf03-e766da533cfe"
   },
   "outputs": [
    {
     "name": "stdout",
     "output_type": "stream",
     "text": [
      "0: 229 instances\n",
      "1: 59 instances\n",
      "2: 41 instances\n",
      "3: 1274 instances\n",
      "4: 41 instances\n",
      "5: 316 instances\n",
      "6: 195 instances\n",
      "7: 498 instances\n",
      "8: 361 instances\n",
      "9: 437 instances\n",
      "10: 315 instances\n",
      "11: 57 instances\n",
      "12: 107 instances\n",
      "13: 19 instances\n",
      "14: 314 instances\n",
      "15: 185 instances\n",
      "16: 308 instances\n",
      "17: 237 instances\n",
      "18: 73 instances\n",
      "19: 284 instances\n",
      "20: 29 instances\n",
      "21: 208 instances\n",
      "[24.397379912663755, 94.6949152542373, 136.26829268292684, 4.385400313971743, 136.26829268292684, 17.680379746835442, 28.651282051282053, 11.218875502008032, 15.476454293628809, 12.784897025171624, 17.736507936507937, 98.01754385964912, 52.21495327102804, 294.0526315789474, 17.792993630573246, 30.2, 18.13961038961039, 23.57383966244726, 76.53424657534246, 19.672535211267604, 192.6551724137931, 26.860576923076923]\n"
     ]
    }
   ],
   "source": [
    "class_counts = train_set.count_class_instances()\n",
    "class_weights = []\n",
    "for class_name, count in class_counts.items():\n",
    "  print(f\"{class_name}: {count} instances\")\n",
    "  class_weights.append(1.0/(count/len(train_set)))\n",
    "\n",
    "print(class_weights)"
   ]
  },
  {
   "cell_type": "code",
   "execution_count": 21,
   "metadata": {
    "colab": {
     "base_uri": "https://localhost:8080/"
    },
    "id": "akFKILwW9FFq",
    "outputId": "d27e49d1-6889-40ae-f8b7-fe65dc640487"
   },
   "outputs": [
    {
     "name": "stderr",
     "output_type": "stream",
     "text": [
      "C:\\ProgramData\\anaconda3\\envs\\MscThesis\\lib\\site-packages\\torchvision\\models\\_utils.py:208: UserWarning: The parameter 'pretrained' is deprecated since 0.13 and may be removed in the future, please use 'weights' instead.\n",
      "  warnings.warn(\n",
      "C:\\ProgramData\\anaconda3\\envs\\MscThesis\\lib\\site-packages\\torchvision\\models\\_utils.py:223: UserWarning: Arguments other than a weight enum or `None` for 'weights' are deprecated since 0.13 and may be removed in the future. The current behavior is equivalent to passing `weights=ResNet18_Weights.IMAGENET1K_V1`. You can also use `weights=ResNet18_Weights.DEFAULT` to get the most up-to-date weights.\n",
      "  warnings.warn(msg)\n"
     ]
    },
    {
     "name": "stdout",
     "output_type": "stream",
     "text": [
      "BaselineGrayscaleNet_resnet18(\n",
      "  (resnet): ResNet(\n",
      "    (conv1): Conv2d(1, 64, kernel_size=(7, 7), stride=(2, 2), padding=(3, 3), bias=False)\n",
      "    (bn1): BatchNorm2d(64, eps=1e-05, momentum=0.1, affine=True, track_running_stats=True)\n",
      "    (relu): ReLU(inplace=True)\n",
      "    (maxpool): MaxPool2d(kernel_size=3, stride=2, padding=1, dilation=1, ceil_mode=False)\n",
      "    (layer1): Sequential(\n",
      "      (0): BasicBlock(\n",
      "        (conv1): Conv2d(64, 64, kernel_size=(3, 3), stride=(1, 1), padding=(1, 1), bias=False)\n",
      "        (bn1): BatchNorm2d(64, eps=1e-05, momentum=0.1, affine=True, track_running_stats=True)\n",
      "        (relu): ReLU(inplace=True)\n",
      "        (conv2): Conv2d(64, 64, kernel_size=(3, 3), stride=(1, 1), padding=(1, 1), bias=False)\n",
      "        (bn2): BatchNorm2d(64, eps=1e-05, momentum=0.1, affine=True, track_running_stats=True)\n",
      "      )\n",
      "      (1): BasicBlock(\n",
      "        (conv1): Conv2d(64, 64, kernel_size=(3, 3), stride=(1, 1), padding=(1, 1), bias=False)\n",
      "        (bn1): BatchNorm2d(64, eps=1e-05, momentum=0.1, affine=True, track_running_stats=True)\n",
      "        (relu): ReLU(inplace=True)\n",
      "        (conv2): Conv2d(64, 64, kernel_size=(3, 3), stride=(1, 1), padding=(1, 1), bias=False)\n",
      "        (bn2): BatchNorm2d(64, eps=1e-05, momentum=0.1, affine=True, track_running_stats=True)\n",
      "      )\n",
      "    )\n",
      "    (layer2): Sequential(\n",
      "      (0): BasicBlock(\n",
      "        (conv1): Conv2d(64, 128, kernel_size=(3, 3), stride=(2, 2), padding=(1, 1), bias=False)\n",
      "        (bn1): BatchNorm2d(128, eps=1e-05, momentum=0.1, affine=True, track_running_stats=True)\n",
      "        (relu): ReLU(inplace=True)\n",
      "        (conv2): Conv2d(128, 128, kernel_size=(3, 3), stride=(1, 1), padding=(1, 1), bias=False)\n",
      "        (bn2): BatchNorm2d(128, eps=1e-05, momentum=0.1, affine=True, track_running_stats=True)\n",
      "        (downsample): Sequential(\n",
      "          (0): Conv2d(64, 128, kernel_size=(1, 1), stride=(2, 2), bias=False)\n",
      "          (1): BatchNorm2d(128, eps=1e-05, momentum=0.1, affine=True, track_running_stats=True)\n",
      "        )\n",
      "      )\n",
      "      (1): BasicBlock(\n",
      "        (conv1): Conv2d(128, 128, kernel_size=(3, 3), stride=(1, 1), padding=(1, 1), bias=False)\n",
      "        (bn1): BatchNorm2d(128, eps=1e-05, momentum=0.1, affine=True, track_running_stats=True)\n",
      "        (relu): ReLU(inplace=True)\n",
      "        (conv2): Conv2d(128, 128, kernel_size=(3, 3), stride=(1, 1), padding=(1, 1), bias=False)\n",
      "        (bn2): BatchNorm2d(128, eps=1e-05, momentum=0.1, affine=True, track_running_stats=True)\n",
      "      )\n",
      "    )\n",
      "    (layer3): Sequential(\n",
      "      (0): BasicBlock(\n",
      "        (conv1): Conv2d(128, 256, kernel_size=(3, 3), stride=(2, 2), padding=(1, 1), bias=False)\n",
      "        (bn1): BatchNorm2d(256, eps=1e-05, momentum=0.1, affine=True, track_running_stats=True)\n",
      "        (relu): ReLU(inplace=True)\n",
      "        (conv2): Conv2d(256, 256, kernel_size=(3, 3), stride=(1, 1), padding=(1, 1), bias=False)\n",
      "        (bn2): BatchNorm2d(256, eps=1e-05, momentum=0.1, affine=True, track_running_stats=True)\n",
      "        (downsample): Sequential(\n",
      "          (0): Conv2d(128, 256, kernel_size=(1, 1), stride=(2, 2), bias=False)\n",
      "          (1): BatchNorm2d(256, eps=1e-05, momentum=0.1, affine=True, track_running_stats=True)\n",
      "        )\n",
      "      )\n",
      "      (1): BasicBlock(\n",
      "        (conv1): Conv2d(256, 256, kernel_size=(3, 3), stride=(1, 1), padding=(1, 1), bias=False)\n",
      "        (bn1): BatchNorm2d(256, eps=1e-05, momentum=0.1, affine=True, track_running_stats=True)\n",
      "        (relu): ReLU(inplace=True)\n",
      "        (conv2): Conv2d(256, 256, kernel_size=(3, 3), stride=(1, 1), padding=(1, 1), bias=False)\n",
      "        (bn2): BatchNorm2d(256, eps=1e-05, momentum=0.1, affine=True, track_running_stats=True)\n",
      "      )\n",
      "    )\n",
      "    (layer4): Sequential(\n",
      "      (0): BasicBlock(\n",
      "        (conv1): Conv2d(256, 512, kernel_size=(3, 3), stride=(2, 2), padding=(1, 1), bias=False)\n",
      "        (bn1): BatchNorm2d(512, eps=1e-05, momentum=0.1, affine=True, track_running_stats=True)\n",
      "        (relu): ReLU(inplace=True)\n",
      "        (conv2): Conv2d(512, 512, kernel_size=(3, 3), stride=(1, 1), padding=(1, 1), bias=False)\n",
      "        (bn2): BatchNorm2d(512, eps=1e-05, momentum=0.1, affine=True, track_running_stats=True)\n",
      "        (downsample): Sequential(\n",
      "          (0): Conv2d(256, 512, kernel_size=(1, 1), stride=(2, 2), bias=False)\n",
      "          (1): BatchNorm2d(512, eps=1e-05, momentum=0.1, affine=True, track_running_stats=True)\n",
      "        )\n",
      "      )\n",
      "      (1): BasicBlock(\n",
      "        (conv1): Conv2d(512, 512, kernel_size=(3, 3), stride=(1, 1), padding=(1, 1), bias=False)\n",
      "        (bn1): BatchNorm2d(512, eps=1e-05, momentum=0.1, affine=True, track_running_stats=True)\n",
      "        (relu): ReLU(inplace=True)\n",
      "        (conv2): Conv2d(512, 512, kernel_size=(3, 3), stride=(1, 1), padding=(1, 1), bias=False)\n",
      "        (bn2): BatchNorm2d(512, eps=1e-05, momentum=0.1, affine=True, track_running_stats=True)\n",
      "      )\n",
      "    )\n",
      "    (avgpool): AdaptiveAvgPool2d(output_size=(1, 1))\n",
      "    (fc): Linear(in_features=512, out_features=22, bias=True)\n",
      "  )\n",
      ")\n"
     ]
    }
   ],
   "source": [
    "# Create Neural Network architecture for finetuning\n",
    "myNet = my_architectures.BaselineGrayscaleNet_resnet18()\n",
    "myNet.to(device)\n",
    "print(myNet)"
   ]
  },
  {
   "cell_type": "code",
   "execution_count": 79,
   "metadata": {
    "id": "BP8GXkixkmAS"
   },
   "outputs": [
    {
     "name": "stdout",
     "output_type": "stream",
     "text": [
      "EPOCH 1: \n",
      "  batch 16 loss: 3.8687445670366287, acc: 31.640625\n",
      "  batch 32 loss: 3.0974351167678833, acc: 45.01953125\n",
      "  batch 48 loss: 2.8755159080028534, acc: 52.5390625\n",
      "  batch 64 loss: 2.9014636427164078, acc: 56.15234375\n",
      "  batch 80 loss: 3.0529196858406067, acc: 58.1640625\n",
      "  batch 96 loss: 2.8696737587451935, acc: 59.016927083333336\n",
      "  batch 112 loss: 2.994697779417038, acc: 60.072544642857146\n",
      "  batch 128 loss: 2.7760147750377655, acc: 61.4990234375\n",
      "  batch 144 loss: 2.6057771518826485, acc: 62.282986111111114\n",
      "  batch 160 loss: 2.705772504210472, acc: 63.30078125\n",
      "LOSS train 2.7058 valid 2.8425 after 487.2898406982422 seconds\n",
      "EPOCH 2: \n",
      "  batch 16 loss: 3.000696137547493, acc: 76.953125\n",
      "  batch 32 loss: 2.6400260105729103, acc: 76.46484375\n",
      "  batch 48 loss: 2.623463496565819, acc: 77.5390625\n",
      "  batch 64 loss: 2.604837477207184, acc: 77.63671875\n",
      "  batch 80 loss: 2.427819103002548, acc: 77.6171875\n",
      "  batch 96 loss: 2.647399514913559, acc: 76.85546875\n",
      "  batch 112 loss: 2.8112524896860123, acc: 75.86495535714286\n",
      "  batch 128 loss: 2.807003378868103, acc: 74.951171875\n",
      "  batch 144 loss: 2.8706273287534714, acc: 74.71788194444444\n",
      "  batch 160 loss: 2.738409161567688, acc: 74.47265625\n",
      "LOSS train 2.7384 valid 2.7942 after 928.3058068752289 seconds\n",
      "EPOCH 3: \n",
      "  batch 16 loss: 2.674668252468109, acc: 77.5390625\n",
      "  batch 32 loss: 2.733080580830574, acc: 76.7578125\n",
      "  batch 48 loss: 2.760750100016594, acc: 79.03645833333333\n",
      "  batch 64 loss: 2.5353563874959946, acc: 78.857421875\n",
      "  batch 80 loss: 2.7343104630708694, acc: 78.7890625\n",
      "  batch 96 loss: 2.71722025424242, acc: 77.70182291666667\n",
      "  batch 112 loss: 2.626043163239956, acc: 78.18080357142857\n",
      "  batch 128 loss: 2.566714398562908, acc: 78.7353515625\n",
      "  batch 144 loss: 2.566778726875782, acc: 79.01475694444444\n",
      "  batch 160 loss: 2.465205192565918, acc: 79.2578125\n",
      "LOSS train 2.4652 valid 2.7789 after 1396.778568983078 seconds\n",
      "EPOCH 4: \n",
      "  batch 16 loss: 2.620078891515732, acc: 78.125\n",
      "  batch 32 loss: 2.5694630593061447, acc: 77.24609375\n",
      "  batch 48 loss: 2.612438827753067, acc: 78.125\n",
      "  batch 64 loss: 2.588051423430443, acc: 80.95703125\n",
      "  batch 80 loss: 2.705362506210804, acc: 80.546875\n",
      "  batch 96 loss: 2.5698776990175247, acc: 81.31510416666667\n",
      "  batch 112 loss: 2.598212957382202, acc: 81.22209821428571\n",
      "  batch 128 loss: 2.5523237213492393, acc: 81.6650390625\n",
      "  batch 144 loss: 2.791721284389496, acc: 81.16319444444444\n",
      "  batch 160 loss: 2.945161998271942, acc: 81.171875\n",
      "LOSS train 2.9452 valid 2.8100 after 1892.9320998191833 seconds\n",
      "EPOCH 5: \n",
      "  batch 16 loss: 2.63187163323164, acc: 85.15625\n",
      "  batch 32 loss: 2.402865134179592, acc: 85.15625\n",
      "  batch 48 loss: 2.4570556804537773, acc: 82.87760416666667\n",
      "  batch 64 loss: 2.8089692443609238, acc: 82.861328125\n",
      "  batch 80 loss: 2.8015804290771484, acc: 81.0546875\n",
      "  batch 96 loss: 2.5146548375487328, acc: 81.41276041666667\n",
      "  batch 112 loss: 2.651894800364971, acc: 81.78013392857143\n",
      "  batch 128 loss: 2.6556788980960846, acc: 81.8359375\n",
      "  batch 144 loss: 2.7538491934537888, acc: 81.72743055555556\n",
      "  batch 160 loss: 2.5316662937402725, acc: 82.03125\n",
      "LOSS train 2.5317 valid 2.7665 after 2384.0114777088165 seconds\n",
      "EPOCH 6: \n",
      "  batch 16 loss: 2.4971954077482224, acc: 87.5\n",
      "  batch 32 loss: 2.599927358329296, acc: 84.765625\n",
      "  batch 48 loss: 2.5545791164040565, acc: 84.44010416666667\n",
      "  batch 64 loss: 2.7805285453796387, acc: 85.05859375\n",
      "  batch 80 loss: 2.7642268538475037, acc: 85.5078125\n",
      "  batch 96 loss: 2.39172126352787, acc: 85.97005208333333\n",
      "  batch 112 loss: 2.4012601748108864, acc: 85.21205357142857\n",
      "  batch 128 loss: 2.573236420750618, acc: 85.15625\n",
      "  batch 144 loss: 2.6405858993530273, acc: 84.59201388888889\n",
      "  batch 160 loss: 2.5263290479779243, acc: 84.8046875\n",
      "LOSS train 2.5263 valid 2.7040 after 2861.556176662445 seconds\n",
      "EPOCH 7: \n",
      "  batch 16 loss: 2.5400511249899864, acc: 85.15625\n",
      "  batch 32 loss: 2.6578160747885704, acc: 85.64453125\n",
      "  batch 48 loss: 2.6681431606411934, acc: 86.00260416666667\n",
      "  batch 64 loss: 2.631329581141472, acc: 85.205078125\n",
      "  batch 80 loss: 2.2079568654298782, acc: 85.5078125\n",
      "  batch 96 loss: 2.6311132460832596, acc: 84.63541666666667\n",
      "  batch 112 loss: 2.6833095252513885, acc: 84.15178571428571\n",
      "  batch 128 loss: 2.6244583129882812, acc: 84.0576171875\n",
      "  batch 144 loss: 2.759977549314499, acc: 83.44184027777777\n",
      "  batch 160 loss: 2.7275170981884003, acc: 83.26171875\n",
      "LOSS train 2.7275 valid 2.8325 after 3357.0460798740387 seconds\n",
      "EPOCH 8: \n",
      "  batch 16 loss: 2.747458800673485, acc: 86.9140625\n",
      "  batch 32 loss: 2.634729102253914, acc: 83.3984375\n",
      "  batch 48 loss: 2.5332795456051826, acc: 84.83072916666667\n",
      "  batch 64 loss: 2.513422004878521, acc: 85.05859375\n",
      "  batch 80 loss: 2.603202484548092, acc: 83.984375\n",
      "  batch 96 loss: 2.4213040843605995, acc: 83.56119791666667\n",
      "  batch 112 loss: 2.57196693867445, acc: 83.81696428571429\n",
      "  batch 128 loss: 2.407929979264736, acc: 84.375\n",
      "  batch 144 loss: 2.5005376264452934, acc: 84.89583333333333\n",
      "  batch 160 loss: 2.313727617263794, acc: 85.3125\n",
      "LOSS train 2.3137 valid 2.6864 after 3946.2070410251617 seconds\n",
      "EPOCH 9: \n",
      "  batch 16 loss: 2.5644566789269447, acc: 85.7421875\n",
      "  batch 32 loss: 2.661117672920227, acc: 86.62109375\n",
      "  batch 48 loss: 2.683573417365551, acc: 86.45833333333333\n",
      "  batch 64 loss: 2.4660091623663902, acc: 86.328125\n",
      "  batch 80 loss: 2.596360854804516, acc: 85.625\n",
      "  batch 96 loss: 2.6343355923891068, acc: 85.51432291666667\n",
      "  batch 112 loss: 2.559759169816971, acc: 85.07254464285714\n",
      "  batch 128 loss: 2.3618426248431206, acc: 85.15625\n",
      "  batch 144 loss: 2.469070643186569, acc: 85.32986111111111\n",
      "  batch 160 loss: 2.663708448410034, acc: 85.5078125\n",
      "LOSS train 2.6637 valid 2.6752 after 4672.318077325821 seconds\n",
      "EPOCH 10: \n",
      "  batch 16 loss: 2.349911943078041, acc: 87.5\n",
      "  batch 32 loss: 2.6904003471136093, acc: 86.81640625\n",
      "  batch 48 loss: 2.3779661506414413, acc: 86.39322916666667\n",
      "  batch 64 loss: 2.820413887500763, acc: 86.23046875\n",
      "  batch 80 loss: 2.668261043727398, acc: 86.7578125\n",
      "  batch 96 loss: 2.515599861741066, acc: 87.33723958333333\n",
      "  batch 112 loss: 2.534743010997772, acc: 86.94196428571429\n",
      "  batch 128 loss: 2.5453865751624107, acc: 86.6943359375\n",
      "  batch 144 loss: 2.4355832040309906, acc: 87.00086805555556\n",
      "  batch 160 loss: 2.316139057278633, acc: 87.01171875\n",
      "LOSS train 2.3161 valid 2.6207 after 5540.504935979843 seconds\n",
      "Training finished after  5540.581489562988  seconds\n"
     ]
    }
   ],
   "source": [
    "# Pytorch Training loop\n",
    "epoch_test_loss = 0\n",
    "epoch_test_acc = 0\n",
    "epoch_test_correct = 0\n",
    "epoch_test_total = 0\n",
    "best_vloss = 1_000_000.\n",
    "avg_loss = 0\n",
    "last_loss = 0\n",
    "timestamp = my_utils.get_timestamp()\n",
    "\n",
    "# Define the loss function and optimizer\n",
    "criterion = CrossEntropyLoss(weight=torch.tensor(class_weights, dtype=torch.float32), label_smoothing=0.2)\n",
    "optimizer = Adam(myNet.parameters(), lr=0.001, weight_decay=1e-3) #LR from the study of Tiago Fernandes\n",
    "\n",
    "# Number of epochs to train for\n",
    "num_epochs = 10\n",
    "epoch_number = 0\n",
    "\n",
    "start = time.time()\n",
    "for epoch in range(num_epochs):  # loop over the dataset multiple times\n",
    "  total_correct = 0\n",
    "  total_samples = 0\n",
    "  print('EPOCH {}: '.format(epoch_number + 1))\n",
    "  train_loss = 0.0\n",
    "  myNet.train(True)\n",
    "\n",
    "  ## TRAINING ONE EPOCH\n",
    "  for i, data in enumerate(train_loader, 0):\n",
    "    # get the inputs; data is a list of [inputs, labels]\n",
    "    inputs, labels = data\n",
    "    inputs, labels = inputs.to(device), labels.to(device)\n",
    "    # zero the parameter gradients\n",
    "    optimizer.zero_grad()\n",
    "    # forward + backward + optimize\n",
    "    outputs = myNet(inputs)\n",
    "    # compute loss and gradient\n",
    "    loss = criterion(outputs, labels)\n",
    "    #add part of regularization\n",
    "    l2_reg = torch.tensor(0.0)\n",
    "    for param in myNet.parameters():\n",
    "      if param.requires_grad: #exclude frozen layers\n",
    "        l2_reg += torch.norm(param, p=2)\n",
    "    loss += 1e-5 * l2_reg\n",
    "    #end part of regularization\n",
    "    loss.backward()\n",
    "    # adjust learning weights\n",
    "    optimizer.step()\n",
    "\n",
    "    # print statistics\n",
    "    _, predicted = torch.max(outputs, 1)\n",
    "    train_loss += loss.item()\n",
    "    total_correct += (predicted == labels).sum().item()\n",
    "    total_samples += labels.size(0)\n",
    "\n",
    "    if i % 16 == 15:\n",
    "      last_loss = train_loss / 16\n",
    "      print('  batch {} loss: {}, acc: {}'.format(i+1, last_loss, 100*total_correct/total_samples))\n",
    "      tb_x = epoch * len(train_loader) + i + 1\n",
    "      train_loss=0.\n",
    "    avg_loss = last_loss\n",
    "\n",
    "  ## VALIDATION\n",
    "  running_vloss = 0.0\n",
    "  myNet.eval()\n",
    "\n",
    "  # disable gradient computation for validation\n",
    "  with torch.no_grad():\n",
    "    for i, vdata in enumerate(val_loader):\n",
    "      vinputs, vlabels = vdata\n",
    "      vinputs, vlabels = vinputs.to(device), vlabels.to(device)\n",
    "      voutputs = myNet(vinputs)\n",
    "      vloss = criterion(voutputs, vlabels)\n",
    "      running_vloss += vloss\n",
    "  avg_vloss = running_vloss / (i+1)\n",
    "  print('LOSS train {:.4f} valid {:.4f} after {} seconds'.format(avg_loss, avg_vloss, time.time()-start))\n",
    "\n",
    "  if avg_vloss < best_vloss:\n",
    "    best_vloss = avg_vloss\n",
    "    model_path = 'model_{}_{}'.format(timestamp, epoch_number)\n",
    "    torch.save(myNet.state_dict(), model_path)\n",
    "\n",
    "  #my_utils.checkpoint(myNet, f\"epoch-{epoch}.pth\")\n",
    "  epoch_number += 1\n",
    "\n",
    "end = time.time()\n",
    "print('Training finished after ', end-start, ' seconds')"
   ]
  },
  {
   "cell_type": "code",
   "execution_count": 80,
   "metadata": {
    "colab": {
     "base_uri": "https://localhost:8080/"
    },
    "id": "LFwrV-TIlBCz",
    "outputId": "5ce8f0e2-ed19-4fc1-d36c-9708971b38d8"
   },
   "outputs": [
    {
     "name": "stdout",
     "output_type": "stream",
     "text": [
      "Saved Pytorch Model state to thesis_baseline.pth\n"
     ]
    }
   ],
   "source": [
    "#save model\n",
    "#torch.save(myNet.state_dict(), '/content/drive/MyDrive/MscThesis/thesis_baseline_finetune_0_5.pth')\n",
    "torch.save(myNet.state_dict(), 'C:\\\\Users\\\\Brian.Baert\\\\Documents\\\\GitHub\\\\MscThesis\\\\Models\\\\thesis_baseline_finetune_0_5.pth')\n",
    "print(\"Saved Pytorch Model state to thesis_baseline.pth\")"
   ]
  },
  {
   "cell_type": "code",
   "execution_count": 22,
   "metadata": {
    "id": "lPb3Hcs4RbsK"
   },
   "outputs": [
    {
     "data": {
      "text/plain": [
       "<All keys matched successfully>"
      ]
     },
     "execution_count": 22,
     "metadata": {},
     "output_type": "execute_result"
    }
   ],
   "source": [
    "#myNet.load_state_dict(torch.load('/content/drive/MyDrive/MscThesis/thesis_baseline_finetune_1_0.pth'))\n",
    "myNet.load_state_dict(torch.load('C:\\\\Users\\\\Brian.Baert\\\\Documents\\\\GitHub\\\\MscThesis\\\\Models\\\\thesis_baseline_finetune_1_0.pth'))"
   ]
  },
  {
   "cell_type": "code",
   "execution_count": 23,
   "metadata": {
    "colab": {
     "base_uri": "https://localhost:8080/"
    },
    "id": "ijMNYNHxBB8D",
    "outputId": "c266284b-0852-40de-b6b7-31660d998d47"
   },
   "outputs": [
    {
     "name": "stdout",
     "output_type": "stream",
     "text": [
      "Predicted: \"Light_Modulation\", Actual: \"Light_Modulation\"\n",
      "Predicted: \"Whistle\", Actual: \"Whistle\"\n",
      "Predicted: \"Power_Line\", Actual: \"Power_Line\"\n",
      "Predicted: \"1400Ripples\", Actual: \"1400Ripples\"\n",
      "Predicted: \"Violin_Mode\", Actual: \"Violin_Mode\"\n",
      "Predicted: \"Koi_Fish\", Actual: \"Koi_Fish\"\n",
      "Predicted: \"Whistle\", Actual: \"Whistle\"\n",
      "Predicted: \"Power_Line\", Actual: \"Power_Line\"\n",
      "Predicted: \"1080Lines\", Actual: \"1080Lines\"\n",
      "Predicted: \"Light_Modulation\", Actual: \"Light_Modulation\"\n",
      "Predicted: \"1080Lines\", Actual: \"1080Lines\"\n",
      "Predicted: \"Low_Frequency_Lines\", Actual: \"Low_Frequency_Lines\"\n",
      "Predicted: \"Light_Modulation\", Actual: \"Light_Modulation\"\n",
      "Predicted: \"Blip\", Actual: \"Blip\"\n",
      "Predicted: \"None_of_the_Above\", Actual: \"Low_Frequency_Burst\"\n",
      "Predicted: \"Low_Frequency_Lines\", Actual: \"Low_Frequency_Lines\"\n",
      "Predicted: \"Repeating_Blips\", Actual: \"Repeating_Blips\"\n",
      "Predicted: \"Koi_Fish\", Actual: \"Koi_Fish\"\n",
      "Predicted: \"Blip\", Actual: \"Blip\"\n",
      "Predicted: \"1080Lines\", Actual: \"1080Lines\"\n",
      "n_test_predictions: 980.4608821868896 ms\n"
     ]
    }
   ],
   "source": [
    "my_utils.n_test_predictions(myNet, test_loader, classes, 20)"
   ]
  },
  {
   "cell_type": "code",
   "execution_count": 24,
   "metadata": {
    "id": "IPqfIK6qK_mg"
   },
   "outputs": [
    {
     "name": "stdout",
     "output_type": "stream",
     "text": [
      "get_predictions: 52113.90471458435 ms\n"
     ]
    }
   ],
   "source": [
    "y_pred_list, y_true_list = my_utils.get_predictions(myNet, test_loader)"
   ]
  },
  {
   "cell_type": "code",
   "execution_count": 25,
   "metadata": {
    "id": "ETUYsXlKM2CB"
   },
   "outputs": [],
   "source": [
    "# Generate confusion matrix\n",
    "from sklearn.metrics import f1_score\n",
    "cm = confusion_matrix(y_true_list, y_pred_list)\n",
    "f1 = f1_score(y_true_list, y_pred_list, average=None)"
   ]
  },
  {
   "cell_type": "code",
   "execution_count": 28,
   "metadata": {
    "id": "nt51bp1_lJa-"
   },
   "outputs": [
    {
     "data": {
      "image/png": "[encoded data removed]",
      "text/plain": [
       "<Figure size 1000x700 with 2 Axes>"
      ]
     },
     "metadata": {},
     "output_type": "display_data"
    }
   ],
   "source": [
    "import matplotlib.pyplot as plt\n",
    "import seaborn as sns\n",
    "\n",
    "plt.figure(figsize=(10,7))\n",
    "\n",
    "# Use seaborn heatmap for visualization\n",
    "sns.heatmap(cm, annot=True, cmap='Blues', fmt='d', xticklabels=classes, yticklabels=classes)\n",
    "\n",
    "plt.xlabel('Predicted')\n",
    "plt.ylabel('Actual')\n",
    "figTemp = plt.gcf()\n",
    "plt.show()\n",
    "plt.draw()\n",
    "figTemp.savefig('confusion_matrix_baseline_1_0.png')\n",
    "plt.close()"
   ]
  },
  {
   "cell_type": "code",
   "execution_count": 29,
   "metadata": {
    "id": "jyT7cWcJQAhm"
   },
   "outputs": [
    {
     "name": "stdout",
     "output_type": "stream",
     "text": [
      "F1 Score for each class: [0.96907216 0.85714286 0.88888889 0.97597043 1.\n",
      " 0.80373832 1.         0.98076923 0.93959732 0.64661654\n",
      " 0.93233083 0.26470588 0.68965517 0.2        0.99270073\n",
      " 0.88571429 0.96124031 0.96153846 0.88888889 0.92561983\n",
      " 0.44444444 0.95348837]\n",
      "The average F1 score is: 0.9109037169739465\n"
     ]
    }
   ],
   "source": [
    "print(f\"F1 Score for each class: {f1}\")\n",
    "print(f\"The average F1 score is: {f1_score(y_true_list, y_pred_list, average='weighted')}\")"
   ]
  },
  {
   "cell_type": "code",
   "execution_count": 30,
   "metadata": {
    "id": "qt4Bt4mURPMY"
   },
   "outputs": [
    {
     "data": {
      "image/png": "[encoded data removed]",
      "text/plain": [
       "<Figure size 1000x700 with 1 Axes>"
      ]
     },
     "metadata": {},
     "output_type": "display_data"
    }
   ],
   "source": [
    "# Create a horizontal bar plot for F1 scores with different colors\n",
    "plt.figure(figsize=(10,7))\n",
    "colors = plt.cm.viridis(np.linspace(0, 1, len(classes)))\n",
    "plt.barh(np.arange(len(classes)), f1, color=colors, align='center', alpha=0.5)\n",
    "plt.yticks(np.arange(len(classes)), classes)\n",
    "plt.xlabel('F1 Score')\n",
    "plt.title('F1 Score for Each Class')\n",
    "figTemp = plt.gcf()\n",
    "plt.show()\n",
    "plt.draw()\n",
    "figTemp.savefig('f1_scores_baseline_1_0.png')\n",
    "plt.close()"
   ]
  },
  {
   "cell_type": "markdown",
   "metadata": {
    "id": "tPZtEpHZHjCZ"
   },
   "source": [
    "# CL Base model"
   ]
  },
  {
   "cell_type": "code",
   "execution_count": 11,
   "metadata": {
    "id": "JiVzZcsjHlWV"
   },
   "outputs": [],
   "source": [
    "device = torch.device(\"cuda:0\" if torch.cuda.is_available() else \"cpu\")\n",
    "model = SlimResNet18(nclasses=22)\n",
    "model.to(device)\n",
    "interactive_logger = InteractiveLogger()"
   ]
  },
  {
   "cell_type": "code",
   "execution_count": 92,
   "metadata": {
    "id": "xaqHp2gOQb0j"
   },
   "outputs": [],
   "source": [
    "train_set = my_dataloaders.GravitySpy_1_0_dataset(root=train_dir, cls=classes, transform=transformAV)\n",
    "val_set = my_dataloaders.GravitySpy_1_0_dataset(root=val_dir, cls=classes, transform=transformAV)\n",
    "test_set = my_dataloaders.GravitySpy_1_0_dataset(root=test_dir, cls=classes, transform=transformAV)\n",
    "\n",
    "train_set_av = AvalancheDataset(train_set)\n",
    "train_loader_av = torch.utils.data.DataLoader(train_set, batch_size=32, shuffle=True, num_workers=number_of_workers)\n",
    "\n",
    "val_set_av = AvalancheDataset(val_set)\n",
    "val_loader_av = torch.utils.data.DataLoader(val_set, batch_size=16, shuffle=True, num_workers=number_of_workers)\n",
    "\n",
    "test_set_av = AvalancheDataset(test_set)\n",
    "test_loader_av = torch.utils.data.DataLoader(test_set, batch_size=1, shuffle=True)\n",
    "\n",
    "\n",
    "train_set_av.targets = train_set.labels\n",
    "test_set_av.targets = test_set.labels\n",
    "val_set_av.targets = val_set.labels\n",
    "\n",
    "train_set_av.uniques = list(set(train_set.labels))\n",
    "test_set_av.uniques = list(set(test_set.labels))\n",
    "val_set_av.uniques = list(set(val_set.labels))"
   ]
  },
  {
   "cell_type": "code",
   "execution_count": 93,
   "metadata": {
    "id": "LEhQaFGEQcTz"
   },
   "outputs": [],
   "source": [
    "bm = nc_benchmark(\n",
    "    train_dataset=train_set_av,\n",
    "    test_dataset=val_set_av,\n",
    "    n_experiences=11,\n",
    "    shuffle=True,\n",
    "    seed=123,\n",
    "    task_labels=False,\n",
    ")"
   ]
  },
  {
   "cell_type": "code",
   "execution_count": 130,
   "metadata": {
    "colab": {
     "base_uri": "https://localhost:8080/"
    },
    "id": "yK88QPCmQzA_",
    "outputId": "88bc7c53-2fa7-4199-fd80-553531c49ced"
   },
   "outputs": [],
   "source": [
    "# DEFINE THE EVALUATION PLUGIN\n",
    "# The evaluation plugin manages the metrics computation.\n",
    "# It takes as argument a list of metrics, collectes their results and returns\n",
    "# them to the strategy it is attached to.\n",
    "\n",
    "eval_plugin = EvaluationPlugin(\n",
    "    accuracy_metrics(minibatch=True, epoch=True, experience=True, stream=True),\n",
    "    loss_metrics(minibatch=True, epoch=True, experience=True, stream=True),\n",
    "    timing_metrics(epoch=True),\n",
    "    forgetting_metrics(experience=True, stream=True),\n",
    "    confusion_matrix_metrics(num_classes=bm.n_classes, save_image=True, stream=True),\n",
    "    disk_usage_metrics(minibatch=True, epoch=True, experience=True, stream=True),\n",
    "    loggers=[InteractiveLogger()],\n",
    "    strict_checks=False,\n",
    ")\n",
    "\n",
    "optimizer = Adam(model.parameters(), lr=0.001, weight_decay=1e-3)\n",
    "criterion = CrossEntropyLoss(weight=torch.tensor(class_weights, dtype=torch.float32), label_smoothing=0.2)\n",
    "\n",
    "#cl_strategy = Naive(\n",
    "#cl_strategy = LwF(\n",
    "#cl_strategy = ICaRL(\n",
    "cl_strategy= EWC(\n",
    "    model, optimizer, criterion, ewc_lambda=100, train_epochs=10, mode='online', decay_factor=0.9, keep_importance_data=True, train_mb_size=32, eval_mb_size=16, device=device\n",
    ")"
   ]
  },
  {
   "cell_type": "code",
   "execution_count": 131,
   "metadata": {
    "colab": {
     "base_uri": "https://localhost:8080/"
    },
    "id": "mTwMkUvKNfkw",
    "outputId": "f5ff3e10-78ee-4a76-e9dd-cb7bf15220fa"
   },
   "outputs": [
    {
     "name": "stdout",
     "output_type": "stream",
     "text": [
      "[2, 14]\n",
      "[4, 15]\n",
      "[0, 3]\n",
      "[9, 12]\n",
      "[11, 13]\n",
      "[17, 21]\n",
      "[18, 20]\n",
      "[1, 10]\n",
      "[16, 6]\n",
      "[8, 19]\n",
      "[5, 7]\n"
     ]
    }
   ],
   "source": [
    "for experience in bm.train_stream:\n",
    "  print(experience.classes_in_this_experience)"
   ]
  },
  {
   "cell_type": "code",
   "execution_count": null,
   "metadata": {
    "colab": {
     "base_uri": "https://localhost:8080/"
    },
    "id": "IzTdOiHwMazz",
    "outputId": "4b5f8528-1e80-421f-d6ef-c758d2821ef6"
   },
   "outputs": [
    {
     "name": "stdout",
     "output_type": "stream",
     "text": [
      "Starting experiment...\n",
      "Start of experience:  0\n",
      "Current Classes:  [2, 14]\n",
      "-- >> Start of training phase << --\n",
      "100%|██████████| 12/12 [00:05<00:00,  2.37it/s]\n",
      "Epoch 0 ended.\n",
      "\tLoss_Epoch/train_phase/train_stream/Task000 = 2.7701\n",
      "\tTop1_Acc_Epoch/train_phase/train_stream/Task000 = 0.2000\n",
      "100%|██████████| 12/12 [00:05<00:00,  2.11it/s]\n",
      "Epoch 1 ended.\n",
      "\tLoss_Epoch/train_phase/train_stream/Task000 = 1.9831\n",
      "\tTop1_Acc_Epoch/train_phase/train_stream/Task000 = 1.0000\n",
      "100%|██████████| 12/12 [00:05<00:00,  2.04it/s]\n",
      "Epoch 2 ended.\n",
      "\tLoss_Epoch/train_phase/train_stream/Task000 = 1.7945\n",
      "\tTop1_Acc_Epoch/train_phase/train_stream/Task000 = 0.9915\n",
      "100%|██████████| 12/12 [00:05<00:00,  2.18it/s]\n",
      "Epoch 3 ended.\n",
      "\tLoss_Epoch/train_phase/train_stream/Task000 = 1.6979\n",
      "\tTop1_Acc_Epoch/train_phase/train_stream/Task000 = 1.0000\n",
      "100%|██████████| 12/12 [00:06<00:00,  1.82it/s]\n",
      "Epoch 4 ended.\n",
      "\tLoss_Epoch/train_phase/train_stream/Task000 = 1.7063\n",
      "\tTop1_Acc_Epoch/train_phase/train_stream/Task000 = 0.9972\n",
      "100%|██████████| 12/12 [00:06<00:00,  1.91it/s]\n",
      "Epoch 5 ended.\n",
      "\tLoss_Epoch/train_phase/train_stream/Task000 = 1.7057\n",
      "\tTop1_Acc_Epoch/train_phase/train_stream/Task000 = 1.0000\n",
      "100%|██████████| 12/12 [00:05<00:00,  2.03it/s]\n",
      "Epoch 6 ended.\n",
      "\tLoss_Epoch/train_phase/train_stream/Task000 = 1.6766\n",
      "\tTop1_Acc_Epoch/train_phase/train_stream/Task000 = 0.9972\n",
      "100%|██████████| 12/12 [00:06<00:00,  1.91it/s]\n",
      "Epoch 7 ended.\n",
      "\tLoss_Epoch/train_phase/train_stream/Task000 = 1.6590\n",
      "\tTop1_Acc_Epoch/train_phase/train_stream/Task000 = 1.0000\n",
      "100%|██████████| 12/12 [00:06<00:00,  1.96it/s]\n",
      "Epoch 8 ended.\n",
      "\tLoss_Epoch/train_phase/train_stream/Task000 = 1.6495\n",
      "\tTop1_Acc_Epoch/train_phase/train_stream/Task000 = 1.0000\n",
      "100%|██████████| 12/12 [00:07<00:00,  1.62it/s]\n",
      "Epoch 9 ended.\n",
      "\tLoss_Epoch/train_phase/train_stream/Task000 = 1.6565\n",
      "\tTop1_Acc_Epoch/train_phase/train_stream/Task000 = 1.0000\n",
      "-- >> End of training phase << --\n",
      "Training completed\n",
      "Start of experience:  1\n",
      "Current Classes:  [4, 15]\n",
      "-- >> Start of training phase << --\n",
      "100%|██████████| 8/8 [00:04<00:00,  1.65it/s]\n",
      "Epoch 0 ended.\n",
      "\tLoss_Epoch/train_phase/train_stream/Task000 = 3.3421\n",
      "\tTop1_Acc_Epoch/train_phase/train_stream/Task000 = 0.0000\n",
      "100%|██████████| 8/8 [00:03<00:00,  2.10it/s]\n",
      "Epoch 1 ended.\n",
      "\tLoss_Epoch/train_phase/train_stream/Task000 = 2.2404\n",
      "\tTop1_Acc_Epoch/train_phase/train_stream/Task000 = 0.2212\n",
      "100%|██████████| 8/8 [00:04<00:00,  1.86it/s]\n",
      "Epoch 2 ended.\n",
      "\tLoss_Epoch/train_phase/train_stream/Task000 = 1.6695\n",
      "\tTop1_Acc_Epoch/train_phase/train_stream/Task000 = 0.8628\n",
      "100%|██████████| 8/8 [00:03<00:00,  2.13it/s]\n",
      "Epoch 3 ended.\n",
      "\tLoss_Epoch/train_phase/train_stream/Task000 = 1.3962\n",
      "\tTop1_Acc_Epoch/train_phase/train_stream/Task000 = 0.9690\n",
      "100%|██████████| 8/8 [00:03<00:00,  2.14it/s]\n",
      "Epoch 4 ended.\n",
      "\tLoss_Epoch/train_phase/train_stream/Task000 = 1.2482\n",
      "\tTop1_Acc_Epoch/train_phase/train_stream/Task000 = 0.9956\n",
      "100%|██████████| 8/8 [00:04<00:00,  2.00it/s]\n",
      "Epoch 5 ended.\n",
      "\tLoss_Epoch/train_phase/train_stream/Task000 = 1.2177\n",
      "\tTop1_Acc_Epoch/train_phase/train_stream/Task000 = 0.9956\n",
      "100%|██████████| 8/8 [00:03<00:00,  2.04it/s]\n",
      "Epoch 6 ended.\n",
      "\tLoss_Epoch/train_phase/train_stream/Task000 = 1.1943\n",
      "\tTop1_Acc_Epoch/train_phase/train_stream/Task000 = 1.0000\n",
      "100%|██████████| 8/8 [00:04<00:00,  2.00it/s]\n",
      "Epoch 7 ended.\n",
      "\tLoss_Epoch/train_phase/train_stream/Task000 = 1.1543\n",
      "\tTop1_Acc_Epoch/train_phase/train_stream/Task000 = 0.9956\n",
      "100%|██████████| 8/8 [00:03<00:00,  2.13it/s]\n",
      "Epoch 8 ended.\n",
      "\tLoss_Epoch/train_phase/train_stream/Task000 = 1.1933\n",
      "\tTop1_Acc_Epoch/train_phase/train_stream/Task000 = 1.0000\n",
      "100%|██████████| 8/8 [00:03<00:00,  2.01it/s]\n",
      "Epoch 9 ended.\n",
      "\tLoss_Epoch/train_phase/train_stream/Task000 = 1.1775\n",
      "\tTop1_Acc_Epoch/train_phase/train_stream/Task000 = 0.9912\n",
      "-- >> End of training phase << --\n",
      "Training completed\n",
      "Start of experience:  2\n",
      "Current Classes:  [0, 3]\n",
      "-- >> Start of training phase << --\n",
      "100%|██████████| 47/47 [00:29<00:00,  1.58it/s]\n",
      "Epoch 0 ended.\n",
      "\tLoss_Epoch/train_phase/train_stream/Task000 = 6.5099\n",
      "\tTop1_Acc_Epoch/train_phase/train_stream/Task000 = 0.4943\n",
      "100%|██████████| 47/47 [00:31<00:00,  1.48it/s]\n",
      "Epoch 1 ended.\n",
      "\tLoss_Epoch/train_phase/train_stream/Task000 = 5.8001\n",
      "\tTop1_Acc_Epoch/train_phase/train_stream/Task000 = 0.9794\n",
      "100%|██████████| 47/47 [00:44<00:00,  1.04it/s]\n",
      "Epoch 2 ended.\n",
      "\tLoss_Epoch/train_phase/train_stream/Task000 = 5.7646\n",
      "\tTop1_Acc_Epoch/train_phase/train_stream/Task000 = 0.9947\n",
      "100%|██████████| 47/47 [00:40<00:00,  1.16it/s]\n",
      "Epoch 3 ended.\n",
      "\tLoss_Epoch/train_phase/train_stream/Task000 = 5.7357\n",
      "\tTop1_Acc_Epoch/train_phase/train_stream/Task000 = 0.9967\n",
      "100%|██████████| 47/47 [00:28<00:00,  1.63it/s]\n",
      "Epoch 4 ended.\n",
      "\tLoss_Epoch/train_phase/train_stream/Task000 = 5.7337\n",
      "\tTop1_Acc_Epoch/train_phase/train_stream/Task000 = 0.9987\n",
      "100%|██████████| 47/47 [00:26<00:00,  1.77it/s]\n",
      "Epoch 5 ended.\n",
      "\tLoss_Epoch/train_phase/train_stream/Task000 = 5.7495\n",
      "\tTop1_Acc_Epoch/train_phase/train_stream/Task000 = 0.9973\n",
      "100%|██████████| 47/47 [00:25<00:00,  1.86it/s]\n",
      "Epoch 6 ended.\n",
      "\tLoss_Epoch/train_phase/train_stream/Task000 = 5.7110\n",
      "\tTop1_Acc_Epoch/train_phase/train_stream/Task000 = 0.9953\n",
      "100%|██████████| 47/47 [00:25<00:00,  1.88it/s]\n",
      "Epoch 7 ended.\n",
      "\tLoss_Epoch/train_phase/train_stream/Task000 = 5.7940\n",
      "\tTop1_Acc_Epoch/train_phase/train_stream/Task000 = 0.9887\n",
      "100%|██████████| 47/47 [00:25<00:00,  1.83it/s]\n",
      "Epoch 8 ended.\n",
      "\tLoss_Epoch/train_phase/train_stream/Task000 = 5.7426\n",
      "\tTop1_Acc_Epoch/train_phase/train_stream/Task000 = 0.9920\n",
      "100%|██████████| 47/47 [00:25<00:00,  1.87it/s]\n",
      "Epoch 9 ended.\n",
      "\tLoss_Epoch/train_phase/train_stream/Task000 = 5.7506\n",
      "\tTop1_Acc_Epoch/train_phase/train_stream/Task000 = 0.9967\n",
      "-- >> End of training phase << --\n",
      "Training completed\n",
      "Start of experience:  3\n",
      "Current Classes:  [9, 12]\n",
      "-- >> Start of training phase << --\n",
      "100%|██████████| 17/17 [00:12<00:00,  1.34it/s]\n",
      "Epoch 0 ended.\n",
      "\tLoss_Epoch/train_phase/train_stream/Task000 = 3.6772\n",
      "\tTop1_Acc_Epoch/train_phase/train_stream/Task000 = 0.2518\n",
      "100%|██████████| 17/17 [00:09<00:00,  1.88it/s]\n",
      "Epoch 1 ended.\n",
      "\tLoss_Epoch/train_phase/train_stream/Task000 = 2.6307\n",
      "\tTop1_Acc_Epoch/train_phase/train_stream/Task000 = 0.9191\n",
      "100%|██████████| 17/17 [00:08<00:00,  1.91it/s]\n",
      "Epoch 2 ended.\n",
      "\tLoss_Epoch/train_phase/train_stream/Task000 = 2.6028\n",
      "\tTop1_Acc_Epoch/train_phase/train_stream/Task000 = 0.9393\n",
      "100%|██████████| 17/17 [00:09<00:00,  1.83it/s]\n",
      "Epoch 3 ended.\n",
      "\tLoss_Epoch/train_phase/train_stream/Task000 = 2.5312\n",
      "\tTop1_Acc_Epoch/train_phase/train_stream/Task000 = 0.9393\n",
      "100%|██████████| 17/17 [00:08<00:00,  1.95it/s]\n",
      "Epoch 4 ended.\n",
      "\tLoss_Epoch/train_phase/train_stream/Task000 = 2.5875\n",
      "\tTop1_Acc_Epoch/train_phase/train_stream/Task000 = 0.9430\n",
      "100%|██████████| 17/17 [00:09<00:00,  1.83it/s]\n",
      "Epoch 5 ended.\n",
      "\tLoss_Epoch/train_phase/train_stream/Task000 = 2.5620\n",
      "\tTop1_Acc_Epoch/train_phase/train_stream/Task000 = 0.9375\n",
      "100%|██████████| 17/17 [00:08<00:00,  1.94it/s]\n",
      "Epoch 6 ended.\n",
      "\tLoss_Epoch/train_phase/train_stream/Task000 = 2.5155\n",
      "\tTop1_Acc_Epoch/train_phase/train_stream/Task000 = 0.9467\n",
      "100%|██████████| 17/17 [00:09<00:00,  1.84it/s]\n",
      "Epoch 7 ended.\n",
      "\tLoss_Epoch/train_phase/train_stream/Task000 = 2.5653\n",
      "\tTop1_Acc_Epoch/train_phase/train_stream/Task000 = 0.9375\n",
      "100%|██████████| 17/17 [00:08<00:00,  1.94it/s]\n",
      "Epoch 8 ended.\n",
      "\tLoss_Epoch/train_phase/train_stream/Task000 = 2.5243\n",
      "\tTop1_Acc_Epoch/train_phase/train_stream/Task000 = 0.9577\n",
      "100%|██████████| 17/17 [00:08<00:00,  1.89it/s]\n",
      "Epoch 9 ended.\n",
      "\tLoss_Epoch/train_phase/train_stream/Task000 = 2.5255\n",
      "\tTop1_Acc_Epoch/train_phase/train_stream/Task000 = 0.9651\n",
      "-- >> End of training phase << --\n",
      "Training completed\n",
      "Start of experience:  4\n",
      "Current Classes:  [11, 13]\n",
      "-- >> Start of training phase << --\n",
      "100%|██████████| 3/3 [00:01<00:00,  1.76it/s]\n",
      "Epoch 0 ended.\n",
      "\tLoss_Epoch/train_phase/train_stream/Task000 = 2.4541\n",
      "\tTop1_Acc_Epoch/train_phase/train_stream/Task000 = 0.0000\n",
      "100%|██████████| 3/3 [00:01<00:00,  2.40it/s]\n",
      "Epoch 1 ended.\n",
      "\tLoss_Epoch/train_phase/train_stream/Task000 = 1.9336\n",
      "\tTop1_Acc_Epoch/train_phase/train_stream/Task000 = 0.1447\n",
      "100%|██████████| 3/3 [00:01<00:00,  2.33it/s]\n",
      "Epoch 2 ended.\n",
      "\tLoss_Epoch/train_phase/train_stream/Task000 = 1.5401\n",
      "\tTop1_Acc_Epoch/train_phase/train_stream/Task000 = 0.2500\n",
      "100%|██████████| 3/3 [00:01<00:00,  2.28it/s]\n",
      "Epoch 3 ended.\n",
      "\tLoss_Epoch/train_phase/train_stream/Task000 = 1.2599\n",
      "\tTop1_Acc_Epoch/train_phase/train_stream/Task000 = 0.3158\n",
      "100%|██████████| 3/3 [00:01<00:00,  2.38it/s]\n",
      "Epoch 4 ended.\n",
      "\tLoss_Epoch/train_phase/train_stream/Task000 = 1.0351\n",
      "\tTop1_Acc_Epoch/train_phase/train_stream/Task000 = 0.5263\n",
      "100%|██████████| 3/3 [00:01<00:00,  2.39it/s]\n",
      "Epoch 5 ended.\n",
      "\tLoss_Epoch/train_phase/train_stream/Task000 = 0.8767\n",
      "\tTop1_Acc_Epoch/train_phase/train_stream/Task000 = 0.6316\n",
      "100%|██████████| 3/3 [00:01<00:00,  2.34it/s]\n",
      "Epoch 6 ended.\n",
      "\tLoss_Epoch/train_phase/train_stream/Task000 = 0.7413\n",
      "\tTop1_Acc_Epoch/train_phase/train_stream/Task000 = 0.8026\n",
      "100%|██████████| 3/3 [00:01<00:00,  2.42it/s]\n",
      "Epoch 7 ended.\n",
      "\tLoss_Epoch/train_phase/train_stream/Task000 = 0.6698\n",
      "\tTop1_Acc_Epoch/train_phase/train_stream/Task000 = 0.8816\n",
      "100%|██████████| 3/3 [00:01<00:00,  2.46it/s]\n",
      "Epoch 8 ended.\n",
      "\tLoss_Epoch/train_phase/train_stream/Task000 = 0.6325\n",
      "\tTop1_Acc_Epoch/train_phase/train_stream/Task000 = 0.9211\n",
      "100%|██████████| 3/3 [00:01<00:00,  2.40it/s]\n",
      "Epoch 9 ended.\n",
      "\tLoss_Epoch/train_phase/train_stream/Task000 = 0.5895\n",
      "\tTop1_Acc_Epoch/train_phase/train_stream/Task000 = 0.9605\n",
      "-- >> End of training phase << --\n",
      "Training completed\n",
      "Start of experience:  5\n",
      "Current Classes:  [17, 21]\n",
      "-- >> Start of training phase << --\n",
      "100%|██████████| 14/14 [00:10<00:00,  1.32it/s]\n",
      "Epoch 0 ended.\n",
      "\tLoss_Epoch/train_phase/train_stream/Task000 = 4.9432\n",
      "\tTop1_Acc_Epoch/train_phase/train_stream/Task000 = 0.0000\n",
      "100%|██████████| 14/14 [00:07<00:00,  1.78it/s]\n",
      "Epoch 1 ended.\n",
      "\tLoss_Epoch/train_phase/train_stream/Task000 = 3.2853\n",
      "\tTop1_Acc_Epoch/train_phase/train_stream/Task000 = 0.3056\n",
      "100%|██████████| 14/14 [00:07<00:00,  1.87it/s]\n",
      "Epoch 2 ended.\n",
      "\tLoss_Epoch/train_phase/train_stream/Task000 = 2.4508\n",
      "\tTop1_Acc_Epoch/train_phase/train_stream/Task000 = 1.0000\n",
      "100%|██████████| 14/14 [00:07<00:00,  1.79it/s]\n",
      "Epoch 3 ended.\n",
      "\tLoss_Epoch/train_phase/train_stream/Task000 = 2.2679\n",
      "\tTop1_Acc_Epoch/train_phase/train_stream/Task000 = 1.0000\n",
      "100%|██████████| 14/14 [00:07<00:00,  1.87it/s]\n",
      "Epoch 4 ended.\n",
      "\tLoss_Epoch/train_phase/train_stream/Task000 = 2.2029\n",
      "\tTop1_Acc_Epoch/train_phase/train_stream/Task000 = 1.0000\n",
      "100%|██████████| 14/14 [00:07<00:00,  1.79it/s]\n",
      "Epoch 5 ended.\n",
      "\tLoss_Epoch/train_phase/train_stream/Task000 = 2.1790\n",
      "\tTop1_Acc_Epoch/train_phase/train_stream/Task000 = 1.0000\n",
      "100%|██████████| 14/14 [00:07<00:00,  1.88it/s]\n",
      "Epoch 6 ended.\n",
      "\tLoss_Epoch/train_phase/train_stream/Task000 = 2.1609\n",
      "\tTop1_Acc_Epoch/train_phase/train_stream/Task000 = 1.0000\n",
      "100%|██████████| 14/14 [00:07<00:00,  1.83it/s]\n",
      "Epoch 7 ended.\n",
      "\tLoss_Epoch/train_phase/train_stream/Task000 = 2.1376\n",
      "\tTop1_Acc_Epoch/train_phase/train_stream/Task000 = 1.0000\n",
      "100%|██████████| 14/14 [00:08<00:00,  1.67it/s]\n",
      "Epoch 8 ended.\n",
      "\tLoss_Epoch/train_phase/train_stream/Task000 = 2.1290\n",
      "\tTop1_Acc_Epoch/train_phase/train_stream/Task000 = 1.0000\n",
      "100%|██████████| 14/14 [00:07<00:00,  1.81it/s]\n",
      "Epoch 9 ended.\n",
      "\tLoss_Epoch/train_phase/train_stream/Task000 = 2.1544\n",
      "\tTop1_Acc_Epoch/train_phase/train_stream/Task000 = 0.9955\n",
      "-- >> End of training phase << --\n",
      "Training completed\n",
      "Start of experience:  6\n",
      "Current Classes:  [18, 20]\n",
      "-- >> Start of training phase << --\n",
      "100%|██████████| 4/4 [00:02<00:00,  1.72it/s]\n",
      "Epoch 0 ended.\n",
      "\tLoss_Epoch/train_phase/train_stream/Task000 = 2.6225\n",
      "\tTop1_Acc_Epoch/train_phase/train_stream/Task000 = 0.0294\n",
      "100%|██████████| 4/4 [00:01<00:00,  2.30it/s]\n",
      "Epoch 1 ended.\n",
      "\tLoss_Epoch/train_phase/train_stream/Task000 = 1.9296\n",
      "\tTop1_Acc_Epoch/train_phase/train_stream/Task000 = 0.2647\n",
      "100%|██████████| 4/4 [00:01<00:00,  2.33it/s]\n",
      "Epoch 2 ended.\n",
      "\tLoss_Epoch/train_phase/train_stream/Task000 = 1.4241\n",
      "\tTop1_Acc_Epoch/train_phase/train_stream/Task000 = 0.5196\n",
      "100%|██████████| 4/4 [00:01<00:00,  2.37it/s]\n",
      "Epoch 3 ended.\n",
      "\tLoss_Epoch/train_phase/train_stream/Task000 = 1.1607\n",
      "\tTop1_Acc_Epoch/train_phase/train_stream/Task000 = 1.0000\n",
      "100%|██████████| 4/4 [00:02<00:00,  1.98it/s]\n",
      "Epoch 4 ended.\n",
      "\tLoss_Epoch/train_phase/train_stream/Task000 = 0.9782\n",
      "\tTop1_Acc_Epoch/train_phase/train_stream/Task000 = 1.0000\n",
      "100%|██████████| 4/4 [00:01<00:00,  2.21it/s]\n",
      "Epoch 5 ended.\n",
      "\tLoss_Epoch/train_phase/train_stream/Task000 = 0.8766\n",
      "\tTop1_Acc_Epoch/train_phase/train_stream/Task000 = 1.0000\n",
      "100%|██████████| 4/4 [00:01<00:00,  2.32it/s]\n",
      "Epoch 6 ended.\n",
      "\tLoss_Epoch/train_phase/train_stream/Task000 = 0.7847\n",
      "\tTop1_Acc_Epoch/train_phase/train_stream/Task000 = 0.9902\n",
      "100%|██████████| 4/4 [00:01<00:00,  2.36it/s]\n",
      "Epoch 7 ended.\n",
      "\tLoss_Epoch/train_phase/train_stream/Task000 = 0.7218\n",
      "\tTop1_Acc_Epoch/train_phase/train_stream/Task000 = 1.0000\n",
      "100%|██████████| 4/4 [00:01<00:00,  2.22it/s]\n",
      "Epoch 8 ended.\n",
      "\tLoss_Epoch/train_phase/train_stream/Task000 = 0.7174\n",
      "\tTop1_Acc_Epoch/train_phase/train_stream/Task000 = 1.0000\n",
      "100%|██████████| 4/4 [00:01<00:00,  2.35it/s]\n",
      "Epoch 9 ended.\n",
      "\tLoss_Epoch/train_phase/train_stream/Task000 = 0.7111\n",
      "\tTop1_Acc_Epoch/train_phase/train_stream/Task000 = 1.0000\n",
      "-- >> End of training phase << --\n",
      "Training completed\n",
      "Start of experience:  7\n",
      "Current Classes:  [1, 10]\n",
      "-- >> Start of training phase << --\n",
      "100%|██████████| 12/12 [00:09<00:00,  1.29it/s]\n",
      "Epoch 0 ended.\n",
      "\tLoss_Epoch/train_phase/train_stream/Task000 = 4.5357\n",
      "\tTop1_Acc_Epoch/train_phase/train_stream/Task000 = 0.0000\n",
      "100%|██████████| 12/12 [00:06<00:00,  1.89it/s]\n",
      "Epoch 1 ended.\n",
      "\tLoss_Epoch/train_phase/train_stream/Task000 = 3.0120\n",
      "\tTop1_Acc_Epoch/train_phase/train_stream/Task000 = 0.1096\n",
      "100%|██████████| 12/12 [00:06<00:00,  1.79it/s]\n",
      "Epoch 2 ended.\n",
      "\tLoss_Epoch/train_phase/train_stream/Task000 = 2.3152\n",
      "\tTop1_Acc_Epoch/train_phase/train_stream/Task000 = 0.7807\n",
      "100%|██████████| 12/12 [00:06<00:00,  1.91it/s]\n",
      "Epoch 3 ended.\n",
      "\tLoss_Epoch/train_phase/train_stream/Task000 = 2.0369\n",
      "\tTop1_Acc_Epoch/train_phase/train_stream/Task000 = 0.9840\n",
      "100%|██████████| 12/12 [00:06<00:00,  1.85it/s]\n",
      "Epoch 4 ended.\n",
      "\tLoss_Epoch/train_phase/train_stream/Task000 = 1.9528\n",
      "\tTop1_Acc_Epoch/train_phase/train_stream/Task000 = 0.9706\n",
      "100%|██████████| 12/12 [00:06<00:00,  1.76it/s]\n",
      "Epoch 5 ended.\n",
      "\tLoss_Epoch/train_phase/train_stream/Task000 = 1.9167\n",
      "\tTop1_Acc_Epoch/train_phase/train_stream/Task000 = 0.9652\n",
      "100%|██████████| 12/12 [00:06<00:00,  1.92it/s]\n",
      "Epoch 6 ended.\n",
      "\tLoss_Epoch/train_phase/train_stream/Task000 = 1.9345\n",
      "\tTop1_Acc_Epoch/train_phase/train_stream/Task000 = 0.9893\n",
      "100%|██████████| 12/12 [00:06<00:00,  1.80it/s]\n",
      "Epoch 7 ended.\n",
      "\tLoss_Epoch/train_phase/train_stream/Task000 = 1.8686\n",
      "\tTop1_Acc_Epoch/train_phase/train_stream/Task000 = 0.9893\n",
      "100%|██████████| 12/12 [00:06<00:00,  1.92it/s]\n",
      "Epoch 8 ended.\n",
      "\tLoss_Epoch/train_phase/train_stream/Task000 = 1.7973\n",
      "\tTop1_Acc_Epoch/train_phase/train_stream/Task000 = 1.0000\n",
      "100%|██████████| 12/12 [00:06<00:00,  1.91it/s]\n",
      "Epoch 9 ended.\n",
      "\tLoss_Epoch/train_phase/train_stream/Task000 = 1.8123\n",
      "\tTop1_Acc_Epoch/train_phase/train_stream/Task000 = 0.9947\n",
      "-- >> End of training phase << --\n",
      "Training completed\n",
      "Start of experience:  8\n",
      "Current Classes:  [16, 6]\n",
      "-- >> Start of training phase << --\n",
      "100%|██████████| 16/16 [00:11<00:00,  1.36it/s]\n",
      "Epoch 0 ended.\n",
      "\tLoss_Epoch/train_phase/train_stream/Task000 = 4.3415\n",
      "\tTop1_Acc_Epoch/train_phase/train_stream/Task000 = 0.0398\n",
      "100%|██████████| 16/16 [00:08<00:00,  1.90it/s]\n",
      "Epoch 1 ended.\n",
      "\tLoss_Epoch/train_phase/train_stream/Task000 = 2.8506\n",
      "\tTop1_Acc_Epoch/train_phase/train_stream/Task000 = 0.8111\n",
      "100%|██████████| 16/16 [00:09<00:00,  1.77it/s]\n",
      "Epoch 2 ended.\n",
      "\tLoss_Epoch/train_phase/train_stream/Task000 = 2.4619\n",
      "\tTop1_Acc_Epoch/train_phase/train_stream/Task000 = 0.9901\n",
      "100%|██████████| 16/16 [00:08<00:00,  1.92it/s]\n",
      "Epoch 3 ended.\n",
      "\tLoss_Epoch/train_phase/train_stream/Task000 = 2.3944\n",
      "\tTop1_Acc_Epoch/train_phase/train_stream/Task000 = 0.9940\n",
      "100%|██████████| 16/16 [00:08<00:00,  1.85it/s]\n",
      "Epoch 4 ended.\n",
      "\tLoss_Epoch/train_phase/train_stream/Task000 = 2.3636\n",
      "\tTop1_Acc_Epoch/train_phase/train_stream/Task000 = 0.9901\n",
      "100%|██████████| 16/16 [00:08<00:00,  1.93it/s]\n",
      "Epoch 5 ended.\n",
      "\tLoss_Epoch/train_phase/train_stream/Task000 = 2.3579\n",
      "\tTop1_Acc_Epoch/train_phase/train_stream/Task000 = 0.9940\n",
      "100%|██████████| 16/16 [00:08<00:00,  1.83it/s]\n",
      "Epoch 6 ended.\n",
      "\tLoss_Epoch/train_phase/train_stream/Task000 = 2.3433\n",
      "\tTop1_Acc_Epoch/train_phase/train_stream/Task000 = 0.9980\n",
      "100%|██████████| 16/16 [00:09<00:00,  1.63it/s]\n",
      "Epoch 7 ended.\n",
      "\tLoss_Epoch/train_phase/train_stream/Task000 = 2.3433\n",
      "\tTop1_Acc_Epoch/train_phase/train_stream/Task000 = 0.9960\n",
      "100%|██████████| 16/16 [00:09<00:00,  1.66it/s]\n",
      "Epoch 8 ended.\n",
      "\tLoss_Epoch/train_phase/train_stream/Task000 = 2.3249\n",
      "\tTop1_Acc_Epoch/train_phase/train_stream/Task000 = 0.9980\n",
      "100%|██████████| 16/16 [00:08<00:00,  1.81it/s]\n",
      "Epoch 9 ended.\n",
      "\tLoss_Epoch/train_phase/train_stream/Task000 = 2.3279\n",
      "\tTop1_Acc_Epoch/train_phase/train_stream/Task000 = 0.9960\n",
      "-- >> End of training phase << --\n",
      "Training completed\n",
      "Start of experience:  9\n",
      "Current Classes:  [8, 19]\n",
      "-- >> Start of training phase << --\n",
      "100%|██████████| 21/21 [00:15<00:00,  1.38it/s]\n",
      "Epoch 0 ended.\n",
      "\tLoss_Epoch/train_phase/train_stream/Task000 = 4.3237\n",
      "\tTop1_Acc_Epoch/train_phase/train_stream/Task000 = 0.2186\n",
      "100%|██████████| 21/21 [00:11<00:00,  1.85it/s]\n",
      "Epoch 1 ended.\n",
      "\tLoss_Epoch/train_phase/train_stream/Task000 = 3.0173\n",
      "\tTop1_Acc_Epoch/train_phase/train_stream/Task000 = 0.9907\n",
      "100%|██████████| 21/21 [00:11<00:00,  1.90it/s]\n",
      "Epoch 2 ended.\n",
      "\tLoss_Epoch/train_phase/train_stream/Task000 = 2.9188\n",
      "\tTop1_Acc_Epoch/train_phase/train_stream/Task000 = 0.9938\n",
      "100%|██████████| 21/21 [00:11<00:00,  1.80it/s]\n",
      "Epoch 3 ended.\n",
      "\tLoss_Epoch/train_phase/train_stream/Task000 = 2.9013\n",
      "\tTop1_Acc_Epoch/train_phase/train_stream/Task000 = 0.9922\n",
      "100%|██████████| 21/21 [00:12<00:00,  1.73it/s]\n",
      "Epoch 4 ended.\n",
      "\tLoss_Epoch/train_phase/train_stream/Task000 = 2.8855\n",
      "\tTop1_Acc_Epoch/train_phase/train_stream/Task000 = 0.9938\n",
      "100%|██████████| 21/21 [00:12<00:00,  1.64it/s]\n",
      "Epoch 5 ended.\n",
      "\tLoss_Epoch/train_phase/train_stream/Task000 = 2.8630\n",
      "\tTop1_Acc_Epoch/train_phase/train_stream/Task000 = 1.0000\n",
      "100%|██████████| 21/21 [00:12<00:00,  1.66it/s]\n",
      "Epoch 6 ended.\n",
      "\tLoss_Epoch/train_phase/train_stream/Task000 = 2.8656\n",
      "\tTop1_Acc_Epoch/train_phase/train_stream/Task000 = 0.9969\n",
      "100%|██████████| 21/21 [00:13<00:00,  1.53it/s]\n",
      "Epoch 7 ended.\n",
      "\tLoss_Epoch/train_phase/train_stream/Task000 = 2.8530\n",
      "\tTop1_Acc_Epoch/train_phase/train_stream/Task000 = 0.9984\n",
      "100%|██████████| 21/21 [00:13<00:00,  1.52it/s]\n",
      "Epoch 8 ended.\n",
      "\tLoss_Epoch/train_phase/train_stream/Task000 = 2.8573\n",
      "\tTop1_Acc_Epoch/train_phase/train_stream/Task000 = 0.9953\n",
      "100%|██████████| 21/21 [00:14<00:00,  1.49it/s]\n",
      "Epoch 9 ended.\n",
      "\tLoss_Epoch/train_phase/train_stream/Task000 = 2.8487\n",
      "\tTop1_Acc_Epoch/train_phase/train_stream/Task000 = 0.9984\n",
      "-- >> End of training phase << --\n",
      "Training completed\n",
      "Start of experience:  10\n",
      "Current Classes:  [5, 7]\n",
      "-- >> Start of training phase << --\n",
      "100%|██████████| 26/26 [00:22<00:00,  1.16it/s]\n",
      "Epoch 0 ended.\n",
      "\tLoss_Epoch/train_phase/train_stream/Task000 = 4.4005\n",
      "\tTop1_Acc_Epoch/train_phase/train_stream/Task000 = 0.5418\n",
      "100%|██████████| 26/26 [00:19<00:00,  1.37it/s]\n",
      "Epoch 1 ended.\n",
      "\tLoss_Epoch/train_phase/train_stream/Task000 = 3.6124\n",
      "\tTop1_Acc_Epoch/train_phase/train_stream/Task000 = 0.9644\n",
      "100%|██████████| 26/26 [00:21<00:00,  1.22it/s]\n",
      "Epoch 2 ended.\n",
      "\tLoss_Epoch/train_phase/train_stream/Task000 = 3.5327\n",
      "\tTop1_Acc_Epoch/train_phase/train_stream/Task000 = 0.9742\n",
      "100%|██████████| 26/26 [00:22<00:00,  1.17it/s]\n",
      "Epoch 3 ended.\n",
      "\tLoss_Epoch/train_phase/train_stream/Task000 = 3.5213\n",
      "\tTop1_Acc_Epoch/train_phase/train_stream/Task000 = 0.9754\n",
      "100%|██████████| 26/26 [00:23<00:00,  1.10it/s]\n",
      "Epoch 4 ended.\n",
      "\tLoss_Epoch/train_phase/train_stream/Task000 = 3.5021\n",
      "\tTop1_Acc_Epoch/train_phase/train_stream/Task000 = 0.9816\n",
      "100%|██████████| 26/26 [00:24<00:00,  1.07it/s]\n",
      "Epoch 5 ended.\n",
      "\tLoss_Epoch/train_phase/train_stream/Task000 = 3.4853\n",
      "\tTop1_Acc_Epoch/train_phase/train_stream/Task000 = 0.9853\n",
      "100%|██████████| 26/26 [00:29<00:00,  1.15s/it]\n",
      "Epoch 6 ended.\n",
      "\tLoss_Epoch/train_phase/train_stream/Task000 = 3.4959\n",
      "\tTop1_Acc_Epoch/train_phase/train_stream/Task000 = 0.9840\n",
      "100%|██████████| 26/26 [00:27<00:00,  1.07s/it]\n",
      "Epoch 7 ended.\n",
      "\tLoss_Epoch/train_phase/train_stream/Task000 = 3.4846\n",
      "\tTop1_Acc_Epoch/train_phase/train_stream/Task000 = 0.9877\n",
      "100%|██████████| 26/26 [00:27<00:00,  1.04s/it]\n",
      "Epoch 8 ended.\n",
      "\tLoss_Epoch/train_phase/train_stream/Task000 = 3.4796\n",
      "\tTop1_Acc_Epoch/train_phase/train_stream/Task000 = 0.9865\n",
      " 50%|█████     | 13/26 [00:15<00:14,  1.11s/it]"
     ]
    }
   ],
   "source": [
    "print('Starting experiment...')\n",
    "results = []\n",
    "for experience in bm.train_stream:\n",
    "    print(\"Start of experience: \", experience.current_experience)\n",
    "    print(\"Current Classes: \", experience.classes_in_this_experience)\n",
    "    cl_strategy.train(experience)\n",
    "    print('Training completed')"
   ]
  },
  {
   "cell_type": "code",
   "execution_count": null,
   "metadata": {
    "colab": {
     "base_uri": "https://localhost:8080/"
    },
    "id": "taW1mJPKqLwz",
    "outputId": "8c8753d5-7fef-4dbe-9096-ab2b2b5039f4"
   },
   "outputs": [],
   "source": [
    "#save model\n",
    "torch.save(model.state_dict(), 'C:\\\\Users\\\\Brian.Baert\\\\Documents\\\\GitHub\\\\MscThesis\\\\Models\\\\thesis_EWC_CL_1_0.pth')\n",
    "#torch.save(model.state_dict(), '/content/drive/MyDrive/MscThesis/thesis_generative_CL_1_0.pth')\n",
    "print(\"Saved Pytorch Model state to thesis_EWC_CL_1_0.pth\")"
   ]
  },
  {
   "cell_type": "code",
   "execution_count": null,
   "metadata": {
    "colab": {
     "base_uri": "https://localhost:8080/"
    },
    "id": "6pNYVJcrJ_s-",
    "outputId": "2b566a7c-9c49-476d-ef74-284afbaa1eb8"
   },
   "outputs": [],
   "source": [
    "model = SlimResNet18(nclasses=22)\n",
    "model.load_state_dict(torch.load('C:\\\\Users\\\\Brian.Baert\\\\Documents\\\\GitHub\\\\MscThesis\\\\Models\\\\thesis_EWC_CL_1_0.pth'))\n",
    "#model.load_state_dict(torch.load('/content/drive/MyDrive/MscThesis/thesis_generative_CL_1_0.pth'))\n",
    "model.eval()"
   ]
  },
  {
   "cell_type": "code",
   "execution_count": null,
   "metadata": {
    "colab": {
     "base_uri": "https://localhost:8080/"
    },
    "id": "VmpqErprNUq2",
    "outputId": "060f7b64-22b1-43ab-ce2a-34b089e89267"
   },
   "outputs": [],
   "source": [
    "my_utils.n_test_predictions(model, test_loader_av, classes, 20)"
   ]
  },
  {
   "cell_type": "code",
   "execution_count": null,
   "metadata": {
    "colab": {
     "base_uri": "https://localhost:8080/"
    },
    "id": "nfxKV4NxtfAr",
    "outputId": "667232c3-a3c5-4601-e93b-ed9eebf43878"
   },
   "outputs": [],
   "source": [
    "test_loader = torch.utils.data.DataLoader(test_set, batch_size=1, shuffle=True)\n",
    "y_pred_list, y_true_list = my_utils.get_predictions(model, test_loader_av)"
   ]
  },
  {
   "cell_type": "code",
   "execution_count": null,
   "metadata": {
    "id": "iXDVLw9Mtt4v"
   },
   "outputs": [],
   "source": [
    "# Generate confusion matrix\n",
    "cm = confusion_matrix(y_true_list, y_pred_list)\n",
    "f1 = f1_score(y_true_list, y_pred_list, average=None)"
   ]
  },
  {
   "cell_type": "code",
   "execution_count": null,
   "metadata": {
    "colab": {
     "base_uri": "https://localhost:8080/",
     "height": 790
    },
    "id": "q4syrSY9t9N9",
    "outputId": "ab7af71c-e301-49c2-a0a8-0cdf621dd9f7"
   },
   "outputs": [],
   "source": [
    "plt.figure(figsize=(10,7))\n",
    "\n",
    "# Use seaborn heatmap for visualization\n",
    "sns.heatmap(cm, annot=True, cmap='Blues', fmt='d', xticklabels=classes, yticklabels=classes)\n",
    "\n",
    "plt.xlabel('Predicted')\n",
    "plt.ylabel('Actual')\n",
    "figTemp = plt.gcf()\n",
    "plt.show()\n",
    "plt.draw()\n",
    "figTemp.savefig('f1_scores_EWC_1_0.png')\n",
    "plt.close()"
   ]
  },
  {
   "cell_type": "code",
   "execution_count": null,
   "metadata": {
    "id": "xbYSfxKDj3vj"
   },
   "outputs": [],
   "source": [
    "# Create a horizontal bar plot for F1 scores with different colors\n",
    "plt.figure(figsize=(10,7))\n",
    "colors = plt.cm.viridis(np.linspace(0, 1, len(classes)))\n",
    "plt.barh(np.arange(len(classes)), f1, color=colors, align='center', alpha=0.5)\n",
    "plt.yticks(np.arange(len(classes)), classes)\n",
    "plt.xlabel('F1 Score')\n",
    "plt.title('F1 Score for Each Class')\n",
    "figTemp = plt.gcf()\n",
    "plt.show()\n",
    "plt.draw()\n",
    "figTemp.savefig('f1_scores_EWC_1_0.png')\n",
    "plt.close()"
   ]
  },
  {
   "cell_type": "code",
   "execution_count": null,
   "metadata": {},
   "outputs": [],
   "source": []
  }
 ],
 "metadata": {
  "colab": {
   "authorship_tag": "ABX9TyOrI+t9FJjnAgoquNJb9Lug",
   "include_colab_link": true,
   "mount_file_id": "1vsLt8KULa-1HhNdKYHdrNM4CC6hJY3lU",
   "provenance": []
  },
  "kernelspec": {
   "display_name": "Python 3 (ipykernel)",
   "language": "python",
   "name": "python3"
  },
  "language_info": {
   "codemirror_mode": {
    "name": "ipython",
    "version": 3
   },
   "file_extension": ".py",
   "mimetype": "text/x-python",
   "name": "python",
   "nbconvert_exporter": "python",
   "pygments_lexer": "ipython3",
   "version": "3.10.14"
  }
 },
 "nbformat": 4,
 "nbformat_minor": 4
}

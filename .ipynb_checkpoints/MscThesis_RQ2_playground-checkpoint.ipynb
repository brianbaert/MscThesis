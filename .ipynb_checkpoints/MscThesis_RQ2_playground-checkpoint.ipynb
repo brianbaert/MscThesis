{
 "cells": [
  {
   "cell_type": "markdown",
   "id": "3cb4773c-1f20-4f8a-a655-1f99f5e9ee2b",
   "metadata": {},
   "source": [
    "# Packages"
   ]
  },
  {
   "cell_type": "code",
   "execution_count": 144,
   "id": "32bc2bd7-cbab-4ed7-b205-c98b094ea4d5",
   "metadata": {},
   "outputs": [
    {
     "name": "stdout",
     "output_type": "stream",
     "text": [
      "4\n"
     ]
    }
   ],
   "source": [
    "#%cd /content/drive/MyDrive/MscThesis\n",
    "import warnings\n",
    "warnings.filterwarnings(\"ignore\")\n",
    "import numpy as np\n",
    "import os\n",
    "import pandas as pd\n",
    "import time\n",
    "import gwpy\n",
    "import nds2 # conda config --add channels conda-forge \\n conda install python-nds2-client\n",
    "import numba\n",
    "\n",
    "from gwpy.table import EventTable\n",
    "from gwpy.table import GravitySpyTable\n",
    "from gwpy.detector import ChannelList, Channel\n",
    "from gwpy.time import tconvert\n",
    "from gwpy.timeseries import TimeSeries #if this does not work, remove h5py and reinstall h5py\n",
    "from matplotlib.colors import ListedColormap\n",
    "from matplotlib.legend_handler import HandlerLine2D\n",
    "from matplotlib.lines import Line2D\n",
    "import matplotlib.cm as cm\n",
    "import matplotlib as mpl\n",
    "import matplotlib.pyplot as plt\n",
    "from astropy.table import vstack\n",
    "from datetime import datetime\n",
    "from PIL import Image\n",
    "from collections import Counter\n",
    "import matplotlib.pyplot as plt\n",
    "import seaborn as sns\n",
    "import torch\n",
    "import torch.optim as optim\n",
    "import torchvision\n",
    "import torchvision.models\n",
    "import torchvision.transforms as transforms\n",
    "from torch.optim import SGD, Adam, AdamW\n",
    "import torch.nn as nn\n",
    "import torch.nn.functional as F\n",
    "from torch.nn import CrossEntropyLoss\n",
    "from torch.utils.data import DataLoader, Dataset\n",
    "from torch.utils.tensorboard import SummaryWriter\n",
    "from torchvision.datasets import DatasetFolder, ImageFolder\n",
    "from tqdm import tqdm\n",
    "from sklearn import model_selection\n",
    "from sklearn.tree import DecisionTreeClassifier\n",
    "from sklearn.metrics import classification_report, confusion_matrix, f1_score, \\\n",
    "accuracy_score\n",
    "from avalanche.models import SlimResNet18, MTSlimResNet18, SimpleCNN\n",
    "from avalanche.models import as_multitask, IncrementalClassifier\n",
    "from avalanche.models.utils import avalanche_model_adaptation\n",
    "from avalanche.training import Naive, LwF, GenerativeReplay, ICaRLLossPlugin, ICaRL, EWC, AR1, LFL, AGEM\n",
    "from avalanche.logging import (\n",
    "    InteractiveLogger,\n",
    "    TextLogger,\n",
    "    CSVLogger,\n",
    ")\n",
    "from avalanche.training.plugins import EvaluationPlugin, ReplayPlugin, LwFPlugin, EarlyStoppingPlugin, AGEMPlugin\n",
    "from avalanche.training.plugins.lr_scheduling import LRSchedulerPlugin\n",
    "from avalanche.benchmarks import nc_benchmark, ni_benchmark\n",
    "from avalanche.benchmarks.utils import AvalancheDataset\n",
    "from avalanche.benchmarks.scenarios.dataset_scenario import benchmark_from_datasets\n",
    "from avalanche.benchmarks.scenarios.supervised import class_incremental_benchmark\n",
    "from avalanche.evaluation.metrics import forgetting_metrics, accuracy_metrics,loss_metrics, \\\n",
    "timing_metrics, cpu_usage_metrics, StreamConfusionMatrix, disk_usage_metrics, gpu_usage_metrics, \\\n",
    "confusion_matrix_metrics, bwt_metrics, forward_transfer_metrics, ram_usage_metrics, images_samples_metrics\n",
    "from avalanche.evaluation.metrics import Accuracy, BWT, Forgetting, ForwardTransfer\n",
    "import multiprocessing as mp\n",
    "\n",
    "import my_utils\n",
    "import my_architectures\n",
    "import my_dataloaders\n",
    "import my_gwpy_and_fractals\n",
    "import my_transformations\n",
    "\n",
    "IMG_SIZE = (224,224)\n",
    "\n",
    "device = torch.device(\"cuda:0\" if torch.cuda.is_available() else \"cpu\")\n",
    "\n",
    "# calculating the amount of workers usable\n",
    "number_of_workers = mp.cpu_count()\n",
    "number_of_workers = int(number_of_workers/2)\n",
    "print(number_of_workers)"
   ]
  },
  {
   "cell_type": "code",
   "execution_count": 146,
   "id": "74e6053a-9941-471c-b88d-5aabbcb8b96e",
   "metadata": {},
   "outputs": [],
   "source": [
    "current_dir = %pwd"
   ]
  },
  {
   "cell_type": "code",
   "execution_count": 2,
   "id": "8c2be1bc-93e4-492f-a98a-c98d02d7b8f2",
   "metadata": {},
   "outputs": [],
   "source": [
    "# Setting the correct directories\n",
    "#train_dir = 'D:\\\\Users\\\\Brian\\\\TrainingSet_CL_1\\\\TrainingSet_CL_1'\n",
    "train_dir = 'C:\\\\Users\\\\Brian.Baert\\\\TrainingSet_CL_1'\n",
    "#train_dir_2 = 'D:\\\\Users\\Brian\\\\TrainingSet_CL_2\\\\TrainingSet_CL_2'\n",
    "train_dir_2 = 'C:\\\\Users\\\\Brian.Baert\\\\TrainingSet_CL_2'\n",
    "#val_dir = 'D:\\\\Users\\\\Brian\\\\TestSet_CL\\\\TestSet_CL'\n",
    "val_dir = 'C:\\\\Users\\\\Brian.Baert\\\\ValidationSet_CL'\n",
    "#test_dir = 'D:\\\\Users\\\\Brian\\\\TestSet_CL\\\\TestSet_CL'\n",
    "test_dir = 'C:\\\\Users\\\\Brian.Baert\\\\TestSet_CL'\n",
    "\n",
    "# Read in class labels\n",
    "class_file = open(\"classes.txt\", \"r\")\n",
    "classes = class_file.read()\n",
    "classes = classes.split(\", \")"
   ]
  },
  {
   "cell_type": "code",
   "execution_count": 151,
   "id": "dd9ef23f-32d2-4689-8cd8-19b3e0a55eee",
   "metadata": {},
   "outputs": [],
   "source": [
    "# Extract glitches and IFO ---> ONLY ONCE\n",
    "L1_filename = \"L1_glitches.txt\"\n",
    "H1_filename = \"H1_glitches.txt\"\n",
    "\n",
    "glitch_names_L1 = set()\n",
    "glitch_names_H1 = set()\n",
    "\n",
    "for root, _, files in os.walk(train_dir):\n",
    "    for filename in files:\n",
    "        if filename.startswith(\"H1_\"):\n",
    "            parts = filename.split(\"_\")\n",
    "            if len(parts) >= 3:\n",
    "                glitch_names_H1.add(parts[1])\n",
    "        if filename.startswith(\"L1_\"):\n",
    "            parts = filename.split(\"_\")\n",
    "            if len(parts) >=2:\n",
    "                glitch_names_L1.add(parts[1])\n",
    "\n",
    "with open(os.path.join(current_dir, L1_filename), \"w\") as output_file:\n",
    "    for name in glitch_names_L1:\n",
    "        output_file.write(f\"{name}\\n\")\n",
    "        \n",
    "with open(os.path.join(current_dir, H1_filename), \"w\") as output_file:\n",
    "    for name in glitch_names_H1:\n",
    "        output_file.write(f\"{name}\\n\")"
   ]
  },
  {
   "cell_type": "code",
   "execution_count": 3,
   "id": "4e5f621b-73a4-43b9-9536-9ac9736ca8b2",
   "metadata": {},
   "outputs": [],
   "source": [
    "# Set the environment variables\n",
    "os.environ[\"GRAVITYSPY_DATABASE_USER\"] = \"mla\"\n",
    "os.environ[\"GRAVITYSPY_DATABASE_PASSWD\"] = \"gl1tch35Rb4d!\"\n",
    "glitch_labels = ['1400Ripples', '1080Lines', 'Air_Compressor', \n",
    "                 'Blip', 'Chirp', 'Extremely_Loud', 'Helix', 'Koi_Fish', 'Light_Modulation', \n",
    "                 'Low_Frequency_Burst', 'Low_Frequency_Lines', 'No_Glitch', 'None_of_the_Above', \n",
    "                 'Paired_Doves', 'Power_Line', 'Repeating_Blips', 'Scattered_Light', 'Scratchy', \n",
    "                 'Tomte', 'Violin_Mode', 'Wandering_Line', 'Whistle']\n",
    "O3b_start = 1256655618\n",
    "O3b_stop = 1269363618"
   ]
  },
  {
   "cell_type": "code",
   "execution_count": 4,
   "id": "1b66206f-dac8-47ce-923a-1edd703baba5",
   "metadata": {},
   "outputs": [],
   "source": [
    "O3b_csv = pd.read_csv('Data/data_o3b_high_confidence.csv')"
   ]
  },
  {
   "cell_type": "code",
   "execution_count": 121,
   "id": "601e772a-203b-4a49-b848-08756a92d235",
   "metadata": {},
   "outputs": [],
   "source": [
    "glitch_id = 'NiaqY1hBUw'"
   ]
  },
  {
   "cell_type": "code",
   "execution_count": 122,
   "id": "e9f1e904-c45c-481b-b0fc-715679c37858",
   "metadata": {},
   "outputs": [],
   "source": [
    "glitch_start_time = int(O3b_csv[O3b_csv.id == glitch_id]['GPStime'])-2\n",
    "glitch_stop_time = int(O3b_csv[O3b_csv.id == glitch_id]['GPStime'])+2"
   ]
  },
  {
   "cell_type": "code",
   "execution_count": 132,
   "id": "bcd1aad0-94ed-42f2-ad36-67ce3eb79f60",
   "metadata": {},
   "outputs": [],
   "source": [
    "step = 0.25\n",
    "sampling_rate = 16384\n",
    "#sampling_rate = 512\n",
    "decimate = 64\n",
    "channel = 'L1:DCS-CALIB_STRAIN_C01_AR'\n",
    "#channel = 'L1:PEM-EY_MIC_VEA_PLUSY_DQ'\n",
    "#channel = 'L1:LSC-PRCL_IN1_DQ'\n",
    "#channel = 'L1:LSC-PRCL_OUT_DQ'\n",
    "#channel = 'L1:ASC-CHARD_Y_OUT_DQ'\n",
    "server = 'losc-nds.ligo.org'\n",
    "#server = 'nds.gwosc.org'\n",
    "alpha = 1\n",
    "data_end = sampling_rate * (glitch_stop_time - glitch_start_time)\n",
    "data = pd.DataFrame(columns=['time', 'value'])\n",
    "data_length = int((glitch_stop_time - glitch_start_time) / step)"
   ]
  },
  {
   "cell_type": "code",
   "execution_count": 88,
   "id": "4a84b7ba-e4f7-45ce-983c-3baad2489900",
   "metadata": {},
   "outputs": [
    {
     "name": "stdout",
     "output_type": "stream",
     "text": [
      "Found 1294 channels\n",
      "\n",
      "Printing first 10 channels ...\n",
      "Here are channels containing L1 in the name ...\n",
      "L1:LSC-PRCL_IN1_DQ 16384.0 Hz\n",
      "L1:LSC-PRCL_IN1_DQ 16384.0 Hz\n"
     ]
    }
   ],
   "source": [
    "chanList = ChannelList.query_nds2('*', host=server)\n",
    "print(\"Found {0} channels\\n\".format(len(chanList)))\n",
    "print(\"Printing first 10 channels ...\")\n",
    "auxlist = [chan for chan in chanList if 'L1:LSC-PRCL_IN1_DQ' in chan.name]\n",
    "print(\"Here are channels containing L1 in the name ...\")\n",
    "for chan in auxlist:\n",
    "    print(chan.name, chan.sample_rate)"
   ]
  },
  {
   "cell_type": "code",
   "execution_count": 133,
   "id": "2eb4d75a-7f2d-4c0c-b34f-90c20fa77d2e",
   "metadata": {},
   "outputs": [
    {
     "name": "stdout",
     "output_type": "stream",
     "text": [
      "Getting the TimeSeries data\n",
      "fetch_and_whiten_data: 15051.194429397583 ms\n"
     ]
    }
   ],
   "source": [
    "data_conditioned = my_gwpy_and_fractals.fetch_and_whiten_data(glitch_start_time, glitch_stop_time, server, sampling_rate, channel)"
   ]
  },
  {
   "cell_type": "code",
   "execution_count": 134,
   "id": "071f5308-8b6c-44c7-b223-61f813f64eb7",
   "metadata": {},
   "outputs": [
    {
     "data": {
      "text/plain": [
       "array([ 0.85516222, -0.64868169, -0.00790399, ...,  0.40124084,\n",
       "        0.2670766 , -0.63073039])"
      ]
     },
     "execution_count": 134,
     "metadata": {},
     "output_type": "execute_result"
    }
   ],
   "source": [
    "data_conditioned"
   ]
  },
  {
   "cell_type": "code",
   "execution_count": 135,
   "id": "c9c39651-1bc0-4185-8607-a58b6654b3b5",
   "metadata": {},
   "outputs": [],
   "source": [
    "time_stamps = np.arange(0, int(data_end/2))\n",
    "time_stamps_array = np.split(time_stamps, data_length)\n",
    "for element in time_stamps_array:\n",
    "    try:\n",
    "        data = pd.concat([data, pd.DataFrame(pd.Series([element, data_conditioned[element]], index=['time', 'value'])).T], ignore_index=True)\n",
    "    except:\n",
    "        print('No data or exception')\n",
    "        pass"
   ]
  },
  {
   "cell_type": "code",
   "execution_count": 136,
   "id": "daa6a98a-792a-44f3-b1b0-982ff7033340",
   "metadata": {},
   "outputs": [
    {
     "data": {
      "text/plain": [
       "32768"
      ]
     },
     "execution_count": 136,
     "metadata": {},
     "output_type": "execute_result"
    }
   ],
   "source": [
    "len(data_conditioned)"
   ]
  },
  {
   "cell_type": "code",
   "execution_count": 137,
   "id": "aadb9892-fb9f-4201-87cf-810d4649f59d",
   "metadata": {},
   "outputs": [
    {
     "name": "stdout",
     "output_type": "stream",
     "text": [
      "Computing the var estimator for data starting at 1257538014.0 time.\n",
      "var_function: 2.9785633087158203 ms\n",
      "fit_est: 0.9996891021728516 ms\n",
      "fd= 1.6842297913898454\n",
      "Computing the var estimator for data starting at 1257538014.25 time.\n",
      "var_function: 2.945423126220703 ms\n",
      "fit_est: 0.9965896606445312 ms\n",
      "fd= 1.6891042432840877\n",
      "Computing the var estimator for data starting at 1257538014.5 time.\n",
      "var_function: 2.018451690673828 ms\n",
      "fit_est: 0.7994174957275391 ms\n",
      "fd= 1.682223879811872\n",
      "Computing the var estimator for data starting at 1257538014.75 time.\n",
      "var_function: 2.9366016387939453 ms\n",
      "fit_est: 0.9984970092773438 ms\n",
      "fd= 1.670042902400654\n",
      "Computing the var estimator for data starting at 1257538015.0 time.\n",
      "var_function: 3.0221939086914062 ms\n",
      "fit_est: 0.3437995910644531 ms\n",
      "fd= 1.682913313646444\n",
      "Computing the var estimator for data starting at 1257538015.25 time.\n",
      "var_function: 2.0265579223632812 ms\n",
      "fit_est: 0.9639263153076172 ms\n",
      "fd= 1.6819276217444048\n",
      "Computing the var estimator for data starting at 1257538015.5 time.\n",
      "var_function: 2.0275115966796875 ms\n",
      "fit_est: 1.0082721710205078 ms\n",
      "fd= 1.6752387838124143\n",
      "Computing the var estimator for data starting at 1257538015.75 time.\n",
      "var_function: 1.9109249114990234 ms\n",
      "fit_est: 0.9663105010986328 ms\n",
      "fd= 1.6845858672767988\n",
      "Computing the var estimator for data starting at 1257538016.0 time.\n",
      "var_function: 1.7595291137695312 ms\n",
      "fit_est: 1.0111331939697266 ms\n",
      "fd= 1.6864500135890004\n",
      "Computing the var estimator for data starting at 1257538016.25 time.\n",
      "var_function: 1.9936561584472656 ms\n",
      "fit_est: 0.46634674072265625 ms\n",
      "fd= 1.6909830769576057\n",
      "Computing the var estimator for data starting at 1257538016.5 time.\n",
      "var_function: 2.0248889923095703 ms\n",
      "fit_est: 0.9665489196777344 ms\n",
      "fd= 1.675754369002357\n",
      "Computing the var estimator for data starting at 1257538016.75 time.\n",
      "var_function: 2.0263195037841797 ms\n",
      "fit_est: 1.0020732879638672 ms\n",
      "fd= 1.6885783586063972\n",
      "Computing the var estimator for data starting at 1257538017.0 time.\n",
      "var_function: 2.986431121826172 ms\n",
      "fit_est: 0.9989738464355469 ms\n",
      "fd= 1.6923199622085612\n",
      "Computing the var estimator for data starting at 1257538017.25 time.\n",
      "var_function: 1.9936561584472656 ms\n",
      "fit_est: 1.0190010070800781 ms\n",
      "fd= 1.6801418782238073\n",
      "Computing the var estimator for data starting at 1257538017.5 time.\n",
      "var_function: 2.027750015258789 ms\n",
      "fit_est: 0.27370452880859375 ms\n",
      "fd= 1.6790842057843856\n",
      "Computing the var estimator for data starting at 1257538017.75 time.\n",
      "var_function: 2.0339488983154297 ms\n",
      "fit_est: 0.4901885986328125 ms\n",
      "fd= 1.6912485486932156\n"
     ]
    }
   ],
   "source": [
    "number_of_chunks = data_length\n",
    "data_fd = pd.DataFrame(columns=['time', 'fd'])\n",
    "\n",
    "for chunk in range(0, number_of_chunks):\n",
    "    start_chunktime = chunk * step + glitch_start_time\n",
    "    check_valid = data.iloc[chunk].value\n",
    "    if np.isnan(check_valid.all()):\n",
    "        print(f\"Warning, undefined data, FD is set to zero at time {start_chunktime}.\")\n",
    "        continue\n",
    "    print(f\"Computing the var estimator for data starting at {start_chunktime} time.\")\n",
    "    #print(data.iloc[chunk])\n",
    "    est_eval = my_gwpy_and_fractals.var_function(data.iloc[chunk], decimate)\n",
    "    est_fit = my_gwpy_and_fractals.fit_est(est_eval, sampling_rate)\n",
    "    fractal_dimension = 2.-est_fit[3]\n",
    "    print(f\"fd= {fractal_dimension}\")\n",
    "    data_fd = pd.concat([data_fd, pd.DataFrame([[start_chunktime, fractal_dimension]], columns=['time', 'fd'])], ignore_index=True) "
   ]
  },
  {
   "cell_type": "code",
   "execution_count": 138,
   "id": "cbe3af2f-3051-4f72-b19f-d27cef979eb3",
   "metadata": {},
   "outputs": [
    {
     "data": {
      "text/html": [
       "<div>\n",
       "<style scoped>\n",
       "    .dataframe tbody tr th:only-of-type {\n",
       "        vertical-align: middle;\n",
       "    }\n",
       "\n",
       "    .dataframe tbody tr th {\n",
       "        vertical-align: top;\n",
       "    }\n",
       "\n",
       "    .dataframe thead th {\n",
       "        text-align: right;\n",
       "    }\n",
       "</style>\n",
       "<table border=\"1\" class=\"dataframe\">\n",
       "  <thead>\n",
       "    <tr style=\"text-align: right;\">\n",
       "      <th></th>\n",
       "      <th>time</th>\n",
       "      <th>fd</th>\n",
       "    </tr>\n",
       "  </thead>\n",
       "  <tbody>\n",
       "    <tr>\n",
       "      <th>0</th>\n",
       "      <td>1.257538e+09</td>\n",
       "      <td>1.684230</td>\n",
       "    </tr>\n",
       "    <tr>\n",
       "      <th>1</th>\n",
       "      <td>1.257538e+09</td>\n",
       "      <td>1.689104</td>\n",
       "    </tr>\n",
       "    <tr>\n",
       "      <th>2</th>\n",
       "      <td>1.257538e+09</td>\n",
       "      <td>1.682224</td>\n",
       "    </tr>\n",
       "    <tr>\n",
       "      <th>3</th>\n",
       "      <td>1.257538e+09</td>\n",
       "      <td>1.670043</td>\n",
       "    </tr>\n",
       "    <tr>\n",
       "      <th>4</th>\n",
       "      <td>1.257538e+09</td>\n",
       "      <td>1.682913</td>\n",
       "    </tr>\n",
       "    <tr>\n",
       "      <th>5</th>\n",
       "      <td>1.257538e+09</td>\n",
       "      <td>1.681928</td>\n",
       "    </tr>\n",
       "    <tr>\n",
       "      <th>6</th>\n",
       "      <td>1.257538e+09</td>\n",
       "      <td>1.675239</td>\n",
       "    </tr>\n",
       "    <tr>\n",
       "      <th>7</th>\n",
       "      <td>1.257538e+09</td>\n",
       "      <td>1.684586</td>\n",
       "    </tr>\n",
       "    <tr>\n",
       "      <th>8</th>\n",
       "      <td>1.257538e+09</td>\n",
       "      <td>1.686450</td>\n",
       "    </tr>\n",
       "    <tr>\n",
       "      <th>9</th>\n",
       "      <td>1.257538e+09</td>\n",
       "      <td>1.690983</td>\n",
       "    </tr>\n",
       "    <tr>\n",
       "      <th>10</th>\n",
       "      <td>1.257538e+09</td>\n",
       "      <td>1.675754</td>\n",
       "    </tr>\n",
       "    <tr>\n",
       "      <th>11</th>\n",
       "      <td>1.257538e+09</td>\n",
       "      <td>1.688578</td>\n",
       "    </tr>\n",
       "    <tr>\n",
       "      <th>12</th>\n",
       "      <td>1.257538e+09</td>\n",
       "      <td>1.692320</td>\n",
       "    </tr>\n",
       "    <tr>\n",
       "      <th>13</th>\n",
       "      <td>1.257538e+09</td>\n",
       "      <td>1.680142</td>\n",
       "    </tr>\n",
       "    <tr>\n",
       "      <th>14</th>\n",
       "      <td>1.257538e+09</td>\n",
       "      <td>1.679084</td>\n",
       "    </tr>\n",
       "    <tr>\n",
       "      <th>15</th>\n",
       "      <td>1.257538e+09</td>\n",
       "      <td>1.691249</td>\n",
       "    </tr>\n",
       "  </tbody>\n",
       "</table>\n",
       "</div>"
      ],
      "text/plain": [
       "            time        fd\n",
       "0   1.257538e+09  1.684230\n",
       "1   1.257538e+09  1.689104\n",
       "2   1.257538e+09  1.682224\n",
       "3   1.257538e+09  1.670043\n",
       "4   1.257538e+09  1.682913\n",
       "5   1.257538e+09  1.681928\n",
       "6   1.257538e+09  1.675239\n",
       "7   1.257538e+09  1.684586\n",
       "8   1.257538e+09  1.686450\n",
       "9   1.257538e+09  1.690983\n",
       "10  1.257538e+09  1.675754\n",
       "11  1.257538e+09  1.688578\n",
       "12  1.257538e+09  1.692320\n",
       "13  1.257538e+09  1.680142\n",
       "14  1.257538e+09  1.679084\n",
       "15  1.257538e+09  1.691249"
      ]
     },
     "execution_count": 138,
     "metadata": {},
     "output_type": "execute_result"
    }
   ],
   "source": [
    "data_fd"
   ]
  },
  {
   "cell_type": "code",
   "execution_count": 139,
   "id": "383cf22a-d855-40c5-b3e0-dc5550ae6f9f",
   "metadata": {},
   "outputs": [],
   "source": [
    "filename = \"FD_data/fd_calculation_\" + glitch_id + \"_aux_channel_\" + channel.replace(':', '_') + \".txt\"\n",
    "data_fd.to_csv(filename, sep='\\t', index=False)"
   ]
  },
  {
   "cell_type": "code",
   "execution_count": 140,
   "id": "3fc3f766-f9f7-4126-b7c9-4ef4ed5e1caf",
   "metadata": {},
   "outputs": [
    {
     "data": {
      "text/plain": [
       "<ErrorbarContainer object of 3 artists>"
      ]
     },
     "execution_count": 140,
     "metadata": {},
     "output_type": "execute_result"
    },
    {
     "data": {
      "image/png": "[encoded data removed]",
      "text/plain": [
       "<Figure size 640x480 with 1 Axes>"
      ]
     },
     "metadata": {},
     "output_type": "display_data"
    }
   ],
   "source": [
    "fig, ax = plt.subplots()\n",
    "plot_min_y = 1.0\n",
    "plot_max_y = 2.0\n",
    "\n",
    "ax.set_title(channel, fontsize=11)\n",
    "ax.tick_params(direction='in', length=6, width=0.5, colors='black', grid_color='r', grid_alpha=1)\n",
    "ax.set_xlabel(f\"{step} Seconds from GPS time {glitch_start_time}\", fontsize=11)\n",
    "ax.set_ylabel(\"Fractal dimension\",fontsize=11)\n",
    "ax.set_xlim([glitch_start_time,glitch_stop_time])\n",
    "ax.set_ylim([plot_min_y, plot_max_y])\n",
    "ax.set_xticks(np.linspace(glitch_start_time, glitch_stop_time, 9))\n",
    "ax.set_xticklabels(np.linspace(-2, 2, 9))\n",
    "\n",
    "ax.grid(which='both', axis='both', linestyle='--', color='k', linewidth=0.5)\n",
    "\n",
    "time = data_fd['time'].values\n",
    "step = time[1]-time[0]\n",
    "fd = data_fd['fd'].values\n",
    "ax.errorbar(time+step/2, fd, xerr=step/2, fmt='.', c='b')"
   ]
  },
  {
   "cell_type": "code",
   "execution_count": null,
   "id": "021ae805-51c9-4d5c-84b5-1124cabfd8df",
   "metadata": {},
   "outputs": [],
   "source": []
  }
 ],
 "metadata": {
  "kernelspec": {
   "display_name": "Python 3 (ipykernel)",
   "language": "python",
   "name": "python3"
  },
  "language_info": {
   "codemirror_mode": {
    "name": "ipython",
    "version": 3
   },
   "file_extension": ".py",
   "mimetype": "text/x-python",
   "name": "python",
   "nbconvert_exporter": "python",
   "pygments_lexer": "ipython3",
   "version": "3.10.14"
  }
 },
 "nbformat": 4,
 "nbformat_minor": 5
}

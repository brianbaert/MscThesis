{
 "cells": [
  {
   "cell_type": "markdown",
   "id": "3cb4773c-1f20-4f8a-a655-1f99f5e9ee2b",
   "metadata": {},
   "source": [
    "# Packages"
   ]
  },
  {
   "cell_type": "code",
   "execution_count": 3,
   "id": "32bc2bd7-cbab-4ed7-b205-c98b094ea4d5",
   "metadata": {},
   "outputs": [
    {
     "name": "stdout",
     "output_type": "stream",
     "text": [
      "4\n"
     ]
    }
   ],
   "source": [
    "#%cd /content/drive/MyDrive/MscThesis\n",
    "import warnings\n",
    "warnings.filterwarnings(\"ignore\")\n",
    "import numpy as np\n",
    "import os\n",
    "import pandas as pd\n",
    "import time\n",
    "import gwpy\n",
    "import nds2 # conda config --add channels conda-forge \\n conda install python-nds2-client\n",
    "import numba\n",
    "import h5py\n",
    "\n",
    "from gwpy.table import EventTable\n",
    "from gwpy.table import GravitySpyTable\n",
    "from gwpy.detector import ChannelList, Channel\n",
    "from gwpy.time import tconvert\n",
    "from gwpy.timeseries import TimeSeries #if this does not work, remove h5py and reinstall h5py\n",
    "from matplotlib.colors import ListedColormap\n",
    "from matplotlib.legend_handler import HandlerLine2D\n",
    "from matplotlib.lines import Line2D\n",
    "import matplotlib.cm as cm\n",
    "import matplotlib as mpl\n",
    "import matplotlib.pyplot as plt\n",
    "from astropy.table import vstack\n",
    "from datetime import datetime\n",
    "from PIL import Image\n",
    "from collections import Counter\n",
    "import matplotlib.pyplot as plt\n",
    "import seaborn as sns\n",
    "import torch\n",
    "import torch.optim as optim\n",
    "import torchvision\n",
    "import torchvision.models\n",
    "import torchvision.transforms as transforms\n",
    "from torch.optim import SGD, Adam, AdamW\n",
    "import torch.nn as nn\n",
    "import torch.nn.functional as F\n",
    "from torch.nn import CrossEntropyLoss\n",
    "from torch.utils.data import DataLoader, Dataset\n",
    "from torch.utils.tensorboard import SummaryWriter\n",
    "from torchvision.datasets import DatasetFolder, ImageFolder\n",
    "from tqdm import tqdm\n",
    "from sklearn import model_selection\n",
    "from sklearn.tree import DecisionTreeClassifier\n",
    "from sklearn.metrics import classification_report, confusion_matrix, f1_score, \\\n",
    "accuracy_score\n",
    "from avalanche.models import SlimResNet18, MTSlimResNet18, SimpleCNN\n",
    "from avalanche.models import as_multitask, IncrementalClassifier\n",
    "from avalanche.models.utils import avalanche_model_adaptation\n",
    "from avalanche.training import Naive, LwF, GenerativeReplay, ICaRLLossPlugin, ICaRL, EWC, AR1, LFL, AGEM\n",
    "from avalanche.logging import (\n",
    "    InteractiveLogger,\n",
    "    TextLogger,\n",
    "    CSVLogger,\n",
    ")\n",
    "from avalanche.training.plugins import EvaluationPlugin, ReplayPlugin, LwFPlugin, EarlyStoppingPlugin, AGEMPlugin\n",
    "from avalanche.training.plugins.lr_scheduling import LRSchedulerPlugin\n",
    "from avalanche.benchmarks import nc_benchmark, ni_benchmark\n",
    "from avalanche.benchmarks.utils import AvalancheDataset\n",
    "from avalanche.benchmarks.scenarios.dataset_scenario import benchmark_from_datasets\n",
    "from avalanche.benchmarks.scenarios.supervised import class_incremental_benchmark\n",
    "from avalanche.evaluation.metrics import forgetting_metrics, accuracy_metrics,loss_metrics, \\\n",
    "timing_metrics, cpu_usage_metrics, StreamConfusionMatrix, disk_usage_metrics, gpu_usage_metrics, \\\n",
    "confusion_matrix_metrics, bwt_metrics, forward_transfer_metrics, ram_usage_metrics, images_samples_metrics\n",
    "from avalanche.evaluation.metrics import Accuracy, BWT, Forgetting, ForwardTransfer\n",
    "import multiprocessing as mp\n",
    "\n",
    "import my_utils\n",
    "import my_architectures\n",
    "import my_dataloaders\n",
    "import my_gwpy_and_fractals\n",
    "import my_transformations\n",
    "\n",
    "IMG_SIZE = (224,224)\n",
    "\n",
    "device = torch.device(\"cuda:0\" if torch.cuda.is_available() else \"cpu\")\n",
    "\n",
    "# calculating the amount of workers usable\n",
    "number_of_workers = mp.cpu_count()\n",
    "number_of_workers = int(number_of_workers/2)\n",
    "print(number_of_workers)"
   ]
  },
  {
   "cell_type": "code",
   "execution_count": 4,
   "id": "74e6053a-9941-471c-b88d-5aabbcb8b96e",
   "metadata": {},
   "outputs": [
    {
     "name": "stdout",
     "output_type": "stream",
     "text": [
      "C:\\Users\\Brian.Baert\\Documents\\GitHub\\MscThesis\n"
     ]
    }
   ],
   "source": [
    "current_dir = %pwd\n",
    "print(current_dir)"
   ]
  },
  {
   "cell_type": "code",
   "execution_count": 5,
   "id": "8c2be1bc-93e4-492f-a98a-c98d02d7b8f2",
   "metadata": {},
   "outputs": [],
   "source": [
    "# Setting the correct directories\n",
    "#train_dir = 'D:\\\\Users\\\\Brian\\\\TrainingSet_CL_1\\\\TrainingSet_CL_1'\n",
    "train_dir = 'C:\\\\Users\\\\Brian.Baert\\\\TrainingSet_CL_1'\n",
    "#train_dir_2 = 'D:\\\\Users\\Brian\\\\TrainingSet_CL_2\\\\TrainingSet_CL_2'\n",
    "train_dir_2 = 'C:\\\\Users\\\\Brian.Baert\\\\TrainingSet_CL_2'\n",
    "#val_dir = 'D:\\\\Users\\\\Brian\\\\TestSet_CL\\\\TestSet_CL'\n",
    "val_dir = 'C:\\\\Users\\\\Brian.Baert\\\\ValidationSet_CL'\n",
    "#test_dir = 'D:\\\\Users\\\\Brian\\\\TestSet_CL\\\\TestSet_CL'\n",
    "test_dir = 'C:\\\\Users\\\\Brian.Baert\\\\TestSet_CL'\n",
    "\n",
    "# Read in class labels\n",
    "class_file = open(\"classes.txt\", \"r\")\n",
    "classes = class_file.read()\n",
    "classes = classes.split(\", \")"
   ]
  },
  {
   "cell_type": "code",
   "execution_count": 6,
   "id": "4e5f621b-73a4-43b9-9536-9ac9736ca8b2",
   "metadata": {},
   "outputs": [],
   "source": [
    "# Set the environment variables\n",
    "os.environ[\"GRAVITYSPY_DATABASE_USER\"] = \"mla\"\n",
    "os.environ[\"GRAVITYSPY_DATABASE_PASSWD\"] = \"gl1tch35Rb4d!\"\n",
    "glitch_labels = ['1400Ripples', '1080Lines', 'Air_Compressor', \n",
    "                 'Blip', 'Chirp', 'Extremely_Loud', 'Helix', 'Koi_Fish', 'Light_Modulation', \n",
    "                 'Low_Frequency_Burst', 'Low_Frequency_Lines', 'No_Glitch', 'None_of_the_Above', \n",
    "                 'Paired_Doves', 'Power_Line', 'Repeating_Blips', 'Scattered_Light', 'Scratchy', \n",
    "                 'Tomte', 'Violin_Mode', 'Wandering_Line', 'Whistle']\n",
    "O3b_start = 1256655618\n",
    "O3b_stop = 1269363618"
   ]
  },
  {
   "cell_type": "code",
   "execution_count": 7,
   "id": "1b66206f-dac8-47ce-923a-1edd703baba5",
   "metadata": {},
   "outputs": [],
   "source": [
    "O3b_csv = pd.read_csv('Data/data_o3b_high_confidence.csv')"
   ]
  },
  {
   "cell_type": "code",
   "execution_count": 8,
   "id": "e5555295-0063-4a04-b988-0586d178fad3",
   "metadata": {},
   "outputs": [],
   "source": [
    "FD_location = 'C:\\\\Users\\\\Brian.Baert\\\\FD_CL\\\\final_normalized_data.npy'"
   ]
  },
  {
   "cell_type": "code",
   "execution_count": 9,
   "id": "9eafd3b0-a201-44e3-9890-e1c554e25251",
   "metadata": {},
   "outputs": [
    {
     "data": {
      "text/plain": [
       "(3584, 347, 56)"
      ]
     },
     "execution_count": 9,
     "metadata": {},
     "output_type": "execute_result"
    }
   ],
   "source": [
    "fractal_matrices = np.load(FD_location)\n",
    "fractal_matrices.shape"
   ]
  },
  {
   "cell_type": "code",
   "execution_count": 55,
   "id": "42754155-dc34-4241-be96-520262232392",
   "metadata": {},
   "outputs": [],
   "source": [
    "no_glitch = fractal_matrices[0:895]\n",
    "whistle = fractal_matrices[896:1791]\n",
    "tomte = fractal_matrices[1792:2687]\n",
    "scattered_light = fractal_matrices[2688:3584]"
   ]
  },
  {
   "cell_type": "code",
   "execution_count": 56,
   "id": "1a0e2823-0ac9-4614-a925-f8e9a3ed19e8",
   "metadata": {},
   "outputs": [
    {
     "data": {
      "text/plain": [
       "(895, 347, 56)"
      ]
     },
     "execution_count": 56,
     "metadata": {},
     "output_type": "execute_result"
    }
   ],
   "source": []
  },
  {
   "cell_type": "code",
   "execution_count": 13,
   "id": "cc5cd6af-f169-4c0f-8303-8e51cb43f1bf",
   "metadata": {},
   "outputs": [],
   "source": [
    "f = h5py.File('C:\\\\Users\\\\Brian.Baert\\\\FD_CL\\\\FD_all_n=3584_2023-05-02.hdf5')"
   ]
  },
  {
   "cell_type": "code",
   "execution_count": 14,
   "id": "6774de54-b57b-4928-b324-6dbfdf19f4d6",
   "metadata": {},
   "outputs": [
    {
     "data": {
      "text/plain": [
       "['fd', 'metadata']"
      ]
     },
     "execution_count": 14,
     "metadata": {},
     "output_type": "execute_result"
    }
   ],
   "source": [
    "list(f)"
   ]
  },
  {
   "cell_type": "code",
   "execution_count": 23,
   "id": "72a4dd87-f86b-447d-bf09-8f8720e6e347",
   "metadata": {},
   "outputs": [
    {
     "name": "stdout",
     "output_type": "stream",
     "text": [
      "channels\n",
      "decimate\n",
      "kstep\n",
      "overlap\n",
      "psd_length\n",
      "scratch\n",
      "seg_len_start_idx\n",
      "seg_lengths\n",
      "times\n",
      "total_width\n",
      "whitened\n"
     ]
    }
   ],
   "source": [
    "for key in f['metadata'].keys():\n",
    "    print(key)"
   ]
  },
  {
   "cell_type": "code",
   "execution_count": null,
   "id": "a5135ce4-4b02-422e-92a4-2e26f95e1fff",
   "metadata": {},
   "outputs": [],
   "source": [
    " #3584 glitch calculations\n",
    "for key in f['fd'].keys():\n",
    "    print(key)"
   ]
  },
  {
   "cell_type": "code",
   "execution_count": 29,
   "id": "45c57b18-4c5f-4c40-9d08-35fe44af474a",
   "metadata": {},
   "outputs": [
    {
     "data": {
      "text/plain": [
       "1913"
      ]
     },
     "execution_count": 29,
     "metadata": {},
     "output_type": "execute_result"
    }
   ],
   "source": [
    "len(f['metadata']['channels'][:])"
   ]
  },
  {
   "cell_type": "code",
   "execution_count": 42,
   "id": "1346d0cc-abcf-429b-b899-5e5b1d81070f",
   "metadata": {},
   "outputs": [
    {
     "data": {
      "text/plain": [
       "<HDF5 dataset \"1238178793.877\": shape (1913, 56), type \"<f4\">"
      ]
     },
     "execution_count": 42,
     "metadata": {},
     "output_type": "execute_result"
    }
   ],
   "source": [
    "f['fd']['1238178793.877']"
   ]
  },
  {
   "cell_type": "code",
   "execution_count": null,
   "id": "17314576-677d-41c2-b1b0-2de99f3f38bf",
   "metadata": {},
   "outputs": [],
   "source": []
  }
 ],
 "metadata": {
  "kernelspec": {
   "display_name": "Python 3 (ipykernel)",
   "language": "python",
   "name": "python3"
  },
  "language_info": {
   "codemirror_mode": {
    "name": "ipython",
    "version": 3
   },
   "file_extension": ".py",
   "mimetype": "text/x-python",
   "name": "python",
   "nbconvert_exporter": "python",
   "pygments_lexer": "ipython3",
   "version": "3.10.14"
  }
 },
 "nbformat": 4,
 "nbformat_minor": 5
}

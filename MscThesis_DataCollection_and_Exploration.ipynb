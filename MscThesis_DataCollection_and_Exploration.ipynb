{
 "cells": [
  {
   "cell_type": "code",
   "execution_count": 1,
   "id": "3dc229ed-0c5a-4362-965c-db43b2fe6f83",
   "metadata": {},
   "outputs": [],
   "source": [
    "import gwpy\n",
    "from gwpy.table import EventTable\n",
    "from gwpy.table import GravitySpyTable\n",
    "from astropy.table import vstack\n",
    "from datetime import datetime\n",
    "from PIL import Image\n",
    "import matplotlib.pyplot as plt\n",
    "import numpy as np\n",
    "import os"
   ]
  },
  {
   "cell_type": "code",
   "execution_count": 2,
   "id": "dd660051-3782-4ffe-b245-e5e81b9a4e11",
   "metadata": {},
   "outputs": [],
   "source": [
    "# Set the environment variables\n",
    "os.environ[\"GRAVITYSPY_DATABASE_USER\"] = \"mla\"\n",
    "os.environ[\"GRAVITYSPY_DATABASE_PASSWD\"] = \"gl1tch35Rb4d!\"\n",
    "glitch_labels = ['1400Ripples', '1080Lines', 'Air_Compressor', \n",
    "                 'Blip', 'Chirp', 'Extremely_Loud', 'Helix', 'Koi_Fish', 'Light_Modulation', \n",
    "                 'Low_Frequency_Burst', 'Low_Frequency_Lines', 'No_Glitch', 'None_of_the_Above', \n",
    "                 'Paired_Doves', 'Power_Line', 'Repeating_Blips', 'Scattered_Light', 'Scratchy', \n",
    "                 'Tomte', 'Violin_Mode', 'Wandering_Line', 'Whistle']\n",
    "O3b_start = 1256655618\n",
    "O3b_stop = 1269363618"
   ]
  },
  {
   "cell_type": "code",
   "execution_count": null,
   "id": "01bd1ae7-50e9-48d6-9e53-9eb60569862d",
   "metadata": {},
   "outputs": [],
   "source": [
    "_1400Ripples_03b = EventTable.fetch('gravityspy', 'glitches', selection=['\"ml_label\"=\"1400Ripples\"', '1269363618 > \"peak_time\" > 1256655618'])\n",
    "_1080Lines_03b = EventTable.fetch('gravityspy', 'glitches', selection=['\"ml_label\"=\"1080Lines\"', '1269363618 > \"peak_time\" > 1256655618'])"
   ]
  },
  {
   "cell_type": "code",
   "execution_count": null,
   "id": "8ef9d4d4-6112-4d37-bac8-b9e1edfa66a8",
   "metadata": {},
   "outputs": [],
   "source": [
    "Air_Compressor_03b = EventTable.fetch('gravityspy', 'glitches', selection=['\"ml_label\"=\"Air_Compressor\"', '1269363618 > \"peak_time\" > 1256655618'])\n",
    "Blips_03b = EventTable.fetch('gravityspy', 'glitches', selection=['\"ml_label\"=\"Blip\"', '1269363618 > \"peak_time\" > 1256655618'])"
   ]
  },
  {
   "cell_type": "code",
   "execution_count": null,
   "id": "6b712041-42d7-49c8-87b2-3ff42b1322c2",
   "metadata": {},
   "outputs": [],
   "source": [
    "Chirp_03b = EventTable.fetch('gravityspy', 'glitches', selection=['\"ml_label\"=\"Chirp\"', '1269363618 > \"peak_time\" > 1256655618'])\n",
    "Extremely_Loud_03b = EventTable.fetch('gravityspy', 'glitches', selection=['\"ml_label\"=\"Extremely_Loud\"', '1269363618 > \"peak_time\" > 1256655618'])"
   ]
  },
  {
   "cell_type": "code",
   "execution_count": null,
   "id": "a13212a6-1e4b-45d6-a31f-fd0eb08061aa",
   "metadata": {},
   "outputs": [],
   "source": [
    "Helix_03b = EventTable.fetch('gravityspy', 'glitches', selection=['\"ml_label\"=\"Helix\"', '1269363618 > \"peak_time\" > 1256655618'])\n",
    "Koi_Fish_03b = EventTable.fetch('gravityspy', 'glitches', selection=['\"ml_label\"=\"Koi_Fish\"', '1269363618 > \"peak_time\" > 1256655618'])"
   ]
  },
  {
   "cell_type": "code",
   "execution_count": null,
   "id": "80f441ca-7adf-4d3d-843d-5acbc3277dab",
   "metadata": {},
   "outputs": [],
   "source": [
    "Light_Modulation_03b = EventTable.fetch('gravityspy', 'glitches', selection=['\"ml_label\"=\"Light_Modulation\"', '1269363618 > \"peak_time\" > 1256655618'])\n",
    "Low_Frequency_Burst_03b = EventTable.fetch('gravityspy', 'glitches', selection=['\"ml_label\"=\"Low_Frequency_Burst\"', '1269363618 > \"peak_time\" > 1256655618'])"
   ]
  },
  {
   "cell_type": "code",
   "execution_count": null,
   "id": "60ffccb7-0ee9-4f11-b694-18cf2d20c12c",
   "metadata": {},
   "outputs": [],
   "source": [
    "Low_Frequency_Lines_03b = EventTable.fetch('gravityspy', 'glitches', selection=['\"ml_label\"=\"Low_Frequency_Lines\"', '1269363618 > \"peak_time\" > 1256655618'])\n",
    "No_Glitch_03b = EventTable.fetch('gravityspy', 'glitches', selection=['\"ml_label\"=\"No_Glitch\"', '1269363618 > \"peak_time\" > 1256655618'])"
   ]
  },
  {
   "cell_type": "code",
   "execution_count": null,
   "id": "969790ce-a8e7-4a7a-95dd-cf32c8a86bb2",
   "metadata": {},
   "outputs": [],
   "source": [
    "None_of_the_Above_03b = EventTable.fetch('gravityspy', 'glitches', selection=['\"ml_label\"=\"None_of_the_Above\"', '1269363618 > \"peak_time\" > 1256655618'])\n",
    "Paired_Doves_03b = EventTable.fetch('gravityspy', 'glitches', selection=['\"ml_label\"=\"Paired_Doves\"', '1269363618 > \"peak_time\" > 1256655618'])"
   ]
  },
  {
   "cell_type": "code",
   "execution_count": null,
   "id": "b7a01d0c-d4f1-4162-8a3b-b5296c5ccad7",
   "metadata": {},
   "outputs": [],
   "source": [
    "Power_Line_03b = EventTable.fetch('gravityspy', 'glitches', selection=['\"ml_label\"=\"Power_Line\"', '1269363618 > \"peak_time\" > 1256655618'])\n",
    "Repeating_Blips_03b = EventTable.fetch('gravityspy', 'glitches', selection=['\"ml_label\"=\"Repeating_Blips\"', '1269363618 > \"peak_time\" > 1256655618'])"
   ]
  },
  {
   "cell_type": "code",
   "execution_count": null,
   "id": "7774b55c-32d4-4787-9bb1-5a4cb4dd617f",
   "metadata": {},
   "outputs": [],
   "source": [
    "Scattered_Light_03b = EventTable.fetch('gravityspy', 'glitches', selection=['\"ml_label\"=\"Scattered_Light\"', '1269363618 > \"peak_time\" > 1256655618'])\n",
    "Scratchy_03b = EventTable.fetch('gravityspy', 'glitches', selection=['\"ml_label\"=\"Scratchy\"', '1269363618 > \"peak_time\" > 1256655618'])"
   ]
  },
  {
   "cell_type": "code",
   "execution_count": null,
   "id": "9cf24fad-b5f9-49d0-bbe7-64f9efcca59f",
   "metadata": {},
   "outputs": [],
   "source": [
    "Tomte_03b = EventTable.fetch('gravityspy', 'glitches', selection=['\"ml_label\"=\"Tomte\"', '1269363618 > \"peak_time\" > 1256655618'])\n",
    "Violin_Mode_03b = EventTable.fetch('gravityspy', 'glitches', selection=['\"ml_label\"=\"Violin_Mode\"', '1269363618 > \"peak_time\" > 1256655618'])"
   ]
  },
  {
   "cell_type": "code",
   "execution_count": null,
   "id": "afa1cccc-39e7-4f2e-8776-3e92b429c355",
   "metadata": {},
   "outputs": [],
   "source": [
    "Whistle_03b = EventTable.fetch('gravityspy', 'glitches', selection=['\"ml_label\"=\"Whistle\"', '1269363618 > \"peak_time\" > 1256655618'])"
   ]
  },
  {
   "cell_type": "code",
   "execution_count": null,
   "id": "3ce0f7c5-e636-4001-8e3f-46453fe2d65e",
   "metadata": {},
   "outputs": [],
   "source": [
    "O3b_glitches = EventTable.fetch('gravityspy', 'glitches', selection=['1269363618 > \"peak_time\" > 1256655618'])"
   ]
  },
  {
   "cell_type": "code",
   "execution_count": null,
   "id": "b32f9448-4e6b-47d6-9f69-c904c6162069",
   "metadata": {},
   "outputs": [],
   "source": [
    "Wandering_Line_03b = O3b_glitches[O3b_glitches['ml_label']==\"Wandering_Line\"]"
   ]
  },
  {
   "cell_type": "code",
   "execution_count": null,
   "id": "1d405461-cb3c-4ba3-bf25-a5fb201a1963",
   "metadata": {},
   "outputs": [],
   "source": [
    "#blips_03b.colnames"
   ]
  },
  {
   "cell_type": "markdown",
   "id": "3fad1244-7cde-4d68-9779-9756934448d7",
   "metadata": {},
   "source": [
    "glitch_labels = ['1400Ripples', '1080Lines', 'Air_Compressor', \n",
    "                 'Blip', 'Chirp', 'Extremely_Loud', 'Helix', 'Koi_Fish', 'Light_Modulation', \n",
    "                 'Low_Frequency_Burst', 'Low_Frequency_Lines', 'No_Glitch', 'None_of_the_Above', \n",
    "                 'Paired_Doves', 'Power_Line', 'Repeating_Blips', 'Scattered_Light', 'Scratchy', \n",
    "                 'Tomte', 'Violin_Mode', 'Wandering_Line', 'Whistle']\n"
   ]
  },
  {
   "cell_type": "code",
   "execution_count": null,
   "id": "3a5e4bc4-789d-42de-a39e-78fe5e185fca",
   "metadata": {},
   "outputs": [],
   "source": [
    "_1400Ripples_03b_selection = _1400Ripples_03b[0:50]\n",
    "_1080Lines_03b_selection = _1080Lines_03b[0:50]\n",
    "Air_Compressor_03b_selection = Air_Compressor_03b[0:50]\n",
    "Blips_03b_selection = Blips_03b[0:50]\n",
    "Chirp_03b_selection = Chirp_03b[0:50]\n",
    "Extremely_Loud_03b_selection = Extremely_Loud_03b[0:50]\n",
    "Helix_03b_selection = Helix_03b[0:50]\n",
    "Koi_Fish_03b_selection = Koi_Fish_03b[0:50]\n",
    "Light_Modulation_03b_selection = Light_Modulation_03b[0:50]\n",
    "Low_Frequency_Burst_03b_selection = Low_Frequency_Burst_03b[0:50]\n",
    "Low_Frequency_Lines_03b_selection = Low_Frequency_Lines_03b[0:50]\n",
    "No_Glitch_03b_selection = No_Glitch_03b[0:50]\n",
    "None_of_the_Above_03b_selection = None_of_the_Above_03b[0:50]\n",
    "Paired_Doves_03b_selection = Paired_Doves_03b[0:50]\n",
    "Power_Line_03b_selection = Power_Line_03b[0:50]\n",
    "Repeating_Blips_03b_selection = Repeating_Blips_03b[0:50]\n",
    "Scattered_Light_03b_selection = Scattered_Light_03b[0:50]\n",
    "Scratchy_03b_selection = Scratchy_03b[0:50]\n",
    "Tomte_03b_selection = Tomte_03b[0:50]\n",
    "Violin_Mode_03b_selection = Violin_Mode_03b[0:50]\n",
    "Wandering_Line_03b_selection = Wandering_Line_03b[0:50]\n",
    "whistle_03b_selection = Whistle_03b[0:50]"
   ]
  },
  {
   "cell_type": "code",
   "execution_count": null,
   "id": "def29786-d5b6-4361-b30e-2d66f900a381",
   "metadata": {},
   "outputs": [],
   "source": [
    "trainingset = vstack([_1400Ripples_03b_selection, _1080Lines_03b_selection, Air_Compressor_03b_selection, Blips_03b_selection,\n",
    "                     Chirp_03b_selection, Extremely_Loud_03b_selection, Helix_03b_selection, Koi_Fish_03b_selection, \n",
    "                     Light_Modulation_03b_selection, Low_Frequency_Burst_03b_selection, Low_Frequency_Lines_03b_selection,\n",
    "                     No_Glitch_03b_selection, None_of_the_Above_03b_selection, Paired_Doves_03b_selection, \n",
    "                     Power_Line_03b_selection, Repeating_Blips_03b_selection, Scattered_Light_03b_selection, \n",
    "                     Scratchy_03b_selection, Tomte_03b_selection, Violin_Mode_03b_selection, Wandering_Line_03b_selection,\n",
    "                     whistle_03b_selection])"
   ]
  },
  {
   "cell_type": "code",
   "execution_count": null,
   "id": "86e943ca-03b3-42fb-9c63-9325010e2b13",
   "metadata": {},
   "outputs": [],
   "source": [
    "now = datetime.now()\n",
    "current_time = now.strftime(\"%H:%M:%S\")\n",
    "print(\"Start Time =\", current_time)\n",
    "trainingset.download(nproc=4, training_set=True, download_path='TrainingSet')\n",
    "now = datetime.now()\n",
    "current_time = now.strftime(\"%H:%M:%S\")\n",
    "print(\"End Time =\", current_time)"
   ]
  },
  {
   "cell_type": "code",
   "execution_count": 3,
   "id": "fe5a9439-6420-4af5-9cca-5c3f21529c7f",
   "metadata": {},
   "outputs": [
    {
     "data": {
      "text/plain": [
       "'C:\\\\Users\\\\Brian.Baert\\\\Documents\\\\GitHub\\\\MscThesis'"
      ]
     },
     "execution_count": 3,
     "metadata": {},
     "output_type": "execute_result"
    }
   ],
   "source": [
    "#?trainingset.download\n",
    "%pwd"
   ]
  },
  {
   "cell_type": "code",
   "execution_count": null,
   "id": "7b016164-3fcf-49cd-b4b4-7de4c5603780",
   "metadata": {},
   "outputs": [],
   "source": [
    "img = Image.open('C:\\\\Users\\\\Brian.Baert\\\\TrainingSet\\\\Wandering_Line\\\\L1_cIUHNUrayW_spectrogram_1.0.png')\n",
    "imgplot = plt.imshow(img)"
   ]
  },
  {
   "cell_type": "code",
   "execution_count": null,
   "id": "f1c6b4a8-c986-4e4c-9f7e-9319c100968f",
   "metadata": {},
   "outputs": [],
   "source": [
    "#box – a 4-tuple defining the left, upper, right, and lower pixel coordinate.\n",
    "#box = (60,100,580,675)\n",
    "#left, upper, right, lower = 100, 60, 100 + 675, 60 + 580\n",
    "left, upper, right, lower = 100, 60, 675, 540\n",
    "box = (left, upper, right, lower)\n",
    "img2 = img.crop(box)\n",
    "imgplot = plt.imshow(img2)"
   ]
  },
  {
   "cell_type": "code",
   "execution_count": 4,
   "id": "a6ba1e20-b30d-4042-897f-653a830f288f",
   "metadata": {},
   "outputs": [],
   "source": [
    "L1_O3b = GravitySpyTable.read('C:\\\\Users\\Brian.Baert\\\\CSV_files\\\\L1_O3b.csv')\n",
    "# 'event_time', 'ml_label', 'ml_confidence'\n",
    "L1_O3b = L1_O3b[(L1_O3b[\"ml_confidence\"] > 0.9)]"
   ]
  },
  {
   "cell_type": "code",
   "execution_count": 5,
   "id": "86dfdab7-a373-4d12-a956-ff23a9b9ef4a",
   "metadata": {},
   "outputs": [
    {
     "name": "stdout",
     "output_type": "stream",
     "text": [
      "Top 10 glitches with highest occurrences: \n",
      "Scattered_Light: 44682 occurrences\n",
      "Fast_Scattering: 36918 occurrences\n",
      "Tomte: 22361 occurrences\n",
      "Blip_Low_Frequency: 8728 occurrences\n",
      "Whistle: 5381 occurrences\n",
      "Extremely_Loud: 3461 occurrences\n",
      "Low_Frequency_Lines: 3190 occurrences\n",
      "Koi_Fish: 3010 occurrences\n",
      "Low_Frequency_Burst: 2918 occurrences\n",
      "Blip: 2564 occurrences\n"
     ]
    }
   ],
   "source": [
    "temp = L1_O3b[\"ml_label\"].tolist()\n",
    "temp_set = set(temp)\n",
    "label_counts = {}\n",
    "for label in temp_set:\n",
    "    nrOfOcc = temp.count(label)\n",
    "    label_counts[label] = nrOfOcc\n",
    "sorted_labels = sorted(label_counts.items(), key=lambda x: x[1], reverse=True)\n",
    "top_10_glitches = [(label, count) for label, count in sorted_labels[:10]]\n",
    "print(\"Top 10 glitches with highest occurrences: \")\n",
    "for label, count in top_10_glitches:\n",
    "    print(f\"{label}: {count} occurrences\")"
   ]
  },
  {
   "cell_type": "code",
   "execution_count": 6,
   "id": "ac5a81e3-c537-49ab-9721-5d489a83c438",
   "metadata": {},
   "outputs": [],
   "source": [
    "Scattered_Light_03b = EventTable.fetch('gravityspy', 'glitches', selection=['\"ml_label\"=\"Scattered_Light\"', \n",
    "                                                                            '1269363618 > \"peak_time\" > 1256655618', \n",
    "                                                                            '\"ml_confidence\" > 0.9'])\n",
    "Tomte_03b = EventTable.fetch('gravityspy', 'glitches', selection=['\"ml_label\"=\"Tomte\"', \n",
    "                                                                            '1269363618 > \"peak_time\" > 1256655618', \n",
    "                                                                            '\"ml_confidence\" > 0.9'])\n",
    "Whiste_O3b = EventTable.fetch('gravityspy', 'glitches', selection=['\"ml_label\"=\"Whistle\"', \n",
    "                                                                            '1269363618 > \"peak_time\" > 1256655618', \n",
    "                                                                            '\"ml_confidence\" > 0.9'])\n",
    "Extremely_Loud_O3b = EventTable.fetch('gravityspy', 'glitches', selection=['\"ml_label\"=\"Extremely_Loud\"', \n",
    "                                                                            '1269363618 > \"peak_time\" > 1256655618', \n",
    "                                                                            '\"ml_confidence\" > 0.9'])\n",
    "Low_Frequency_Lines_O3b = EventTable.fetch('gravityspy', 'glitches', selection=['\"ml_label\"=\"Low_Frequency_Lines\"', \n",
    "                                                                            '1269363618 > \"peak_time\" > 1256655618', \n",
    "                                                                            '\"ml_confidence\" > 0.9'])\n",
    "Koi_Fish_O3b = EventTable.fetch('gravityspy', 'glitches', selection=['\"ml_label\"=\"Koi_Fish\"', \n",
    "                                                                            '1269363618 > \"peak_time\" > 1256655618', \n",
    "                                                                            '\"ml_confidence\" > 0.9'])\n",
    "Low_Frequency_Burst_O3b = EventTable.fetch('gravityspy', 'glitches', selection=['\"ml_label\"=\"Low_Frequency_Burst\"', \n",
    "                                                                            '1269363618 > \"peak_time\" > 1256655618', \n",
    "                                                                            '\"ml_confidence\" > 0.9'])\n",
    "Blip_O3b = EventTable.fetch('gravityspy', 'glitches', selection=['\"ml_label\"=\"Blip\"', \n",
    "                                                                            '1269363618 > \"peak_time\" > 1256655618', \n",
    "                                                                            '\"ml_confidence\" > 0.9'])"
   ]
  },
  {
   "cell_type": "code",
   "execution_count": 7,
   "id": "59a52f45-0839-4679-bbf2-7dabe90878b5",
   "metadata": {},
   "outputs": [],
   "source": [
    "Scattered_Light_03b_selection = Scattered_Light_03b[251:300]\n",
    "Tomte_03b_selection = Tomte_03b[251:300]\n",
    "Whiste_O3b_selection = Whiste_O3b[251:300]\n",
    "Extremely_Loud_O3b_selection = Extremely_Loud_O3b[251:300]\n",
    "Low_Frequency_Lines_O3b_selection = Low_Frequency_Lines_O3b[251:300]\n",
    "Koi_Fish_O3b_selection = Koi_Fish_O3b[251:300]\n",
    "Low_Frequency_Burst_O3b_selection = Low_Frequency_Burst_O3b[251:300]\n",
    "Blip_O3b_selection = Blip_O3b[251:300]"
   ]
  },
  {
   "cell_type": "code",
   "execution_count": 8,
   "id": "0c1cfa83-8cf3-4a46-8bca-a107f6d3bb05",
   "metadata": {},
   "outputs": [],
   "source": [
    "trainingset = vstack([Scattered_Light_03b_selection, Tomte_03b_selection, Whiste_O3b_selection, Extremely_Loud_O3b_selection, \n",
    "                      Low_Frequency_Lines_O3b_selection, Koi_Fish_O3b_selection, Low_Frequency_Burst_O3b_selection, Blip_O3b_selection])"
   ]
  },
  {
   "cell_type": "code",
   "execution_count": 9,
   "id": "bd59a01b-3aa1-4d59-86bb-ac4054314fdc",
   "metadata": {},
   "outputs": [
    {
     "name": "stdout",
     "output_type": "stream",
     "text": [
      "Start Time = 08:56:32\n",
      "End Time = 09:13:07\n"
     ]
    }
   ],
   "source": [
    "now = datetime.now()\n",
    "current_time = now.strftime(\"%H:%M:%S\")\n",
    "print(\"Start Time =\", current_time)\n",
    "trainingset.download(nproc=4, training_set=True, download_path='TestSet_CL')\n",
    "now = datetime.now()\n",
    "current_time = now.strftime(\"%H:%M:%S\")\n",
    "print(\"End Time =\", current_time)"
   ]
  },
  {
   "cell_type": "code",
   "execution_count": 10,
   "id": "87b3dfbf-808c-412f-a48a-ba8b155d8c5b",
   "metadata": {},
   "outputs": [
    {
     "name": "stdout",
     "output_type": "stream",
     "text": [
      "Start Time = 09:13:07\n",
      "End Time = 09:15:13\n"
     ]
    }
   ],
   "source": [
    "now = datetime.now()\n",
    "current_time = now.strftime(\"%H:%M:%S\")\n",
    "print(\"Start Time =\", current_time)\n",
    "Fast_Scattering_03b_selection = L1_O3b[(L1_O3b[\"ml_label\"]==\"Fast_Scattering\")]\n",
    "Fast_Scattering_03b_selection[451:500].download(nproc=4, training_set=True, download_path='TestSet_CL/Fast_Scattering')\n",
    "now = datetime.now()\n",
    "current_time = now.strftime(\"%H:%M:%S\")\n",
    "print(\"End Time =\", current_time)"
   ]
  },
  {
   "cell_type": "code",
   "execution_count": 11,
   "id": "7485ed67-33b2-4af1-9a21-320fe6d8bb6b",
   "metadata": {},
   "outputs": [
    {
     "name": "stdout",
     "output_type": "stream",
     "text": [
      "Start Time = 09:15:14\n",
      "End Time = 09:17:18\n"
     ]
    }
   ],
   "source": [
    "now = datetime.now()\n",
    "current_time = now.strftime(\"%H:%M:%S\")\n",
    "print(\"Start Time =\", current_time)\n",
    "Fast_Scattering_03b_selection = L1_O3b[(L1_O3b[\"ml_label\"]==\"Blip_Low_Frequency\")]\n",
    "Fast_Scattering_03b_selection[451:500].download(nproc=4, training_set=True, download_path='TestSet_CL/Blip_Low_Frequency_CL')\n",
    "now = datetime.now()\n",
    "current_time = now.strftime(\"%H:%M:%S\")\n",
    "print(\"End Time =\", current_time)"
   ]
  },
  {
   "cell_type": "code",
   "execution_count": 21,
   "id": "9e1e61ca-6e87-4ac6-af69-089dbfa94a35",
   "metadata": {},
   "outputs": [
    {
     "name": "stdout",
     "output_type": "stream",
     "text": [
      "All images cropped and saved successfully.\n"
     ]
    }
   ],
   "source": [
    "# crop all images accordingly --> EXECUTE ONLY ONCE!!!!\n",
    "import os\n",
    "import cv2\n",
    "\n",
    "# Define the input and output directories\n",
    "input_dir = 'C:\\\\Users\\\\Brian.Baert\\\\TestSet_CL\\\\Whistle'\n",
    "output_dir = 'C:\\\\Users\\\\Brian.Baert\\\\TestSet_CL\\\\Whistle'\n",
    "\n",
    "# Iterate over each file in the input directory\n",
    "for filename in os.listdir(input_dir):\n",
    "    # Read the image\n",
    "    img = cv2.imread(os.path.join(input_dir, filename))\n",
    "    \n",
    "    # Crop the image (adjust the coordinates as needed)\n",
    "    #box – a 4-tuple defining the left, upper, right, and lower pixel coordinate.\n",
    "    #box = (60,100,580,675)\n",
    "    #left, upper, right, lower = 100, 60, 100 + 675, 60 + 580\n",
    "    left, upper, right, lower = 100, 60, 675, 540\n",
    "    #box = (left, upper, right, lower)\n",
    "    img_cropped = img[upper:lower, left:right]\n",
    "    \n",
    "    # Save the cropped image with the original filename in the output directory\n",
    "    \n",
    "    cv2.imwrite(os.path.join(output_dir, filename), img_cropped)\n",
    "\n",
    "print(\"All images cropped and saved successfully.\")"
   ]
  },
  {
   "cell_type": "code",
   "execution_count": null,
   "id": "5a8f0a68-bab2-437f-88cf-e98fb0a49d6b",
   "metadata": {},
   "outputs": [],
   "source": []
  }
 ],
 "metadata": {
  "kernelspec": {
   "display_name": "Python 3 (ipykernel)",
   "language": "python",
   "name": "python3"
  },
  "language_info": {
   "codemirror_mode": {
    "name": "ipython",
    "version": 3
   },
   "file_extension": ".py",
   "mimetype": "text/x-python",
   "name": "python",
   "nbconvert_exporter": "python",
   "pygments_lexer": "ipython3",
   "version": "3.10.14"
  }
 },
 "nbformat": 4,
 "nbformat_minor": 5
}
